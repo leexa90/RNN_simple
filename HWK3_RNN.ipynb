{
 "cells": [
  {
   "cell_type": "code",
   "execution_count": 11,
   "metadata": {
    "colab": {
     "base_uri": "https://localhost:8080/",
     "height": 645
    },
    "colab_type": "code",
    "collapsed": false,
    "deletable": true,
    "editable": true,
    "id": "NMu6QSKLbQk0",
    "outputId": "600ca490-0343-44a1-a6c4-6dc172431bb1"
   },
   "outputs": [
    {
     "name": "stdout",
     "output_type": "stream",
     "text": [
      "Requirement already up-to-date: keras in /usr/local/lib/python2.7/dist-packages (2.2.4)\n",
      "Requirement already up-to-date: nltk in /usr/local/lib/python2.7/dist-packages (3.3)\n",
      "Requirement already satisfied, skipping upgrade: keras-applications>=1.0.6 in /usr/local/lib/python2.7/dist-packages (from keras) (1.0.6)\n",
      "Requirement already satisfied, skipping upgrade: numpy>=1.9.1 in /usr/local/lib/python2.7/dist-packages (from keras) (1.14.6)\n",
      "Requirement already satisfied, skipping upgrade: keras-preprocessing>=1.0.5 in /usr/local/lib/python2.7/dist-packages (from keras) (1.0.5)\n",
      "Requirement already satisfied, skipping upgrade: h5py in /usr/local/lib/python2.7/dist-packages (from keras) (2.8.0)\n",
      "Requirement already satisfied, skipping upgrade: scipy>=0.14 in /usr/local/lib/python2.7/dist-packages (from keras) (0.19.1)\n",
      "Requirement already satisfied, skipping upgrade: pyyaml in /usr/local/lib/python2.7/dist-packages (from keras) (3.13)\n",
      "Requirement already satisfied, skipping upgrade: six>=1.9.0 in /usr/local/lib/python2.7/dist-packages (from keras) (1.11.0)\n",
      "Requirement already up-to-date: tensorflow==1.3 in /usr/local/lib/python2.7/dist-packages (1.3.0)\n",
      "Requirement already satisfied, skipping upgrade: numpy>=1.11.0 in /usr/local/lib/python2.7/dist-packages (from tensorflow==1.3) (1.14.6)\n",
      "Requirement already satisfied, skipping upgrade: mock>=2.0.0 in /usr/local/lib/python2.7/dist-packages (from tensorflow==1.3) (2.0.0)\n",
      "Requirement already satisfied, skipping upgrade: protobuf>=3.3.0 in /usr/local/lib/python2.7/dist-packages (from tensorflow==1.3) (3.6.1)\n",
      "Requirement already satisfied, skipping upgrade: wheel in /usr/local/lib/python2.7/dist-packages (from tensorflow==1.3) (0.32.1)\n",
      "Requirement already satisfied, skipping upgrade: backports.weakref>=1.0rc1 in /usr/local/lib/python2.7/dist-packages (from tensorflow==1.3) (1.0.post1)\n",
      "Requirement already satisfied, skipping upgrade: six>=1.10.0 in /usr/local/lib/python2.7/dist-packages (from tensorflow==1.3) (1.11.0)\n",
      "Requirement already satisfied, skipping upgrade: tensorflow-tensorboard<0.2.0,>=0.1.0 in /usr/local/lib/python2.7/dist-packages (from tensorflow==1.3) (0.1.8)\n",
      "Requirement already satisfied, skipping upgrade: funcsigs>=1; python_version < \"3.3\" in /usr/local/lib/python2.7/dist-packages (from mock>=2.0.0->tensorflow==1.3) (1.0.2)\n",
      "Requirement already satisfied, skipping upgrade: pbr>=0.11 in /usr/local/lib/python2.7/dist-packages (from mock>=2.0.0->tensorflow==1.3) (5.0.0)\n",
      "Requirement already satisfied, skipping upgrade: setuptools in /usr/local/lib/python2.7/dist-packages (from protobuf>=3.3.0->tensorflow==1.3) (40.4.3)\n",
      "Requirement already satisfied, skipping upgrade: bleach==1.5.0 in /usr/local/lib/python2.7/dist-packages (from tensorflow-tensorboard<0.2.0,>=0.1.0->tensorflow==1.3) (1.5.0)\n",
      "Requirement already satisfied, skipping upgrade: html5lib==0.9999999 in /usr/local/lib/python2.7/dist-packages (from tensorflow-tensorboard<0.2.0,>=0.1.0->tensorflow==1.3) (0.9999999)\n",
      "Requirement already satisfied, skipping upgrade: werkzeug>=0.11.10 in /usr/local/lib/python2.7/dist-packages (from tensorflow-tensorboard<0.2.0,>=0.1.0->tensorflow==1.3) (0.14.1)\n",
      "Requirement already satisfied, skipping upgrade: markdown>=2.6.8 in /usr/local/lib/python2.7/dist-packages (from tensorflow-tensorboard<0.2.0,>=0.1.0->tensorflow==1.3) (3.0.1)\n",
      "Collecting glove_python\n",
      "\u001b[?25l  Downloading https://files.pythonhosted.org/packages/3e/79/7e7e548dd9dcb741935d031117f4bed133276c2a047aadad42f1552d1771/glove_python-0.1.0.tar.gz (263kB)\n",
      "\u001b[K    100% |████████████████████████████████| 266kB 14.8MB/s \n",
      "\u001b[?25hRequirement already satisfied, skipping upgrade: numpy in /usr/local/lib/python2.7/dist-packages (from glove_python) (1.14.6)\n",
      "Requirement already satisfied, skipping upgrade: scipy in /usr/local/lib/python2.7/dist-packages (from glove_python) (0.19.1)\n",
      "Building wheels for collected packages: glove-python\n",
      "  Running setup.py bdist_wheel for glove-python ... \u001b[?25l-\b \b\\\b \b|\b \b/\b \b-\b \b\\\b \b|\b \bdone\n",
      "\u001b[?25h  Stored in directory: /root/.cache/pip/wheels/88/4b/6d/10c0d2ad32c9d9d68beec9694a6f0b6e83ab1662a90a089a4b\n",
      "Successfully built glove-python\n",
      "Installing collected packages: glove-python\n",
      "Successfully installed glove-python-0.1.0\n"
     ]
    }
   ],
   "source": [
    "# install stuff\n",
    "!pip install -U keras nltk\n",
    "!pip install -U tensorflow==1.3\n",
    "!pip install -U glove_python"
   ]
  },
  {
   "cell_type": "code",
   "execution_count": 0,
   "metadata": {
    "colab": {
     "base_uri": "https://localhost:8080/",
     "height": 34
    },
    "colab_type": "code",
    "collapsed": false,
    "deletable": true,
    "editable": true,
    "id": "5I-f5pebbL6l",
    "outputId": "74aecc75-f3cc-475b-cc1a-989d3c43d17d"
   },
   "outputs": [
    {
     "name": "stdout",
     "output_type": "stream",
     "text": [
      "Found GPU at: /device:GPU:0\n"
     ]
    }
   ],
   "source": [
    "import tensorflow as tf\n",
    "device_name = tf.test.gpu_device_name()\n",
    "if device_name != '/device:GPU:0':\n",
    "  print (\" SystemError('GPU device not found It is ok, you only need for training'\")\n",
    "print('Found GPU at: {}'.format(device_name))"
   ]
  },
  {
   "cell_type": "code",
   "execution_count": 0,
   "metadata": {
    "colab": {
     "base_uri": "https://localhost:8080/",
     "height": 367
    },
    "colab_type": "code",
    "collapsed": false,
    "deletable": true,
    "editable": true,
    "id": "TD8EM9CvbFNU",
    "outputId": "e905e266-d0b4-4713-c413-15110af2cb0d"
   },
   "outputs": [
    {
     "name": "stdout",
     "output_type": "stream",
     "text": [
      "E: Package 'python-software-properties' has no installation candidate\n",
      "Selecting previously unselected package libfuse2:amd64.\n",
      "(Reading database ... 22278 files and directories currently installed.)\n",
      "Preparing to unpack .../libfuse2_2.9.7-1ubuntu1_amd64.deb ...\n",
      "Unpacking libfuse2:amd64 (2.9.7-1ubuntu1) ...\n",
      "Selecting previously unselected package fuse.\n",
      "Preparing to unpack .../fuse_2.9.7-1ubuntu1_amd64.deb ...\n",
      "Unpacking fuse (2.9.7-1ubuntu1) ...\n",
      "Selecting previously unselected package google-drive-ocamlfuse.\n",
      "Preparing to unpack .../google-drive-ocamlfuse_0.7.0-0ubuntu1~ubuntu18.04.1_amd64.deb ...\n",
      "Unpacking google-drive-ocamlfuse (0.7.0-0ubuntu1~ubuntu18.04.1) ...\n",
      "Setting up libfuse2:amd64 (2.9.7-1ubuntu1) ...\n",
      "Processing triggers for libc-bin (2.27-3ubuntu1) ...\n",
      "Setting up fuse (2.9.7-1ubuntu1) ...\n",
      "Setting up google-drive-ocamlfuse (0.7.0-0ubuntu1~ubuntu18.04.1) ...\n",
      "Please, open the following URL in a web browser: https://accounts.google.com/o/oauth2/auth?client_id=32555940559.apps.googleusercontent.com&redirect_uri=urn%3Aietf%3Awg%3Aoauth%3A2.0%3Aoob&scope=https%3A%2F%2Fwww.googleapis.com%2Fauth%2Fdrive&response_type=code&access_type=offline&approval_prompt=force\n",
      "··········\n",
      "Please, open the following URL in a web browser: https://accounts.google.com/o/oauth2/auth?client_id=32555940559.apps.googleusercontent.com&redirect_uri=urn%3Aietf%3Awg%3Aoauth%3A2.0%3Aoob&scope=https%3A%2F%2Fwww.googleapis.com%2Fauth%2Fdrive&response_type=code&access_type=offline&approval_prompt=force\n",
      "Please enter the verification code: Access token retrieved correctly.\n"
     ]
    }
   ],
   "source": [
    "#install import stuff\n",
    "!apt-get install -y -qq software-properties-common python-software-properties module-init-tools\n",
    "!add-apt-repository -y ppa:alessandro-strada/ppa 2>&1 > /dev/null\n",
    "!apt-get update -qq 2>&1 > /dev/null\n",
    "!apt-get -y install -qq google-drive-ocamlfuse fuse\n",
    "from google.colab import auth\n",
    "auth.authenticate_user()\n",
    "from oauth2client.client import GoogleCredentials\n",
    "creds = GoogleCredentials.get_application_default()\n",
    "import getpass\n",
    "!google-drive-ocamlfuse -headless -id={creds.client_id} -secret={creds.client_secret} < /dev/null 2>&1 | grep URL\n",
    "vcode = getpass.getpass()\n",
    "!echo {vcode} | google-drive-ocamlfuse -headless -id={creds.client_id} -secret={creds.client_secret}\n"
   ]
  },
  {
   "cell_type": "code",
   "execution_count": 0,
   "metadata": {
    "colab": {},
    "colab_type": "code",
    "collapsed": true,
    "deletable": true,
    "editable": true,
    "id": "UAR3oKxeb5Gf"
   },
   "outputs": [],
   "source": [
    "#mount google drive\n",
    "!mkdir -p drive\n",
    "!google-drive-ocamlfuse drive"
   ]
  },
  {
   "cell_type": "code",
   "execution_count": 24,
   "metadata": {
    "colab": {
     "base_uri": "https://localhost:8080/",
     "height": 208
    },
    "colab_type": "code",
    "collapsed": false,
    "deletable": true,
    "editable": true,
    "id": "90fr9RoQb0hb",
    "outputId": "dea4aae1-62a3-4adb-f21e-99ff4d9967eb"
   },
   "outputs": [
    {
     "name": "stdout",
     "output_type": "stream",
     "text": [
      "/root\n",
      "mkdir: cannot create directory ‘NLP’: File exists\n",
      "/root/NLP\n",
      "fatal: destination path 'RNN_simple' already exists and is not an empty directory.\n",
      "/root/NLP/RNN_simple\n",
      "total 170M\n",
      "-rw-r--r-- 1 root root 3.0M Oct 23 05:44 file2.npy\n",
      "-rw-r--r-- 1 root root 2.9M Oct 23 05:44 file.npy\n",
      "-rw-rw-r-- 1 root root 164M Aug  4  2014 glove.6B.50d.txt\n",
      "-rw-r--r-- 1 root root  89K Oct 23 05:44 HWK3_RNN.ipynb\n",
      "-rw-r--r-- 1 root root   58 Oct 23 05:44 README.md\n"
     ]
    }
   ],
   "source": [
    "%cd drive\n",
    "%mkdir NLP\n",
    "%cd NLP\n",
    "#download model parameters\n",
    "!git clone https://github.com/leexa90/RNN_simple\n",
    "%cd RNN_simple\n",
    "%ls -lh"
   ]
  },
  {
   "cell_type": "code",
   "execution_count": 0,
   "metadata": {
    "colab": {},
    "colab_type": "code",
    "collapsed": true,
    "deletable": true,
    "editable": true,
    "id": "zIu_996kep3I"
   },
   "outputs": [],
   "source": [
    "!if [ ! -f \"glove.6B.50d.txt\" ]; then wget http://nlp.stanford.edu/data/glove.6B.zip ;unzip glove.6B.zip;rm glove.6B.zip;rm glove.6B.*00d.txt;fi"
   ]
  },
  {
   "cell_type": "code",
   "execution_count": 13,
   "metadata": {
    "colab": {
     "base_uri": "https://localhost:8080/",
     "height": 69
    },
    "colab_type": "code",
    "collapsed": false,
    "deletable": true,
    "editable": true,
    "id": "7ytWt6rfbDiP",
    "outputId": "19434819-e9b1-4855-ea8c-fafae9a12529"
   },
   "outputs": [
    {
     "name": "stdout",
     "output_type": "stream",
     "text": [
      "1.3.0\n",
      "3.3\n",
      "0.22.0\n"
     ]
    }
   ],
   "source": [
    "import numpy as np\n",
    "import os\n",
    "import nltk\n",
    "import pandas as pd\n",
    "import tensorflow as tf\n",
    "import tensorflow.contrib.keras as keras\n",
    "import numpy as np\n",
    "import pickle\n",
    "\n",
    "\n",
    "print tf.__version__\n",
    "print nltk.__version__\n",
    "print pd.__version__"
   ]
  },
  {
   "cell_type": "code",
   "execution_count": 0,
   "metadata": {
    "colab": {},
    "colab_type": "code",
    "collapsed": true,
    "deletable": true,
    "editable": true,
    "id": "G-5BSn1QbDif"
   },
   "outputs": [],
   "source": [
    "#from tensorflow.contrib.keras.api.keras.preprocessing import sequence\n",
    "from tensorflow.contrib.keras.api.keras.layers import Input, Embedding, GRU, Dense #, Activation\n",
    "from tensorflow.contrib.keras.api.keras.models import Model\n",
    "from tensorflow.contrib.keras.python.keras.layers import Bidirectional, TimeDistributed\n"
   ]
  },
  {
   "cell_type": "code",
   "execution_count": 0,
   "metadata": {
    "colab": {},
    "colab_type": "code",
    "collapsed": true,
    "deletable": true,
    "editable": true,
    "id": "Ei9MOMzZbDin"
   },
   "outputs": [],
   "source": [
    "SENTENCE_LENGTH_MAX = 80\n",
    "EMBEDDING_DIM=50"
   ]
  },
  {
   "cell_type": "code",
   "execution_count": 6,
   "metadata": {
    "colab": {
     "base_uri": "https://localhost:8080/",
     "height": 364
    },
    "colab_type": "code",
    "collapsed": false,
    "deletable": true,
    "editable": true,
    "id": "apCj3y09bDix",
    "outputId": "f159e8b2-5606-4651-c9a9-e8a120aa901b"
   },
   "outputs": [
    {
     "name": "stdout",
     "output_type": "stream",
     "text": [
      "   year       date   time                                               data  \\\n",
      "0  2016  oct_9.txt  06:23  Table Tennis: Feng Tianwei upset by Japanese t...   \n",
      "1  2016  oct_9.txt  06:00  Football: Immobile brings Italy back from the ...   \n",
      "2  2016  oct_9.txt  04:39  Football: Napoli striker Milik out for â€˜mont...   \n",
      "3  2016  oct_9.txt  04:23  Thousands of armed Yemeni protesters call for ...   \n",
      "4  2016  oct_9.txt  04:05  Football: Wales drop World Cup points in Georg...   \n",
      "\n",
      "                 site                               site2     date2  \\\n",
      "0  http://str.sg/4xhn  [http://str.sg/4xhn, PHOTO:, ITTF]  [10, 09]   \n",
      "1  http://str.sg/4xhW   [http://str.sg/4xhW, PHOTO:, EPA]  [10, 09]   \n",
      "2  http://str.sg/4xeY   [http://str.sg/4xeY, PHOTO:, EPA]  [10, 09]   \n",
      "3  http://str.sg/4xef   [http://str.sg/4xef, PHOTO:, AFP]  [10, 09]   \n",
      "4  http://str.sg/4xeN   [http://str.sg/4xeN, PHOTO:, AFP]  [10, 09]   \n",
      "\n",
      "         Date      Open      High       Low     Close Adj Close  Volume Change  \n",
      "0  2016-10-09  2.930000  2.930000  2.920000  2.930000    2.8396  141900      0  \n",
      "1  2016-10-09  2.930000  2.930000  2.920000  2.930000    2.8396  141900      0  \n",
      "2  2016-10-09  2.930000  2.930000  2.920000  2.930000    2.8396  141900      0  \n",
      "3  2016-10-09  2.930000  2.930000  2.920000  2.930000    2.8396  141900      0  \n",
      "4  2016-10-09  2.930000  2.930000  2.920000  2.930000    2.8396  141900      0  \n"
     ]
    }
   ],
   "source": [
    "# scraped data file\n",
    "data = np.load('file.npy')\n",
    "data = pd.DataFrame(data,columns=['year', 'date', 'time', 'data', 'site', 'site2', 'date2', 'Date', 'Open', 'High', 'Low', 'Close', 'Adj Close', 'Volume','Change']) \n",
    "print data.head()\n",
    "data.to_csv('data.csv')"
   ]
  },
  {
   "cell_type": "code",
   "execution_count": 8,
   "metadata": {
    "colab": {
     "base_uri": "https://localhost:8080/",
     "height": 642
    },
    "colab_type": "code",
    "collapsed": false,
    "deletable": true,
    "editable": true,
    "id": "IOk1ex6fbDi4",
    "outputId": "06161bff-418b-4017-c76b-523eff102ac8"
   },
   "outputs": [
    {
     "name": "stdout",
     "output_type": "stream",
     "text": [
      "[nltk_data] Downloading package punkt to /root/nltk_data...\n",
      "[nltk_data]   Unzipping tokenizers/punkt.zip.\n",
      "   year       date   time                                               data  \\\n",
      "0  2016  oct_9.txt  06:23  Table Tennis: Feng Tianwei upset by Japanese t...   \n",
      "1  2016  oct_9.txt  06:00  Football: Immobile brings Italy back from the ...   \n",
      "2  2016  oct_9.txt  04:39  Football: Napoli striker Milik out for â€˜mont...   \n",
      "3  2016  oct_9.txt  04:23  Thousands of armed Yemeni protesters call for ...   \n",
      "4  2016  oct_9.txt  04:05  Football: Wales drop World Cup points in Georg...   \n",
      "\n",
      "                 site                               site2     date2  \\\n",
      "0  http://str.sg/4xhn  [http://str.sg/4xhn, PHOTO:, ITTF]  [10, 09]   \n",
      "1  http://str.sg/4xhW   [http://str.sg/4xhW, PHOTO:, EPA]  [10, 09]   \n",
      "2  http://str.sg/4xeY   [http://str.sg/4xeY, PHOTO:, EPA]  [10, 09]   \n",
      "3  http://str.sg/4xef   [http://str.sg/4xef, PHOTO:, AFP]  [10, 09]   \n",
      "4  http://str.sg/4xeN   [http://str.sg/4xeN, PHOTO:, AFP]  [10, 09]   \n",
      "\n",
      "         Date      Open      High       Low     Close Adj Close  Volume  \\\n",
      "0  2016-10-09  2.930000  2.930000  2.920000  2.930000    2.8396  141900   \n",
      "1  2016-10-09  2.930000  2.930000  2.920000  2.930000    2.8396  141900   \n",
      "2  2016-10-09  2.930000  2.930000  2.920000  2.930000    2.8396  141900   \n",
      "3  2016-10-09  2.930000  2.930000  2.920000  2.930000    2.8396  141900   \n",
      "4  2016-10-09  2.930000  2.930000  2.920000  2.930000    2.8396  141900   \n",
      "\n",
      "  Change                                         data_clean  \\\n",
      "0      0  Table Tennis: Feng Tianwei upset by Japanese t...   \n",
      "1      0  Football: Immobile brings Italy back from the ...   \n",
      "2      0  Football: Napoli striker Milik out for months ...   \n",
      "3      0  Thousands of armed Yemeni protesters call for ...   \n",
      "4      0  Football: Wales drop World Cup points in Georg...   \n",
      "\n",
      "                                      data_clean_tok  \n",
      "0  [Table, Tennis, :, Feng, Tianwei, upset, by, J...  \n",
      "1  [Football, :, Immobile, brings, Italy, back, f...  \n",
      "2  [Football, :, Napoli, striker, Milik, out, for...  \n",
      "3  [Thousands, of, armed, Yemeni, protesters, cal...  \n",
      "4  [Football, :, Wales, drop, World, Cup, points,...  \n"
     ]
    }
   ],
   "source": [
    "#tokenize data\n",
    "nltk.download('punkt')\n",
    "sentence_splitter = nltk.data.load('tokenizers/punkt/english.pickle')\n",
    "import string\n",
    "printable = set(string.printable)\n",
    "def remove_nonprintable(s):\n",
    "    if s is None:\n",
    "        return None\n",
    "    return filter(lambda x: x in printable, s)\n",
    "from nltk.tokenize import TreebankWordTokenizer\n",
    "data['data_clean'] = data['data'].apply(remove_nonprintable) \n",
    "def tokenizer(s):\n",
    "    if s is None:\n",
    "        return None\n",
    "    return TreebankWordTokenizer().tokenize(s)\n",
    "data['data_clean_tok'] = data['data_clean'].apply(tokenizer)\n",
    "data = data[~data['data_clean'].isin([None,])] # remove empty data\n",
    "print data.head()"
   ]
  },
  {
   "cell_type": "code",
   "execution_count": 26,
   "metadata": {
    "colab": {
     "base_uri": "https://localhost:8080/",
     "height": 52
    },
    "colab_type": "code",
    "collapsed": false,
    "deletable": true,
    "editable": true,
    "id": "K5EnB4I7bDjC",
    "outputId": "1744aa2e-9686-451c-b04c-13b5671e794f"
   },
   "outputs": [
    {
     "name": "stdout",
     "output_type": "stream",
     "text": [
      "GloVE available locally\n"
     ]
    },
    {
     "data": {
      "text/plain": [
       "(400000, 50)"
      ]
     },
     "execution_count": 26,
     "metadata": {
      "tags": []
     },
     "output_type": "execute_result"
    }
   ],
   "source": [
    "import sys\n",
    "import glove\n",
    "glove_dir = './'\n",
    "glove_100k_50d = 'glove.6B.50d.txt'\n",
    "glove_100k_50d_path = os.path.join(glove_dir, glove_100k_50d)\n",
    "if not os.path.isfile( glove_100k_50d_path ):\n",
    "    raise RuntimeError(\"You need to download GloVE Embeddings \"+\n",
    "                       \": Use the downloader in 5-Text-Corpus-and-Embeddings.ipynb\")\n",
    "else:\n",
    "    print(\"GloVE available locally\")\n",
    "word_embedding = glove.Glove.load_stanford( glove_100k_50d_path )\n",
    "word_embedding.word_vectors.shape"
   ]
  },
  {
   "cell_type": "code",
   "execution_count": 0,
   "metadata": {
    "colab": {},
    "colab_type": "code",
    "collapsed": true,
    "deletable": true,
    "editable": true,
    "id": "DLvZhGidbDjM"
   },
   "outputs": [],
   "source": [
    "def word_idx_rnn(list):\n",
    "    if list is None:\n",
    "        return None\n",
    "    return map(lambda word : 2+word_embedding.dictionary.get(word.lower(),-1),list) #0 for mask 1 for unknown\n",
    "\n",
    "word_embedding_rnn = np.vstack([ \n",
    "        np.zeros( (1, EMBEDDING_DIM,), dtype='float32'),   # This is the 'zero' value (used as a mask in Keras)\n",
    "        np.zeros( (1, EMBEDDING_DIM,), dtype='float32'),   # This is for 'UNK'  (word == 1)\n",
    "        word_embedding.word_vectors,\n",
    "    ])\n",
    "word_embedding_rnn.shape\n",
    "\n",
    "data['wordVec'] =  map(word_idx_rnn, data['data_clean_tok'].iloc[:])\n",
    "data = data[data['wordVec'].apply(len) <= SENTENCE_LENGTH_MAX].reset_index(drop=1) #remove too long sentences\n",
    "\n",
    "  \n",
    "from tensorflow.contrib.keras.python.keras.utils.np_utils import to_categorical\n",
    "tokens_input = Input(shape=(SENTENCE_LENGTH_MAX,), dtype='int32', name=\"input\")"
   ]
  },
  {
   "cell_type": "markdown",
   "metadata": {
    "colab_type": "text",
    "deletable": true,
    "editable": true,
    "id": "BXOOlojPbDjU"
   },
   "source": [
    "# I want to predict if the word died (or simillar words) appeared in the article. I will remove words simillar to died and see how well it predicts article containing the family of death words"
   ]
  },
  {
   "cell_type": "code",
   "execution_count": 29,
   "metadata": {
    "colab": {
     "base_uri": "https://localhost:8080/",
     "height": 121
    },
    "colab_type": "code",
    "collapsed": false,
    "deletable": true,
    "editable": true,
    "id": "t6Vj70-vbDjl",
    "outputId": "7c73cc77-c648-442b-8a21-d7b8685a4760"
   },
   "outputs": [
    {
     "name": "stdout",
     "output_type": "stream",
     "text": [
      "2357\n",
      "5376\n",
      "336\n",
      "5249\n",
      "431\n",
      "767\n"
     ]
    }
   ],
   "source": [
    "print word_embedding.dictionary.get('die')\n",
    "print word_embedding.dictionary.get('dies')\n",
    "print word_embedding.dictionary.get('death')\n",
    "print word_embedding.dictionary.get('dying')\n",
    "print word_embedding.dictionary.get('died')\n",
    "print word_embedding.dictionary.get('dead')"
   ]
  },
  {
   "cell_type": "code",
   "execution_count": 28,
   "metadata": {
    "colab": {
     "base_uri": "https://localhost:8080/",
     "height": 121
    },
    "colab_type": "code",
    "collapsed": false,
    "deletable": true,
    "editable": true,
    "id": "gVhHMpYkbDjY",
    "outputId": "d7954f30-403c-4e5b-f17f-815ed3e97e65"
   },
   "outputs": [
    {
     "name": "stdout",
     "output_type": "stream",
     "text": [
      "die [(u'dying', 0.7532194581558449), (u'sick', 0.7226143991997882), (u'hell', 0.6872296174069888), (u'afraid', 0.6689649337559355)]\n",
      "dies [(u'survivor', 0.7239549939948863), (u'death', 0.7063512216842298), (u'woman', 0.6985121464221928), (u'man', 0.6941906334825048)]\n",
      "death [(u'died', 0.8343641186047013), (u'survived', 0.8193082245903843), (u'victim', 0.8133185916802045), (u'murder', 0.7823713622689508)]\n",
      "dying [(u'sick', 0.8716159898577285), (u'lives', 0.8015780886061035), (u'alive', 0.7925666867122498), (u'survived', 0.785913670053649)]\n",
      "died [(u'survived', 0.8562841225340734), (u'death', 0.8343641186047013), (u'killed', 0.7806992868110147), (u'lived', 0.7649105084966997)]\n",
      "dead [(u'killed', 0.9034033967262405), (u'killing', 0.8334277642426833), (u'missing', 0.8290814853785953), (u'wounded', 0.8269554208684197)]\n"
     ]
    }
   ],
   "source": [
    "for i in [2359,5378,338,5251,433,769]:\n",
    "    i = word_embedding.inverse_dictionary.get(i-2)\n",
    "    print i,word_embedding.most_similar(i) \n",
    "# it looks very different"
   ]
  },
  {
   "cell_type": "code",
   "execution_count": 30,
   "metadata": {
    "colab": {
     "base_uri": "https://localhost:8080/",
     "height": 86
    },
    "colab_type": "code",
    "collapsed": false,
    "deletable": true,
    "editable": true,
    "id": "qjAxMOmNbDju",
    "outputId": "ddad03d7-1244-4456-80f1-76e893dffac8"
   },
   "outputs": [
    {
     "name": "stdout",
     "output_type": "stream",
     "text": [
      "confirming 769 is the word dead\n",
      "data_clean_tok    [UPDATE:82, dead, ,, 534, injured, in, Saudi-l...\n",
      "wordVec           [1, 769, 3, 44573, 1004, 8, 1, 15641, 15, 5404...\n",
      "Name: 26, dtype: object\n"
     ]
    }
   ],
   "source": [
    "### I want to predict if someone died in the article\n",
    "ids = []\n",
    "for i in range(len(data)):\n",
    "    for j in [2359,5378,338,5251,433,769]:\n",
    "        if j in data.iloc[i]['wordVec']:\n",
    "            ids += [i,]\n",
    "print 'confirming 769 is the word dead'  # actually its 767 but 767+2=769 because of keras mask and UNK\n",
    "print data.iloc[26][['data_clean_tok','wordVec']]"
   ]
  },
  {
   "cell_type": "code",
   "execution_count": 31,
   "metadata": {
    "colab": {
     "base_uri": "https://localhost:8080/",
     "height": 106
    },
    "colab_type": "code",
    "collapsed": false,
    "deletable": true,
    "editable": true,
    "id": "7HAHUECebDj4",
    "outputId": "a85ac16d-02e5-45a7-b702-e209d2f72750"
   },
   "outputs": [
    {
     "name": "stdout",
     "output_type": "stream",
     "text": [
      "number of death articles\n",
      "0.0591584941474217\n"
     ]
    },
    {
     "name": "stderr",
     "output_type": "stream",
     "text": [
      "/usr/local/lib/python2.7/dist-packages/ipykernel_launcher.py:11: FutureWarning: set_value is deprecated and will be removed in a future release. Please use .at[] or .iat[] accessors instead\n",
      "  # This is added back by InteractiveShellApp.init_path()\n"
     ]
    }
   ],
   "source": [
    "# function to remove 769 and other death words, TRY TO PREDICT if Death appears in article \n",
    "def remove769(x):\n",
    "    result = []\n",
    "    for i in x:\n",
    "        if i not in [2359,5378,338,5251,433,769]:\n",
    "            result += [i,] \n",
    "    return result\n",
    "data['wordVec2'] = data['wordVec'].apply(remove769)\n",
    "# pad sequences to length 32\n",
    "data['wordVec2'] = map(lambda x :x + (SENTENCE_LENGTH_MAX - len(x)) * [0,],data['wordVec2'])\n",
    "data['died'] = 0\n",
    "data= data.set_value(ids,'died',1)\n",
    "print 'number of death articles'\n",
    "print np.mean(data.died)"
   ]
  },
  {
   "cell_type": "code",
   "execution_count": 32,
   "metadata": {
    "colab": {
     "base_uri": "https://localhost:8080/",
     "height": 121
    },
    "colab_type": "code",
    "collapsed": false,
    "deletable": true,
    "editable": true,
    "id": "gBAoWbhpbDkB",
    "outputId": "338b099e-b47c-4d46-aaf3-a59e396abb15"
   },
   "outputs": [
    {
     "data": {
      "text/plain": [
       "data_clean        UPDATE:82 dead, 534 injured in Saudi-led airst...\n",
       "data_clean_tok    [UPDATE:82, dead, ,, 534, injured, in, Saudi-l...\n",
       "wordVec           [1, 769, 3, 44573, 1004, 8, 1, 15641, 15, 5404...\n",
       "wordVec2          [1, 3, 44573, 1004, 8, 1, 15641, 15, 5404, 124...\n",
       "died                                                              1\n",
       "Name: 26, dtype: object"
      ]
     },
     "execution_count": 32,
     "metadata": {
      "tags": []
     },
     "output_type": "execute_result"
    }
   ],
   "source": [
    "#view data\n",
    "data.iloc[26][[u'data_clean', u'data_clean_tok', u'wordVec', u'wordVec2',u'died']]"
   ]
  },
  {
   "cell_type": "code",
   "execution_count": 33,
   "metadata": {
    "colab": {
     "base_uri": "https://localhost:8080/",
     "height": 121
    },
    "colab_type": "code",
    "collapsed": false,
    "deletable": true,
    "editable": true,
    "id": "9xb38mohbDkI",
    "outputId": "7c276666-b01f-4bd1-a423-5fbb26d2af7a"
   },
   "outputs": [
    {
     "data": {
      "text/plain": [
       "data_clean        Erdogan takes spin in first-ever road tunnel l...\n",
       "data_clean_tok    [Erdogan, takes, spin, in, first-ever, road, t...\n",
       "wordVec           [9347, 1146, 6027, 8, 30087, 588, 4518, 6409, ...\n",
       "wordVec2          [9347, 1146, 6027, 8, 30087, 588, 4518, 6409, ...\n",
       "died                                                              0\n",
       "Name: 27, dtype: object"
      ]
     },
     "execution_count": 33,
     "metadata": {
      "tags": []
     },
     "output_type": "execute_result"
    }
   ],
   "source": [
    "# view data\n",
    "data.iloc[27][[u'data_clean', u'data_clean_tok', u'wordVec', u'wordVec2',u'died']]"
   ]
  },
  {
   "cell_type": "code",
   "execution_count": 34,
   "metadata": {
    "colab": {
     "base_uri": "https://localhost:8080/",
     "height": 347
    },
    "colab_type": "code",
    "collapsed": false,
    "deletable": true,
    "editable": true,
    "id": "VKZdSq-wbDkR",
    "outputId": "c72c1010-02ad-44b1-e33e-19a837c026f2"
   },
   "outputs": [
    {
     "name": "stdout",
     "output_type": "stream",
     "text": [
      "_________________________________________________________________\n",
      "Layer (type)                 Output Shape              Param #   \n",
      "=================================================================\n",
      "input (InputLayer)           (None, 80)                0         \n",
      "_________________________________________________________________\n",
      "SentencesEmbedded (Embedding (None, 80, 50)            20000100  \n",
      "_________________________________________________________________\n",
      "masked (Masking)             (None, 80, 50)            0         \n",
      "_________________________________________________________________\n",
      "bidirectional_1 (Bidirection (None, 130)               45240     \n",
      "_________________________________________________________________\n",
      "drop (Dropout)               (None, 130)               0         \n",
      "_________________________________________________________________\n",
      "out (Dense)                  (None, 1)                 131       \n",
      "=================================================================\n",
      "Total params: 20,045,471\n",
      "Trainable params: 45,371\n",
      "Non-trainable params: 20,000,100\n",
      "_________________________________________________________________\n"
     ]
    }
   ],
   "source": [
    "tokens_input = Input(shape=(SENTENCE_LENGTH_MAX,), dtype='int32', name=\"input\")\n",
    "embedded_sequences = Embedding(word_embedding_rnn.shape[0],\n",
    "                                EMBEDDING_DIM,\n",
    "                                weights=[ word_embedding_rnn ],\n",
    "                                input_length=SENTENCE_LENGTH_MAX,\n",
    "                                trainable=False, \n",
    "                                mask_zero=True,\n",
    "                                name=\"SentencesEmbedded\") (tokens_input)\n",
    "aggregate_vectors = embedded_sequences # concat...\n",
    "TAG_SET_SIZE = 1\n",
    "BATCH_SIZE = 32\n",
    "RNN_HIDDEN_SIZE = 65\n",
    "masked = keras.layers.Masking(mask_value=0.0,name='masked') (aggregate_vectors)\n",
    "rnn_outputs = Bidirectional( GRU(RNN_HIDDEN_SIZE, return_sequences=False),  merge_mode='concat' )(masked)\n",
    "rnn_outputs2 = keras.layers.Dropout(0.5,name='drop')(rnn_outputs)\n",
    "is_ner_outputs = Dense(1, activation='sigmoid',name='out')(rnn_outputs2)\n",
    "model = Model(inputs=[tokens_input], outputs=[is_ner_outputs])\n",
    "model.summary()"
   ]
  },
  {
   "cell_type": "code",
   "execution_count": 35,
   "metadata": {
    "colab": {
     "base_uri": "https://localhost:8080/",
     "height": 34
    },
    "colab_type": "code",
    "collapsed": false,
    "deletable": true,
    "editable": true,
    "id": "V5wgSpzQbDkb",
    "outputId": "aa78cc3e-92e6-454b-bd74-462f8629fffd"
   },
   "outputs": [
    {
     "name": "stderr",
     "output_type": "stream",
     "text": [
      "Using TensorFlow backend.\n"
     ]
    }
   ],
   "source": [
    "import keras.backend as K\n",
    "#https://stackoverflow.com/questions/39895742/matthews-correlation-coefficient-with-keras\n",
    "def MCC(y_true, y_pred): #balanced metric\n",
    "    y_pred_pos = K.greater_equal(y_pred, 0.5)\n",
    "    y_pred_pos = K.cast(y_pred_pos,K.tf.float32)\n",
    "    y_pred_neg = 1 - y_pred_pos\n",
    "    \n",
    "    y_pos = K.greater_equal(y_true, 0.5)\n",
    "    y_pos = K.cast(y_pos,K.tf.float32)\n",
    "    y_neg = 1 - y_pos\n",
    "\n",
    "    tp = K.sum(y_pos * y_pred_pos)\n",
    "    tn = K.sum(y_neg * y_pred_neg)\n",
    "\n",
    "    fp = K.sum(y_neg * y_pred_pos)\n",
    "    fn = K.sum(y_pos * y_pred_neg)\n",
    "\n",
    "    numerator = (tp * tn - fp * fn)\n",
    "    denominator = K.sqrt((tp + fp) * (tp + fn) * (tn + fp) * (tn + fn))\n",
    "\n",
    "    return numerator / (denominator + K.epsilon())\n",
    "model.compile(loss='binary_crossentropy', optimizer=\"adam\" , metrics=['accuracy',MCC])"
   ]
  },
  {
   "cell_type": "code",
   "execution_count": 0,
   "metadata": {
    "colab": {},
    "colab_type": "code",
    "collapsed": true,
    "deletable": true,
    "editable": true,
    "id": "7NCdbiHkbDkx"
   },
   "outputs": [],
   "source": [
    "X = np.stack(map(np.array,data.wordVec2))\n",
    "y = np.array(data.died.astype(np.int32))\n",
    "from sklearn.model_selection import train_test_split\n",
    "X_train,X_test,y_train,y_test = train_test_split(X,y,test_size = 0.4, random_state = 5)\n",
    "X_val,X_test,y_val,y_test = train_test_split(X_test,y_test,test_size = 0.5, random_state = 5)"
   ]
  },
  {
   "cell_type": "code",
   "execution_count": 37,
   "metadata": {
    "colab": {
     "base_uri": "https://localhost:8080/",
     "height": 1455
    },
    "colab_type": "code",
    "collapsed": false,
    "deletable": true,
    "editable": true,
    "id": "7cIFJ3t5bDk6",
    "outputId": "7e9db0d8-b7f4-4126-97e4-f11679f1f724"
   },
   "outputs": [
    {
     "name": "stdout",
     "output_type": "stream",
     "text": [
      "Train on 3793 samples, validate on 1264 samples\n",
      "Epoch 1/10\n",
      "30s - loss: 1.1321 - acc: 0.6694 - MCC: 0.1459 - val_loss: 0.5279 - val_acc: 0.7413 - val_MCC: 0.2322\n",
      "Epoch 2/10\n",
      "30s - loss: 0.9452 - acc: 0.7606 - MCC: 0.2588 - val_loss: 0.5161 - val_acc: 0.7492 - val_MCC: 0.2340\n",
      "Epoch 3/10\n",
      "30s - loss: 0.8580 - acc: 0.7883 - MCC: 0.2896 - val_loss: 0.5562 - val_acc: 0.7318 - val_MCC: 0.2440\n",
      "Epoch 4/10\n"
     ]
    },
    {
     "ename": "KeyboardInterrupt",
     "evalue": "ignored",
     "output_type": "error",
     "traceback": [
      "\u001b[0;31m\u001b[0m",
      "\u001b[0;31mKeyboardInterrupt\u001b[0mTraceback (most recent call last)",
      "\u001b[0;32m<ipython-input-37-899163537555>\u001b[0m in \u001b[0;36m<module>\u001b[0;34m()\u001b[0m\n\u001b[1;32m      6\u001b[0m                      \u001b[0mbatch_size\u001b[0m \u001b[0;34m=\u001b[0m \u001b[0;36m32\u001b[0m\u001b[0;34m,\u001b[0m\u001b[0;34m\u001b[0m\u001b[0m\n\u001b[1;32m      7\u001b[0m                      \u001b[0mvalidation_data\u001b[0m \u001b[0;34m=\u001b[0m \u001b[0;34m(\u001b[0m\u001b[0mX_val\u001b[0m\u001b[0;34m,\u001b[0m\u001b[0my_val\u001b[0m\u001b[0;34m)\u001b[0m\u001b[0;34m,\u001b[0m\u001b[0;34m\u001b[0m\u001b[0m\n\u001b[0;32m----> 8\u001b[0;31m                      class_weight = class_weight)\n\u001b[0m",
      "\u001b[0;32m/usr/local/lib/python2.7/dist-packages/tensorflow/contrib/keras/python/keras/engine/training.pyc\u001b[0m in \u001b[0;36mfit\u001b[0;34m(self, x, y, batch_size, epochs, verbose, callbacks, validation_split, validation_data, shuffle, class_weight, sample_weight, initial_epoch)\u001b[0m\n\u001b[1;32m   1440\u001b[0m         \u001b[0mshuffle\u001b[0m\u001b[0;34m=\u001b[0m\u001b[0mshuffle\u001b[0m\u001b[0;34m,\u001b[0m\u001b[0;34m\u001b[0m\u001b[0m\n\u001b[1;32m   1441\u001b[0m         \u001b[0mcallback_metrics\u001b[0m\u001b[0;34m=\u001b[0m\u001b[0mcallback_metrics\u001b[0m\u001b[0;34m,\u001b[0m\u001b[0;34m\u001b[0m\u001b[0m\n\u001b[0;32m-> 1442\u001b[0;31m         initial_epoch=initial_epoch)\n\u001b[0m\u001b[1;32m   1443\u001b[0m \u001b[0;34m\u001b[0m\u001b[0m\n\u001b[1;32m   1444\u001b[0m   \u001b[0;32mdef\u001b[0m \u001b[0mevaluate\u001b[0m\u001b[0;34m(\u001b[0m\u001b[0mself\u001b[0m\u001b[0;34m,\u001b[0m \u001b[0mx\u001b[0m\u001b[0;34m,\u001b[0m \u001b[0my\u001b[0m\u001b[0;34m,\u001b[0m \u001b[0mbatch_size\u001b[0m\u001b[0;34m=\u001b[0m\u001b[0;36m32\u001b[0m\u001b[0;34m,\u001b[0m \u001b[0mverbose\u001b[0m\u001b[0;34m=\u001b[0m\u001b[0;36m1\u001b[0m\u001b[0;34m,\u001b[0m \u001b[0msample_weight\u001b[0m\u001b[0;34m=\u001b[0m\u001b[0mNone\u001b[0m\u001b[0;34m)\u001b[0m\u001b[0;34m:\u001b[0m\u001b[0;34m\u001b[0m\u001b[0m\n",
      "\u001b[0;32m/usr/local/lib/python2.7/dist-packages/tensorflow/contrib/keras/python/keras/engine/training.pyc\u001b[0m in \u001b[0;36m_fit_loop\u001b[0;34m(self, f, ins, out_labels, batch_size, epochs, verbose, callbacks, val_f, val_ins, shuffle, callback_metrics, initial_epoch)\u001b[0m\n\u001b[1;32m   1090\u001b[0m           \u001b[0;32mif\u001b[0m \u001b[0mdo_validation\u001b[0m\u001b[0;34m:\u001b[0m\u001b[0;34m\u001b[0m\u001b[0m\n\u001b[1;32m   1091\u001b[0m             val_outs = self._test_loop(\n\u001b[0;32m-> 1092\u001b[0;31m                 val_f, val_ins, batch_size=batch_size, verbose=0)\n\u001b[0m\u001b[1;32m   1093\u001b[0m             \u001b[0;32mif\u001b[0m \u001b[0;32mnot\u001b[0m \u001b[0misinstance\u001b[0m\u001b[0;34m(\u001b[0m\u001b[0mval_outs\u001b[0m\u001b[0;34m,\u001b[0m \u001b[0mlist\u001b[0m\u001b[0;34m)\u001b[0m\u001b[0;34m:\u001b[0m\u001b[0;34m\u001b[0m\u001b[0m\n\u001b[1;32m   1094\u001b[0m               \u001b[0mval_outs\u001b[0m \u001b[0;34m=\u001b[0m \u001b[0;34m[\u001b[0m\u001b[0mval_outs\u001b[0m\u001b[0;34m]\u001b[0m\u001b[0;34m\u001b[0m\u001b[0m\n",
      "\u001b[0;32m/usr/local/lib/python2.7/dist-packages/tensorflow/contrib/keras/python/keras/engine/training.pyc\u001b[0m in \u001b[0;36m_test_loop\u001b[0;34m(self, f, ins, batch_size, verbose)\u001b[0m\n\u001b[1;32m   1192\u001b[0m         \u001b[0mins_batch\u001b[0m \u001b[0;34m=\u001b[0m \u001b[0m_slice_arrays\u001b[0m\u001b[0;34m(\u001b[0m\u001b[0mins\u001b[0m\u001b[0;34m,\u001b[0m \u001b[0mbatch_ids\u001b[0m\u001b[0;34m)\u001b[0m\u001b[0;34m\u001b[0m\u001b[0m\n\u001b[1;32m   1193\u001b[0m \u001b[0;34m\u001b[0m\u001b[0m\n\u001b[0;32m-> 1194\u001b[0;31m       \u001b[0mbatch_outs\u001b[0m \u001b[0;34m=\u001b[0m \u001b[0mf\u001b[0m\u001b[0;34m(\u001b[0m\u001b[0mins_batch\u001b[0m\u001b[0;34m)\u001b[0m\u001b[0;34m\u001b[0m\u001b[0m\n\u001b[0m\u001b[1;32m   1195\u001b[0m       \u001b[0;32mif\u001b[0m \u001b[0misinstance\u001b[0m\u001b[0;34m(\u001b[0m\u001b[0mbatch_outs\u001b[0m\u001b[0;34m,\u001b[0m \u001b[0mlist\u001b[0m\u001b[0;34m)\u001b[0m\u001b[0;34m:\u001b[0m\u001b[0;34m\u001b[0m\u001b[0m\n\u001b[1;32m   1196\u001b[0m         \u001b[0;32mif\u001b[0m \u001b[0mbatch_index\u001b[0m \u001b[0;34m==\u001b[0m \u001b[0;36m0\u001b[0m\u001b[0;34m:\u001b[0m\u001b[0;34m\u001b[0m\u001b[0m\n",
      "\u001b[0;32m/usr/local/lib/python2.7/dist-packages/tensorflow/contrib/keras/python/keras/backend.pyc\u001b[0m in \u001b[0;36m__call__\u001b[0;34m(self, inputs)\u001b[0m\n\u001b[1;32m   2411\u001b[0m         \u001b[0mself\u001b[0m\u001b[0;34m.\u001b[0m\u001b[0moutputs\u001b[0m \u001b[0;34m+\u001b[0m \u001b[0;34m[\u001b[0m\u001b[0mself\u001b[0m\u001b[0;34m.\u001b[0m\u001b[0mupdates_op\u001b[0m\u001b[0;34m]\u001b[0m\u001b[0;34m,\u001b[0m\u001b[0;34m\u001b[0m\u001b[0m\n\u001b[1;32m   2412\u001b[0m         \u001b[0mfeed_dict\u001b[0m\u001b[0;34m=\u001b[0m\u001b[0mfeed_dict\u001b[0m\u001b[0;34m,\u001b[0m\u001b[0;34m\u001b[0m\u001b[0m\n\u001b[0;32m-> 2413\u001b[0;31m         **self.session_kwargs)\n\u001b[0m\u001b[1;32m   2414\u001b[0m     \u001b[0;32mreturn\u001b[0m \u001b[0mupdated\u001b[0m\u001b[0;34m[\u001b[0m\u001b[0;34m:\u001b[0m\u001b[0mlen\u001b[0m\u001b[0;34m(\u001b[0m\u001b[0mself\u001b[0m\u001b[0;34m.\u001b[0m\u001b[0moutputs\u001b[0m\u001b[0;34m)\u001b[0m\u001b[0;34m]\u001b[0m\u001b[0;34m\u001b[0m\u001b[0m\n\u001b[1;32m   2415\u001b[0m \u001b[0;34m\u001b[0m\u001b[0m\n",
      "\u001b[0;32m/usr/local/lib/python2.7/dist-packages/tensorflow/python/client/session.pyc\u001b[0m in \u001b[0;36mrun\u001b[0;34m(self, fetches, feed_dict, options, run_metadata)\u001b[0m\n\u001b[1;32m    893\u001b[0m     \u001b[0;32mtry\u001b[0m\u001b[0;34m:\u001b[0m\u001b[0;34m\u001b[0m\u001b[0m\n\u001b[1;32m    894\u001b[0m       result = self._run(None, fetches, feed_dict, options_ptr,\n\u001b[0;32m--> 895\u001b[0;31m                          run_metadata_ptr)\n\u001b[0m\u001b[1;32m    896\u001b[0m       \u001b[0;32mif\u001b[0m \u001b[0mrun_metadata\u001b[0m\u001b[0;34m:\u001b[0m\u001b[0;34m\u001b[0m\u001b[0m\n\u001b[1;32m    897\u001b[0m         \u001b[0mproto_data\u001b[0m \u001b[0;34m=\u001b[0m \u001b[0mtf_session\u001b[0m\u001b[0;34m.\u001b[0m\u001b[0mTF_GetBuffer\u001b[0m\u001b[0;34m(\u001b[0m\u001b[0mrun_metadata_ptr\u001b[0m\u001b[0;34m)\u001b[0m\u001b[0;34m\u001b[0m\u001b[0m\n",
      "\u001b[0;32m/usr/local/lib/python2.7/dist-packages/tensorflow/python/client/session.pyc\u001b[0m in \u001b[0;36m_run\u001b[0;34m(self, handle, fetches, feed_dict, options, run_metadata)\u001b[0m\n\u001b[1;32m   1122\u001b[0m     \u001b[0;32mif\u001b[0m \u001b[0mfinal_fetches\u001b[0m \u001b[0;32mor\u001b[0m \u001b[0mfinal_targets\u001b[0m \u001b[0;32mor\u001b[0m \u001b[0;34m(\u001b[0m\u001b[0mhandle\u001b[0m \u001b[0;32mand\u001b[0m \u001b[0mfeed_dict_tensor\u001b[0m\u001b[0;34m)\u001b[0m\u001b[0;34m:\u001b[0m\u001b[0;34m\u001b[0m\u001b[0m\n\u001b[1;32m   1123\u001b[0m       results = self._do_run(handle, final_targets, final_fetches,\n\u001b[0;32m-> 1124\u001b[0;31m                              feed_dict_tensor, options, run_metadata)\n\u001b[0m\u001b[1;32m   1125\u001b[0m     \u001b[0;32melse\u001b[0m\u001b[0;34m:\u001b[0m\u001b[0;34m\u001b[0m\u001b[0m\n\u001b[1;32m   1126\u001b[0m       \u001b[0mresults\u001b[0m \u001b[0;34m=\u001b[0m \u001b[0;34m[\u001b[0m\u001b[0;34m]\u001b[0m\u001b[0;34m\u001b[0m\u001b[0m\n",
      "\u001b[0;32m/usr/local/lib/python2.7/dist-packages/tensorflow/python/client/session.pyc\u001b[0m in \u001b[0;36m_do_run\u001b[0;34m(self, handle, target_list, fetch_list, feed_dict, options, run_metadata)\u001b[0m\n\u001b[1;32m   1319\u001b[0m     \u001b[0;32mif\u001b[0m \u001b[0mhandle\u001b[0m \u001b[0;32mis\u001b[0m \u001b[0mNone\u001b[0m\u001b[0;34m:\u001b[0m\u001b[0;34m\u001b[0m\u001b[0m\n\u001b[1;32m   1320\u001b[0m       return self._do_call(_run_fn, self._session, feeds, fetches, targets,\n\u001b[0;32m-> 1321\u001b[0;31m                            options, run_metadata)\n\u001b[0m\u001b[1;32m   1322\u001b[0m     \u001b[0;32melse\u001b[0m\u001b[0;34m:\u001b[0m\u001b[0;34m\u001b[0m\u001b[0m\n\u001b[1;32m   1323\u001b[0m       \u001b[0;32mreturn\u001b[0m \u001b[0mself\u001b[0m\u001b[0;34m.\u001b[0m\u001b[0m_do_call\u001b[0m\u001b[0;34m(\u001b[0m\u001b[0m_prun_fn\u001b[0m\u001b[0;34m,\u001b[0m \u001b[0mself\u001b[0m\u001b[0;34m.\u001b[0m\u001b[0m_session\u001b[0m\u001b[0;34m,\u001b[0m \u001b[0mhandle\u001b[0m\u001b[0;34m,\u001b[0m \u001b[0mfeeds\u001b[0m\u001b[0;34m,\u001b[0m \u001b[0mfetches\u001b[0m\u001b[0;34m)\u001b[0m\u001b[0;34m\u001b[0m\u001b[0m\n",
      "\u001b[0;32m/usr/local/lib/python2.7/dist-packages/tensorflow/python/client/session.pyc\u001b[0m in \u001b[0;36m_do_call\u001b[0;34m(self, fn, *args)\u001b[0m\n\u001b[1;32m   1325\u001b[0m   \u001b[0;32mdef\u001b[0m \u001b[0m_do_call\u001b[0m\u001b[0;34m(\u001b[0m\u001b[0mself\u001b[0m\u001b[0;34m,\u001b[0m \u001b[0mfn\u001b[0m\u001b[0;34m,\u001b[0m \u001b[0;34m*\u001b[0m\u001b[0margs\u001b[0m\u001b[0;34m)\u001b[0m\u001b[0;34m:\u001b[0m\u001b[0;34m\u001b[0m\u001b[0m\n\u001b[1;32m   1326\u001b[0m     \u001b[0;32mtry\u001b[0m\u001b[0;34m:\u001b[0m\u001b[0;34m\u001b[0m\u001b[0m\n\u001b[0;32m-> 1327\u001b[0;31m       \u001b[0;32mreturn\u001b[0m \u001b[0mfn\u001b[0m\u001b[0;34m(\u001b[0m\u001b[0;34m*\u001b[0m\u001b[0margs\u001b[0m\u001b[0;34m)\u001b[0m\u001b[0;34m\u001b[0m\u001b[0m\n\u001b[0m\u001b[1;32m   1328\u001b[0m     \u001b[0;32mexcept\u001b[0m \u001b[0merrors\u001b[0m\u001b[0;34m.\u001b[0m\u001b[0mOpError\u001b[0m \u001b[0;32mas\u001b[0m \u001b[0me\u001b[0m\u001b[0;34m:\u001b[0m\u001b[0;34m\u001b[0m\u001b[0m\n\u001b[1;32m   1329\u001b[0m       \u001b[0mmessage\u001b[0m \u001b[0;34m=\u001b[0m \u001b[0mcompat\u001b[0m\u001b[0;34m.\u001b[0m\u001b[0mas_text\u001b[0m\u001b[0;34m(\u001b[0m\u001b[0me\u001b[0m\u001b[0;34m.\u001b[0m\u001b[0mmessage\u001b[0m\u001b[0;34m)\u001b[0m\u001b[0;34m\u001b[0m\u001b[0m\n",
      "\u001b[0;32m/usr/local/lib/python2.7/dist-packages/tensorflow/python/client/session.pyc\u001b[0m in \u001b[0;36m_run_fn\u001b[0;34m(session, feed_dict, fetch_list, target_list, options, run_metadata)\u001b[0m\n\u001b[1;32m   1304\u001b[0m           return tf_session.TF_Run(session, options,\n\u001b[1;32m   1305\u001b[0m                                    \u001b[0mfeed_dict\u001b[0m\u001b[0;34m,\u001b[0m \u001b[0mfetch_list\u001b[0m\u001b[0;34m,\u001b[0m \u001b[0mtarget_list\u001b[0m\u001b[0;34m,\u001b[0m\u001b[0;34m\u001b[0m\u001b[0m\n\u001b[0;32m-> 1306\u001b[0;31m                                    status, run_metadata)\n\u001b[0m\u001b[1;32m   1307\u001b[0m \u001b[0;34m\u001b[0m\u001b[0m\n\u001b[1;32m   1308\u001b[0m     \u001b[0;32mdef\u001b[0m \u001b[0m_prun_fn\u001b[0m\u001b[0;34m(\u001b[0m\u001b[0msession\u001b[0m\u001b[0;34m,\u001b[0m \u001b[0mhandle\u001b[0m\u001b[0;34m,\u001b[0m \u001b[0mfeed_dict\u001b[0m\u001b[0;34m,\u001b[0m \u001b[0mfetch_list\u001b[0m\u001b[0;34m)\u001b[0m\u001b[0;34m:\u001b[0m\u001b[0;34m\u001b[0m\u001b[0m\n",
      "\u001b[0;31mKeyboardInterrupt\u001b[0m: "
     ]
    }
   ],
   "source": [
    "class_weight = {0 : 1.,\n",
    "                1: 15.7,} # class ratios are 15.7 : 1, helps objective function to be balanced\n",
    "epochs = 10 #optimal is 10-15\n",
    "history  = model.fit(x=X_train,y=y_train,\n",
    "                     epochs = epochs,verbose = 2,\n",
    "                     batch_size = 32,\n",
    "                     validation_data = (X_val,y_val),\n",
    "                     class_weight = class_weight)"
   ]
  },
  {
   "cell_type": "code",
   "execution_count": 38,
   "metadata": {
    "colab": {
     "base_uri": "https://localhost:8080/",
     "height": 219
    },
    "colab_type": "code",
    "collapsed": false,
    "deletable": true,
    "editable": true,
    "id": "MISH1-KMbDlJ",
    "outputId": "4b81e97a-acb7-44b4-fa0e-be7e4cd8f171"
   },
   "outputs": [
    {
     "ename": "NameError",
     "evalue": "ignored",
     "output_type": "error",
     "traceback": [
      "\u001b[0;31m\u001b[0m",
      "\u001b[0;31mNameError\u001b[0mTraceback (most recent call last)",
      "\u001b[0;32m<ipython-input-38-759ab9f0fda4>\u001b[0m in \u001b[0;36m<module>\u001b[0;34m()\u001b[0m\n\u001b[1;32m      1\u001b[0m \u001b[0;32mimport\u001b[0m \u001b[0mmatplotlib\u001b[0m\u001b[0;34m.\u001b[0m\u001b[0mpyplot\u001b[0m \u001b[0;32mas\u001b[0m \u001b[0mplt\u001b[0m\u001b[0;34m\u001b[0m\u001b[0m\n\u001b[0;32m----> 2\u001b[0;31m \u001b[0mplt\u001b[0m\u001b[0;34m.\u001b[0m\u001b[0mplot\u001b[0m\u001b[0;34m(\u001b[0m\u001b[0mrange\u001b[0m\u001b[0;34m(\u001b[0m\u001b[0mepochs\u001b[0m\u001b[0;34m)\u001b[0m\u001b[0;34m,\u001b[0m\u001b[0mhistory\u001b[0m\u001b[0;34m.\u001b[0m\u001b[0mhistory\u001b[0m\u001b[0;34m[\u001b[0m\u001b[0;34m'MCC'\u001b[0m\u001b[0;34m]\u001b[0m\u001b[0;34m)\u001b[0m\u001b[0;34m\u001b[0m\u001b[0m\n\u001b[0m\u001b[1;32m      3\u001b[0m \u001b[0mplt\u001b[0m\u001b[0;34m.\u001b[0m\u001b[0mplot\u001b[0m\u001b[0;34m(\u001b[0m\u001b[0mrange\u001b[0m\u001b[0;34m(\u001b[0m\u001b[0mepochs\u001b[0m\u001b[0;34m)\u001b[0m\u001b[0;34m,\u001b[0m\u001b[0mhistory\u001b[0m\u001b[0;34m.\u001b[0m\u001b[0mhistory\u001b[0m\u001b[0;34m[\u001b[0m\u001b[0;34m'val_MCC'\u001b[0m\u001b[0;34m]\u001b[0m\u001b[0;34m)\u001b[0m\u001b[0;34m\u001b[0m\u001b[0m\n\u001b[1;32m      4\u001b[0m \u001b[0mplt\u001b[0m\u001b[0;34m.\u001b[0m\u001b[0mshow\u001b[0m\u001b[0;34m(\u001b[0m\u001b[0;34m)\u001b[0m\u001b[0;34m\u001b[0m\u001b[0m\n",
      "\u001b[0;31mNameError\u001b[0m: name 'history' is not defined"
     ]
    }
   ],
   "source": [
    "import matplotlib.pyplot as plt\n",
    "plt.plot(range(epochs),history.history['MCC'])\n",
    "plt.plot(range(epochs),history.history['val_MCC'])\n",
    "plt.show()"
   ]
  },
  {
   "cell_type": "code",
   "execution_count": 0,
   "metadata": {
    "colab": {},
    "colab_type": "code",
    "collapsed": false,
    "deletable": true,
    "editable": true,
    "id": "f51eS96PbDlU",
    "outputId": "28185582-ad7c-496e-a30e-4a77f62e38a5"
   },
   "outputs": [
    {
     "data": {
      "image/png": "[encoded data removed]",
      "text/plain": [
       "<matplotlib.figure.Figure at 0x7fd656d8a950>"
      ]
     },
     "metadata": {
      "tags": []
     },
     "output_type": "display_data"
    }
   ],
   "source": [
    "plt.plot(range(epochs),map(np.log10,history.history['loss']))\n",
    "plt.plot(range(epochs),map(np.log10,history.history['val_loss']))\n",
    "plt.show()"
   ]
  },
  {
   "cell_type": "code",
   "execution_count": 0,
   "metadata": {
    "colab": {},
    "colab_type": "code",
    "collapsed": true,
    "deletable": true,
    "editable": true,
    "id": "v5SfdF5uj6FI"
   },
   "outputs": [],
   "source": [
    "# get test predictions\n",
    "y_pred_test = np.zeros(shape=(len(y_test),1))\n",
    "y_pred_val = np.zeros(shape=(len(y_val),1))\n",
    "y_pred_test = model.predict(X_test)\n",
    "y_pred_val = model.predict(X_val)"
   ]
  },
  {
   "cell_type": "code",
   "execution_count": 0,
   "metadata": {
    "colab": {},
    "colab_type": "code",
    "collapsed": true,
    "deletable": true,
    "editable": true,
    "id": "t8ptAhK8j3HZ"
   },
   "outputs": [],
   "source": [
    "def matthews_corrcoef(y_true, y_pred): #balanced metric\n",
    "    assert y_true.shape == y_pred.shape\n",
    "    y_pred_pos = 1*(y_pred > 0.5)\n",
    "    y_pred_neg = 1 - y_pred_pos\n",
    "\n",
    "    y_pos = 1*(y_true > 0.5)\n",
    "    y_neg = 1 - y_pos\n",
    "\n",
    "    tp = np.sum(y_pos * y_pred_pos)\n",
    "    tn = np.sum(y_neg * y_pred_neg)\n",
    "\n",
    "    fp = np.sum(y_neg * y_pred_pos)\n",
    "    fn = np.sum(y_pos * y_pred_neg)\n",
    "    #print tp , tn , fp ,fn\n",
    "    numerator = (tp * tn - fp * fn)\n",
    "    denominator = np.sqrt((tp + fp) * (tp + fn) * (tn + fp) * (tn + fn))\n",
    "    return numerator/denominator"
   ]
  },
  {
   "cell_type": "code",
   "execution_count": 47,
   "metadata": {
    "colab": {
     "base_uri": "https://localhost:8080/",
     "height": 52
    },
    "colab_type": "code",
    "collapsed": false,
    "deletable": true,
    "editable": true,
    "id": "M4NZr3U2bDlq",
    "outputId": "bc2d4188-f5dd-4d40-a010-b1b2dee7c6c7"
   },
   "outputs": [
    {
     "name": "stdout",
     "output_type": "stream",
     "text": [
      "0.2913154597984349\n",
      "0.3641446014084104\n"
     ]
    }
   ],
   "source": [
    "print matthews_corrcoef(y_val,y_pred_val[:,0])\n",
    "print matthews_corrcoef(y_test,y_pred_test[:,0])\n",
    "# values are higher because MCC is not supposed to be used in batches but rather the whole dataset"
   ]
  },
  {
   "cell_type": "code",
   "execution_count": 48,
   "metadata": {
    "colab": {
     "base_uri": "https://localhost:8080/",
     "height": 34
    },
    "colab_type": "code",
    "collapsed": false,
    "deletable": true,
    "editable": true,
    "id": "T-_QENSJbDl0",
    "outputId": "9d24e139-9265-4c2e-f8f1-40fa8566d6f6"
   },
   "outputs": [
    {
     "data": {
      "text/plain": [
       "(192, 80)"
      ]
     },
     "execution_count": 48,
     "metadata": {
      "tags": []
     },
     "output_type": "execute_result"
    }
   ],
   "source": [
    "# find the wrong answers\n",
    "wrong = X_test[(y_test != (y_pred_test[:,0]>0.5)*1)]\n",
    "wrong_y = y_test[(y_test != (y_pred_test[:,0]>0.5)*1)]\n",
    "wrong_pred = y_pred_test[(y_test != (y_pred_test[:,0]>0.5)*1)]\n",
    "wrong.shape"
   ]
  },
  {
   "cell_type": "code",
   "execution_count": 50,
   "metadata": {
    "colab": {
     "base_uri": "https://localhost:8080/",
     "height": 13375
    },
    "colab_type": "code",
    "collapsed": false,
    "deletable": true,
    "editable": true,
    "id": "XxIA1sxFbDl8",
    "outputId": "7131ac75-edc7-4373-f570-144a1eaa0d31"
   },
   "outputs": [
    {
     "name": "stdout",
     "output_type": "stream",
     "text": [
      "Twilight's Kristen Stewart tells Elle UK she's 'really in love with my girlfriend'American actress Kristen Stewart, who played the girlfriend of Robert Pattinson in the Twilight movie series and subsequently in real life, is for the first time speaking publicly of her current love interest - another woman. 0 [0.8731444] \n",
      "\n",
      "\n",
      "\n",
      "USA Gymnastics president resigns in wake of sex abuse scandalThe president of USA Gymnastics resigned in the wake of a scandal in which accusers say he was slow to notify authorities about sexual abuse allegations.Gymnastics chief Steve Penny had faced mounting calls to quit following allegations by hundreds of women who say they have been sexually abused, many of them by former national team doctor Larry Nassar (above) during training camps. 0 [0.52146846] \n",
      "\n",
      "\n",
      "\n",
      "Police hunt for gunman after deadly Tel Aviv pub attackIsraeli security forces pressed a manhunt for the gunman who killed two people and wounded seven others at a Tel Aviv pub, with the motive for the attack still a mystery.  0 [0.7374529] \n",
      "\n",
      "\n",
      "\n",
      "US Capitol lockdown lifted after shooting suspect shot and captured, bystander injuredThe US Capitol and White House wenton lockdown on Monday after shots were fired in the Capitol Visitors Centre, police said, but the gunman was quickly shot, and taken into custody, and the lockdown lifted. A female bystander was wounded by shrapnel. 0 [0.68678427] \n",
      "\n",
      "\n",
      "\n",
      "Nurse charged with murdering 8 in Canadian old-age homesA Canadian nurse was charged on Tuesday (Oct 25) with using drugs to  killing spree that ran for seven years.  0 [0.9149442] \n",
      "\n",
      "\n",
      "\n",
      "NBA: Golfer Jason Day's wife out of hospital after LeBron James falls on herEllie Day, the wife of Australian golf star Jason Day, had concussion symptoms on Friday but was out of the hospital after being fallen upon by LeBron James while sitting courtside at an NBA game. 0 [0.6529274] \n",
      "\n",
      "\n",
      "\n",
      "Man shoots Philadelphia police officer, cites Islam as motive - officialA gunman claiming to have pledged allegiance to Islamic State in Iraq and Syria (ISIS) militants shoots and seriously wounds a Philadelphia police officer as he sits in his patrol car in an ambush-style attack. 0 [0.87522864] \n",
      "\n",
      "\n",
      "\n",
      "Sony Music's Twitter hacked, fake Britney Spears death tweets sentSony Music Entertainment's Twitter account was hacked on Monday, publishing fake statements that pop music icon Britney Spears had died. 1 [0.21654874] \n",
      "\n",
      "\n",
      "\n",
      "Rape charges dropped in case used by White House to back immigration crackdownUS prosecutors are dropping charges against two immigrant students accused of raping a classmate, a case that made national headlines after the White House brandished it as proof that an immigration crackdown was needed.  0 [0.573271] \n",
      "\n",
      "\n",
      "\n",
      "Aretha Franklin retiring, plans final albumGospel legend Aretha Franklin says she is retiring from recording music, but only after a final album this year that will feature Stevie Wonder. 0 [0.7870835] \n",
      "\n",
      "\n",
      "\n",
      "Christopher Kane shows he is still resourceful in fashion show to mark his 10th anniversaryScottish designer Christopher Kane marked ten years in business ON Monday with a trip down memory lane in a London show filled with references to past collections - and even a print comprised of old polaroids. 0 [0.6554524] \n",
      "\n",
      "\n",
      "\n",
      "Sheep invade Spanish city after shepherd falls asleepHundreds of sheep run loose through the northeastern Spanish city of Huesca after their shepherd falls asleep and have to be rounded up by police.  0 [0.6531627] \n",
      "\n",
      "\n",
      "\n",
      "Writers divided on whether musician Bob Dylan deserves Nobel literature prizeWith the Syrian poet Adonis and the Kenyian novelist and critic Ngugi Wa Thiong'o widely seen as favourites if not shoo-ins, Dylan's triumph sparks a mixture of horror, head scratching and elation. 0 [0.82635784] \n",
      "\n",
      "\n",
      "\n",
      "Belgian prosecutor charges four people with terrorist offencesBelgium's public prosecutor charges four people with being part of a terrorist organisation, adding that it is still not clear whether Mohamed Abrini was involved in last month's Brussels Airport bombings. 0 [0.53112394] \n",
      "\n",
      "\n",
      "\n",
      "'Dentist of horror' on trial for tearing out teeth and mutilating French patientsThe trial of a Dutch man dubbed the \"dentist of horror\" after allegedly mutilating the mouths of more than 100 patients in France was scheduled to open on Tuesday. 0 [0.5296769] \n",
      "\n",
      "\n",
      "\n",
      "Fidel Castro ashes arrive in revolution's cradle for burialThe convoy carrying the ashes of Cuba's late communist leader Fidel Castro caps an island-wide journey, reaching the cradle of his revolution for a big ceremony before his burial. 0 [0.5156757] \n",
      "\n",
      "\n",
      "\n",
      "Risen star Joseph Fiennes meets the PopeActor Joseph Fiennes joined members of the public on Wednesday for the Pope's general audience at St Peter's Square in the Vatican City. The British starwas joined by his wife and two daughters. 0 [0.9422021] \n",
      "\n",
      "\n",
      "\n",
      "Cellphone alerts used in hunt for US bombing suspectAs millions of Americans around New York and New Jersey began their commutes Monday, their cellphones abruptly alerted them to a manhunt for a suspect in weekend bombings in the area. 0 [0.508645] \n",
      "\n",
      "\n",
      "\n",
      "Madonna's ex-lover fined token 1 over selfie with snoozing far-right politicianFrench dancer Brahim Zaibat, a former lover of Madonna, was fined 1 (S$1.50) by a Paris court on Wednesday for sneaking a selfie with far-right patriarch Jean-Marie Le Pen as he snoozed on an airplane. 0 [0.55038196] \n",
      "\n",
      "\n",
      "\n",
      "Chile reburies Nobel-winning poet Pablo NerudaChile reburied Nobel prize-winning poet Pablo Neruda's remains Tuesday lingers.  0 [0.8906397] \n",
      "\n",
      "\n",
      "\n",
      "Pope asks indigenous Mexicans for forgivenessPope Francis asked Mexico's indigenous population on Monday (Feb 15) for native languages in impoverished Chiapas state.  0 [0.60406804] \n",
      "\n",
      "\n",
      "\n",
      "German arrested on suspicion of selling gun to Munich shooterPolice arrest an armed 31-year-old German man who boasted during a sting operation that he had supplied the Glock 17 pistol used by a gunman who killed nine people in Munich on July 22.  0 [0.68616503] \n",
      "\n",
      "\n",
      "\n",
      "Decision still pending on fate of convicted murderer Jabing KhoAfive-judge Court of Appeal is mulling over his lawyer's arguments to quash his death sentence. 1 [0.24453871] \n",
      "\n",
      "\n",
      "\n",
      "More people die on Jan 1 than any other time of the year: ResearchThe first two weeks around Christmas and the New Year seem to be the  spike during this period.  1 [0.36381063] \n",
      "\n",
      "\n",
      "\n",
      "Russia probes 'act of terror' as metro blast death toll rises to 10Russia opened a probe into a suspected \"act of terror\" on Monday (April 3) after 10 people were killed and dozens more injured in a blast that rocked the Saint Petersburg metro. 1 [0.3559648] \n",
      "\n",
      "\n",
      "\n",
      "Life-size replica of 18th century ship Gotheborg is up for saleThe world's largest seaworthy wooden ship of its class - a replica of a merchant vessel that sank in 1745 off the coast of Sweden for reasons still unknown - is up for sale after years on the seas. 0 [0.7488035] \n",
      "\n",
      "\n",
      "\n",
      "Polish plane makes emergency landing in Prague after bomb threatA Boeing 707 operated by a Polish charter airline makes an emergency landing in Prague after a bomb threat, Czech air traffic controllers said. Czech public television said police had detained a man who had threatened to detonate a bomb. 0 [0.53746295] \n",
      "\n",
      "\n",
      "\n",
      "Singapore express deepest condolences to those who lost loved ones in south-western Japan quake: MFA 0 [0.6304179] \n",
      "\n",
      "\n",
      "\n",
      "Mayhem in Times Square: Car leaves path of destructionSeconds before impact, two women pushed their baby strollers right where the car would begin its path of destruction through Times Square.Then came the horrifying moment: The burgundy Honda accord drove onto the sidewalk, scooping up five pedestrians over the hood and tossing them aside like bowling pins. 0 [0.61341166] \n",
      "\n",
      "\n",
      "\n",
      "Three killed as ethnic rivalries fuel brawl at Moscow cemeteryTwo dozen are wounded in the mass brawl at Moscow's largest cemetery that witnesses said was sparked by rivalry between ethnic groups battling for control of the burial service business.  0 [0.72382027] \n",
      "\n",
      "\n",
      "\n",
      "Singer Chris Brown, police in standoff after woman claims gun incident - TMZ.comPolice helicopters flew over the southern California home of Chris Brown on Tuesday after authorities received a pre-dawn 911 call that celebrity website TMZ.com said came from a woman who claimed Brown had earlier pulled a gun on her at the house. The singer denied any wrongdoing.  0 [0.86684626] \n",
      "\n",
      "\n",
      "\n",
      "North Korea will reject Malaysian autopsy report on North Korean - envoyNorth Korea said it would \"categorically reject\" the post-mortem conducted by Malaysia on one of its citizens who died in Kuala Lumpur this week, and demanded the body be released immediately.  1 [0.02390211] \n",
      "\n",
      "\n",
      "\n",
      "White actor Joseph Fiennes picked to play black pop legend Michael Jackson in new movieIf you thought King of Pop Michael Jackson had a strange life, things are about to get even weirder now that he's long gone. Britain's new Sky Arts production company has cast a white British actor, Shakespeare In Love's Joseph Fiennes, to play the black superstar in a new movie. 0 [0.91098446] \n",
      "\n",
      "\n",
      "\n",
      "Three-decade study confirms saturated fats are bad for healthSaturated fats in butter, lard and red meat raise the risk of early death, but replacing these with fats like olive oil can offer substantial health benefits, a three-decade study confirms.  1 [0.24624038] \n",
      "\n",
      "\n",
      "\n",
      "Pakistan arrests university attack suspectsPakistani security agencies have arrested five men accused of helping organise Wednesday's attack on a university in the country's troubled northwest that killed 21 people.  0 [0.6453569] \n",
      "\n",
      "\n",
      "\n",
      "Two thirds of cancers caused by random genetic mistakes - US studyAbout two thirds of cancers are caused by random typos in DNA that occur as normal cells make copies of themselves, a finding that helps explain why healthy individuals who do everything they can to avoid cancer are still stricken with the disease, US researchers said. 0 [0.77624804] \n",
      "\n",
      "\n",
      "\n",
      "Body of beheaded German hostage Jurgen Kantner found in PhilippinesThe Philippine military said on Sunday it had recovered the body of an elderly German hostage who was beheaded by Islamic militants last week. 0 [0.74771947] \n",
      "\n",
      "\n",
      "\n",
      "Famine fears rise after hurricane wrecks Haiti's bread-basketHurricane Matthew tore up large tracts of food crops as well as mature  poorest nation in the Americas.  0 [0.7128608] \n",
      "\n",
      "\n",
      "\n",
      "French terror suspects charged over fake baby bumpA French convert to Islam and her husband were charged on Thursday with terrorist conspiracy after police discovered a fake stomach used to make a woman appear pregnant, judicial sources said. 0 [0.6093536] \n",
      "\n",
      "\n",
      "\n",
      "'Smarter' homes available for 3,200 households in Yuhua in a bid to improve livesAround 3,200 households in Yuhua can now have \"smarter\" homes, including having sensors that can help monitor the well-being of the elderly. 0 [0.51916885] \n",
      "\n",
      "\n",
      "\n",
      "New dad Mark Zuckerberg vows to give away Facebook fortuneFacebook co-founder Mark Zuckerberg on Tuesday announced he had become a father - and pledged to give away his fortune to make the world a \"better place\" for baby daughter Max and others. 0 [0.51284033] \n",
      "\n",
      "\n",
      "\n",
      "Tens of thousands in London march against PM, austerityTens of thousands of people marched through London on Saturday (April offshore finances.  0 [0.50694364] \n",
      "\n",
      "\n",
      "\n",
      "Gunmen storm beach restaurant in Somali capital Mogadishu: AFPSeveral gunman attacked a beachfront restaurant in the Somali capital Mogadishu on Thursday (Aug 25), prompting an exchange of fire with the security forces, an AFP correspondent said.  0 [0.6618529] \n",
      "\n",
      "\n",
      "\n",
      "Trump not laughing as paper targets 'brain dead' supportersTrump fired back on Twitter on Wednesday against the New York Daily News, after the tabloid published a photo of Trump edited to make him appear similar to \"The Joker,\" a clown-like villain from the Batman comic series. 1 [0.06699231] \n",
      "\n",
      "\n",
      "\n",
      "Malaysian girl allegedly sold: Singapore couple say 2-year-old toddler back in Johor BaruThe Malaysian toddler \"adopted\" by a Singaporean couple - after she was allegedly sold by her father to a middleman - is now back in Johor Baru.  0 [0.54652065] \n",
      "\n",
      "\n",
      "\n",
      "Smoking a pack a day causes 150 mutations in every lung cell, research showsScientists have found that smoking a pack a day of cigarettes can cause 150 damaging changes to a smoker's lung cells each year.  0 [0.6092491] \n",
      "\n",
      "\n",
      "\n",
      "Actress Sofia Vergara faces lawsuit from her own two frozen embryosModern Family star Sofia Vergara is being sued by her two frozen embryos in an unusual lawsuit as part of a three-year battle by her ex-fiance to see the embryos brought to life. 0 [0.7755131] \n",
      "\n",
      "\n",
      "\n",
      "Sombre Christmas for Iraq's Christians under threat from ISISWith Christmas falling this year a day after Prophet Mohammad's birthday, the city of Baghdad is holding Christmas celebrations in a sign of brotherhood with Iraq's hard-pressed Christian community. 0 [0.5223824] \n",
      "\n",
      "\n",
      "\n",
      "Egypt hires airport security consultants after crashEgypt said on Tuesday (Dec 22) it has appointed a global consultancy Russian airliner crash in the Sinai killed 224 people.  0 [0.514687] \n",
      "\n",
      "\n",
      "\n",
      "F1: Hamilton and Rosberg crash out in first lapMercedes teammates and rivals Lewis Hamilton and Nico Rosberg crashed out in the first lap of the Spanish Grand Prix in Barcelona, after Hamilton tried to overtake Rosberg but accidentally bumped his vehicle. 0 [0.5239318] \n",
      "\n",
      "\n",
      "\n",
      "At least 13 killed, 31 injured in California tour bus crashA tour bus crashed into the back of a tractor-trailer on a Southern people and injuring 31, authorities said.  0 [0.9567189] \n",
      "\n",
      "\n",
      "\n",
      "Cycling: Riders demand probe into death of Antoine Demoitie, hit by motorbike after fallThe Association of Professional Cyclists (CPA) wants an urgent investigation into the death of Belgian Antoine Demoitie at the Gent-Wevelgem classic race over the weekend. 1 [0.09755608] \n",
      "\n",
      "\n",
      "\n",
      "Woman says Trump reached under her skirt and groped her in early 1990sKristin Anderson was deep in conversation with acquaintances at a crowded Manhattan nightspot and did not notice the figure to her right on a red velvet couch - until, she recalls, his fingers slid under her miniskirt, moved up her inner thigh, and touched her intimately through her underwear. 0 [0.7361966] \n",
      "\n",
      "\n",
      "\n",
      "Carolina Herrera 'honoured' to dress Melania TrumpFashion designer Carolina Herrera has said she would be happy to dress Melania Trump -after a host of designers gave the US First Lady-in-waiting the cold shoulder.  0 [0.5055343] \n",
      "\n",
      "\n",
      "\n",
      "Meryl Streep sparks uproar over 'We're all Africans' remarksMeryl Streep, the most admired actress of her generation, fuelled Hollywood's diversity controversy on Thursday when she said that all of humanity originated in Africa.  0 [0.67644286] \n",
      "\n",
      "\n",
      "\n",
      "Eighteen migrants drown after boat sinks off Turkey's western coast: mediaEighteen people, including six children, drowned on Thursday after a boat carrying migrants sank off Turkey's western coastal town of Dikili, Dogan news agency reported.  0 [0.69208014] \n",
      "\n",
      "\n",
      "\n",
      "Man gets stuck in public toilet over lost phoneFiremen in Norway came to the rescue of a man who climbed into an outdoor public toilet to retrieve a friend's cellphone, after he got stuck in the tank. 0 [0.6146715] \n",
      "\n",
      "\n",
      "\n",
      "Rally in Venice to fight exodus of residents from citySeveral hundred citizens of Venice rally to draw attention to an exodus of residents that they fear is sucking the life out of the fabled Italy city, which is said to be losing about 1,000 residents a year. 0 [0.62172586] \n",
      "\n",
      "\n",
      "\n",
      "Endangered northern white rhino dies at California zoo, three remain worldwideA 41-year-old northern white rhino died on Sunday at the San Diego Zoo Safari Park, leaving just three members of the critically endangered species alive worldwide, zoo officials said. 1 [0.37981766] \n",
      "\n",
      "\n",
      "\n",
      "Brutal rape, murder of 16-year-old girl sparks new protests in ArgentinaThe brutal killing of a 16-year-old girl who was allegedly raped and impaled on a spike by drug dealers has sparked outrage in Argentina, where protesters took part in a \"women's strike\" on Wednesday.  0 [0.8228423] \n",
      "\n",
      "\n",
      "\n",
      "One of France church attackers was charged for terror link: Probe sourceOne of the two attackers who stormed a church in France and slit a priest's throat had been charged with terror links and held before being freed on bail, a source close to the investigation says. 0 [0.57100123] \n",
      "\n",
      "\n",
      "\n",
      "Maldives foreign minister rejects Amal Clooney's criticism as 'stories'Maldives Foreign Minister Dunya Maumoon on Monday rejected international human rights lawyer Amal Clooney's criticism that democracy was \"dead\" in the Indian Ocean island. 1 [0.1536063] \n",
      "\n",
      "\n",
      "\n",
      "Eighteen migrants die as EU seeks Turkish help to slow influxAt least 18 people drowned trying to cross the Aegean Sea on Sunday operations said.  1 [0.39949298] \n",
      "\n",
      "\n",
      "\n",
      "Moonwalker Buzz Aldrin medically evacuated from South PoleBuzz Aldrin, the 86-year-old retired US astronaut who was the second Aldrin was visiting Antarctica as part of a tourist group, when his \"condition deteriorated.\"  0 [0.58429575] \n",
      "\n",
      "\n",
      "\n",
      "Two rescued Colombian circus lions die at South African refugeTwo lions rescued from circuses in Colombia and brought to a South African refuge in April have died, the organisation that arranged the rescue and airlift operation said on its website. 1 [0.24847658] \n",
      "\n",
      "\n",
      "\n",
      "Three people killed in Los Angeles shootoutThree people are killed and at least a dozen more injured when a shooting breaks out after an argument at a pop-up restaurant in Los Angeles, police say.One person has been arrested and police have launched a manhunt for another in connection with the deadly incident.  0 [0.90111506] \n",
      "\n",
      "\n",
      "\n",
      "Grandpa astronaut Jeff Williams breaks record for days in spaceAmerican astronaut Jeff Williams, 58, has broken his retired Nasa colleague Scott Kelly's record for the most cumulative days in space. Williams, an accomplished spacewalker, surpassed Kelly's record of 520 days on Aug 24. 0 [0.6561739] \n",
      "\n",
      "\n",
      "\n",
      "London attacks: Three French schoolchildren hurtThe three students from the Concarneau Lycee in Brittany, western in a statement.  0 [0.7284885] \n",
      "\n",
      "\n",
      "\n",
      "US woman killed in London was wife of Florida State professorAn American woman killed in a knife attack in London was the wife of an eminent psychology professor at Florida State University.  0 [0.9248686] \n",
      "\n",
      "\n",
      "\n",
      "From wee rex to T-rex: modest forerunner to huge predator foundFossils unearthed in northern Uzbekistan's remote Kyzylkum Desert of a smaller, older cousin of Tyrannosaurus rex are showing that the modest forerunners of that famous brute had already acquired the sophisticated brain and senses that helped make it such a horrifying predator. 0 [0.58500624] \n",
      "\n",
      "\n",
      "\n",
      "Jamie Dornan and Dakota Johnson go darker in Fifty Shades sequelTwo years after the bonkbuster film Fifty Shades of Grey had housewives riding stable.  0 [0.87543976] \n",
      "\n",
      "\n",
      "\n",
      "Brother tells Berlin attack suspect to surrenderA brother of Tunisian Anis Amri, the prime suspect in a deadly truck surrender to ease pressure on his family.  0 [0.76290673] \n",
      "\n",
      "\n",
      "\n",
      "Film-makers fined $2.7 million over Harrison Ford Star Wars broken legA film production company is fined 1.6 million (S$2.7 million) over an accident on the set of the latest Star Wars movie in which the actor Harrison Ford broke his leg. 0 [0.51988995] \n",
      "\n",
      "\n",
      "\n",
      "Retired general James Mattis a top candidate for Pentagon chiefJames Mattis, the blunt-spoken retired Marine Corps general who headed with President-elect Donald Trump calling him \"very impressive.\"  0 [0.61791646] \n",
      "\n",
      "\n",
      "\n",
      "Movie star Arnold Schwarzenegger charged by elephant\"Some of us had to change our pants,\" he said on his Twitter feed after he posted a 30-second video of the brief encounter in Africa. 0 [0.5819287] \n",
      "\n",
      "\n",
      "\n",
      "Paris attacks: French police release photo of third stadium suicide bomberFrench police on Sunday released a photo of the third of three suicide bombers who blew themselves up outside France's national stadium during the Nov 13 Paris attacks. 0 [0.508253] \n",
      "\n",
      "\n",
      "\n",
      "Deadly hurricane hits Nicaragua, Costa RicaA compact but powerful Caribbean hurricane makes landfall in Nicaragua, clobbering the south of the country and northern neighbouring Costa Rica with 175kmh winds and rains likely to trigger floods and mudslides.  0 [0.7941547] \n",
      "\n",
      "\n",
      "\n",
      "Four killed in India-Pakistan cross border firing: officialsTwo children and another civilian were killed along with a soldier in firing across the border between India and Pakistan, officials from both sides said on Monday, as tensions soar between the nuclear-armed rivals. 0 [0.56505746] \n",
      "\n",
      "\n",
      "\n",
      "JUST IN:London tube station evacuated over security threatLondon's transport system evacuated Baker Street underground station in the centre of the British capital on Thursday after a \"suspicious vehicle\" was reported nearby, police said. 0 [0.6502026] \n",
      "\n",
      "\n",
      "\n",
      "BREAKING: Car bomb in Turkey's south-east kills three-year-old, wounds 15 - news agencyA three-year-old was killed and 15 people were wounded by a car bomb in a southeastern Turkish town, provincial governor Gungor Azim Tuna was quoted as saying by state-run Anadolu news agency.The car exploded outside a housing complex for judges and prosecutors in the town of Viransehir, in Sanliurfa province near the border with Syria. 0 [0.7148588] \n",
      "\n",
      "\n",
      "\n",
      "Huge swath of world's wilderness lost since 1990s - studyAreas of the world that are untouched by humans are disappearing, with researchers say.  0 [0.5512191] \n",
      "\n",
      "\n",
      "\n",
      "Shenzhen landslide an industrial accident, not geological disaster: GovernmentThe landslide, which struck the southern city of Shenzhen on Sunday (Dec 20), is the latest in a series of fatal man-made accidents in the worlds most populous country, coming just months after a massive chemical blast in the industrial city of Tianjin killed almost 200 people. 0 [0.8465993] \n",
      "\n",
      "\n",
      "\n",
      "Austrian police nab neo-Nazi who wanted to kill all asylum-seekersAustrian police commandos have arrested a suspected neo-Nazi who allegedly threatened to massacre asylum-seekers, recovering several weapons and ammunition at his home, police said Sunday. 0 [0.6427738] \n",
      "\n",
      "\n",
      "\n",
      "New weapons cache uncovered outside ParisFrench investigators announce the discovery of a weapons cache in a Paris suburb, including grenade launchers, a rocket launcher, bulletproof vests, guns and ammunition.  0 [0.5437251] \n",
      "\n",
      "\n",
      "\n",
      "Hundreds hurt or killed in air strike on Sanaa mourners - Yemen health ministryA senior official at the Houthi-run Yemeni Health Ministry says more than 450 people have been injured or killed in a Saudi-led air strike on mourners in the Yemeni capital Sanaa.  0 [0.77475464] \n",
      "\n",
      "\n",
      "\n",
      "Swiss artist goes nude in Cologne sex assault protestSwiss artist Milo Moire throws off her clothes in front of Cologne's cathedral in a protest against a rash of sexual assaults blamed on migrants. 0 [0.75996447] \n",
      "\n",
      "\n",
      "\n",
      "Wife of Orlando nightclub gunman arrested - US attorney-generalUS authorities have arrested the wife of the gunman who killed 49 people at an Orlando gay nightclub last year, a massacre that intensified fears about \"lone wolf\" attacks against Americans, the US attorney-general said.  0 [0.85312635] \n",
      "\n",
      "\n",
      "\n",
      "Star Wars actress Carrie Fisher fights for life after heart attackHollywood star Carrie Fisher was fighting for her life, one day after suffering a massive heart attack near the end of a transatlantic flight.Her brother, Todd Fisher, told The Hollywood Reporter that Fisher was \"out of emergency\" but he later denied media reports that she was in stable condition. 0 [0.9273029] \n",
      "\n",
      "\n",
      "\n",
      "Suspect found biting off man's face at Florida murder sceneAteenager bites off pieces of the face of a slain man at the scene of a double homicide in Florida that may be linked to an addictive synthetic drug. 0 [0.5957026] \n",
      "\n",
      "\n",
      "\n",
      "Arsenio Hall sues Sinead O'Connor over Prince drug accusationsThe comedian has filed a defamation lawsuit against singer O'Connor after she accused him on her Facebook page of supplying drugs to late music legend Prince.  0 [0.8504757] \n",
      "\n",
      "\n",
      "\n",
      "Young Afghan friend of Munich gunman arrested over possible role in shooting - policeGerman police arrested a 16-year-old Afghan youth on Sunday on suspicion of a connection to the killing of nine people by an 18-year-old gunman in Munich, authorities said. 0 [0.87057495] \n",
      "\n",
      "\n",
      "\n",
      "Prince left no will, sister tells courtPrince's sister said on Tuesday (April 26) the pop icon left no known oversee his vast estate.  0 [0.6909677] \n",
      "\n",
      "\n",
      "\n",
      "News in briefs: Underwear-clad car owner foils theft in -17C weatherA car thief in Norway got more than he bargained with when the vehicle's owner, dressed only in his underwear, clung heroically to the vehicle's roof in temperatures of -17C (one degree Fahrenheit) to foil the theft. 0 [0.5006525] \n",
      "\n",
      "\n",
      "\n",
      "Cholera kills 13 in south-west Haiti in wake of Matthew, dozens illCholera outbreaks have killed at least 13 people in south-west Haiti in the wake of Hurricane Matthew, say government officials, voicing concern that the disease is spreading.  0 [0.83527386] \n",
      "\n",
      "\n",
      "\n",
      "Justin Bieber expelled from Mayan ruinsJustin Bieber tried to take in a bit too much culture during his Mexican vacation as the pop star was kicked out of Mayan ruins for attempting to enter a restricted area.  0 [0.6747477] \n",
      "\n",
      "\n",
      "\n",
      "Newly discovered Van Gogh sketchbook to be publishedA sketchbook of drawings by Dutch post-Impressionist master Vincent Van Gogh has been discovered and will be published in November. 0 [0.5958138] \n",
      "\n",
      "\n",
      "\n",
      "Ikea recalls 36 million chests, dressers after six deathsSwedish furniture retailer Ikea Group is recalling almost 36 million chests and dressers in the United States and Canada that have been linked to the deaths of six children.  0 [0.8479072] \n",
      "\n",
      "\n",
      "\n",
      "23 Chinese among Borneo shipwreck survivors, six people missingOfficials said that five Chinese tourists and one Malaysian crew member are still missing.  0 [0.7740182] \n",
      "\n",
      "\n",
      "\n",
      "Casulties from explosion at British power station: BBCEmergency services said on Tuesday (Feb 23) they were dealing with an been an explosion at the site and there had been casualties. 0 [0.7836541] \n",
      "\n",
      "\n",
      "\n",
      "Twenty-four people missing after deadly garbage dump accident in GuatemalaAt least 24 people are still missing after a collapse at Guatemala said on Friday (April 29).  0 [0.73655313] \n",
      "\n",
      "\n",
      "\n",
      "Plane skids on Dutch runway after landing gear collapses in raging windsA passenger plane skidded along a runway at Amsterdam's busy airport as its landing gear collapsed on hitting the ground during heavy winds, but no passengers were injured.  0 [0.61142623] \n",
      "\n",
      "\n",
      "\n",
      "Six arrested after low-caste boys stripped, beaten in IndiaThe arrests in Rajasthan state happened after media reports and a video emerged of three lower-caste boys being stripped naked and beaten by villagers for allegedly stealing a motorbike. 0 [0.8670534] \n",
      "\n",
      "\n",
      "\n",
      "Canadian friends find out they were switched at birthAfter living 41 years as friends, two indigenous Canadians confirm that they were switched at birth. Recent DNA tests show that one man was raised by the biological mother of the other.  0 [0.6336782] \n",
      "\n",
      "\n",
      "\n",
      "London attacks: Eight held in Britain on suspicion of preparing terrorist actsThe eight people arrested following the attack outside the British parliament are being investigated on suspicion of preparation of terrorist acts, police said on Thursday. 0 [0.5213874] \n",
      "\n",
      "\n",
      "\n",
      "Alanis Morissette loses millions in burglary: ReportBurglars made off with US$2 million (S$2.8 million) in jewellery from singer Alanis Morissette's home in the upscale Los Angeles neighborhood of Brentwood, US media reported on Tuesday. 0 [0.61656296] \n",
      "\n",
      "\n",
      "\n",
      "Belgium charges suspect with terrorism over Paris attacksBelgium on Friday charged one suspect with involvement in terrorism over the Paris attacks and released one other as part of a separate investigation into suicide bomber Hadfi Bilal, prosecutors said. 0 [0.52026975] \n",
      "\n",
      "\n",
      "\n",
      "New Jersey grand jury indicts trucker in Tracy Morgan crashA New Jersey grand jury indicted the driver of a Wal-Mart truck on Wednesday in the 2014 crash that left 30 Rock star Tracy Morgan with brain injuries and killed a fellow comedian. 0 [0.8131633] \n",
      "\n",
      "\n",
      "\n",
      "Two teens held by Indian police for Uber driver's murderThe 51-year-old Uber driver was killed in the capital New Delhi earlier this week, after an argument erupted in the car. 0 [0.7418627] \n",
      "\n",
      "\n",
      "\n",
      "Baby boy for Princess Sofia of SwedenPrincess Sofia of Sweden, married to third in line to the throne Carl announced.  0 [0.7685265] \n",
      "\n",
      "\n",
      "\n",
      "11 killed, 12 injured in Costa Rica bus plunge - emergency officialsA bus plunges off a steep road in a mountainous area north of Costa Rica's capital, killing 11 people on board and injuring 12, according to rescue officials.The passengers were retired staff members of Costa Rica's National University on their way to an indigenous reserve to carry out social work.  0 [0.8350548] \n",
      "\n",
      "\n",
      "\n",
      "Prince William and Kate enjoy cricket and Bollywood on India tourBritain's Prince William and his wife Kate played cricket with children and mingled with Bollywood superstars at a glittering gala dinner as they began their tour of India in style Sunday. 0 [0.8003728] \n",
      "\n",
      "\n",
      "\n",
      "Another militant attack on Indian army base in Kashmir kills oneAt least six militants attacked an Indian army camp in north Kashmir on Sunday night, killing one border guard and wounding another, two weeks after a similar attack killed 19 of its soldiers and ratcheted up tensions between India and Pakistan. 0 [0.74962085] \n",
      "\n",
      "\n",
      "\n",
      "NASA releases strange 'music' heard by 1969 astronautsNASA has made public a recording of strange \"music\" that astronauts reported hearing in 1969 while on the far side of the Moon, out of radio contact with the Earth. 0 [0.5519015] \n",
      "\n",
      "\n",
      "\n",
      "Football: My dream has died, says RanieriClaudio Ranieri said his \"dream died\" when he was sacked by Leicester City nine months after leading them to the Premier League title against all the odds.  1 [0.27556893] \n",
      "\n",
      "\n",
      "\n",
      "Howls of grief, cries for justice at funeral of girl hit by stray bullets during police opRelatives and friends of a 13-year-old Rio schoolgirl killed by stray bullets during a police operation howled with grief at her burial - and demanded justice.Maria Eduarda Alves da Conceicao was shot on Thursday while in a gym class at her school. 0 [0.9247793] \n",
      "\n",
      "\n",
      "\n",
      "Rembrandt painting found in New Jersey basement now in museumA painting languishing in a New Jersey basement that turned out to be one of Dutch master Rembrandt's earliest works goes on display at the J. Paul Getty Museum in California as a key part of an exhibit on the 17th century artist.  0 [0.64112955] \n",
      "\n",
      "\n",
      "\n",
      "Pope Francis takes 3 Syrian refugee families back to Rome after visit to Greek campPope Francis took three families of Syrian refugees back to Rome on Saturday after visiting the frontline of Europe's migrant crisis at a camp in Greece where migrants wept at his feet, kissed his hand and begged for help. 0 [0.7072597] \n",
      "\n",
      "\n",
      "\n",
      "Ex-Stanford student Brock Turner released from jail early after sexual assault convictionTV news cameras caught the 21-year-old former swimmer as he left the Santa Clara County Jail in San Jose, California, and quickly drove away in a car without commenting. 0 [0.8488746] \n",
      "\n",
      "\n",
      "\n",
      "Australian woman freed after kidnap by Al-Qaeda in Burkina FasoAn Australian woman has been freed after she and her husband were kidnapped by an Al-Qaeda-affiliated group on Jan 15 in Burkina Faso, neighbouring Niger's President Mahamadou Issoufou said on Saturday. 0 [0.579564] \n",
      "\n",
      "\n",
      "\n",
      "Family of Paris attacker at Brussels solidarity vigilHundreds of Belgians joined a candlelight vigil in solidarity with the victims of the Paris attacks on Wednesday.Mohamed Abdeslam - whose brother Brahim blew himself up in Paris while another sibling Salah is still at large - lit a candle on the balcony of the family home. 0 [0.83243537] \n",
      "\n",
      "\n",
      "\n",
      "Alzheimer's 'lost' memories may be recoverable: StudySufferers of Alzheimer's disease may not have \"lost\" their memories, but could simply have difficulty accessing them, say researchers, unveiling a possible treatment that could one day offer a cure to the ravages of dementia. 0 [0.75438833] \n",
      "\n",
      "\n",
      "\n",
      "Dozens of University of Michigan students complain of norovirus symptomsAn outbreak of norovirus has caused dozens of students living on the symptoms of the highly contagious disease, the school said.  0 [0.91701484] \n",
      "\n",
      "\n",
      "\n",
      "Australian Cardinal George Pell denies abusing childrenVatican finance chief Cardinal George Pell on Friday dismissed accusations he sexually abused boys during his time as a priest which are reportedly being investigated by Australian police. 0 [0.80318993] \n",
      "\n",
      "\n",
      "\n",
      "Explosions in Afghan capital Kabul kill at least 24A loud explosion hit the centre of Kabul late on Monday, hours after a Taliban suicide attack near the Defence Ministry killed at least 24 people, including a number of senior security officials, and wounded 91 others, officials said. 0 [0.8417563] \n",
      "\n",
      "\n",
      "\n",
      "Canada's fire-ravaged Fort McMurray works to restore utilitiesCrews work to start restoring water and electricity in the Canadian oil hub turned into a ghost town by a towering ring of wildfire that reduced its suburbs to ashes.  0 [0.65578526] \n",
      "\n",
      "\n",
      "\n",
      "Three probes launched into tragic France drug trial that left one person brain-deadFrench authorities launch three investigations at a research laboratory in Rennes after a drug trial conducted there left one person brain-dead and three others facing potentially irreversible brain damage. 0 [0.65256536] \n",
      "\n",
      "\n",
      "\n",
      "Woman's head in concrete found in Austrian lakeA German pensioner strangled his wife, dismembered her body and encased  (Jan 5). 0 [0.8627901] \n",
      "\n",
      "\n",
      "\n",
      "Chad police detain nine over girl's brutal gang-rapePolice in Chad have arrested nine people, including five suspected rapists, after photographs of a girl allegedly brutally gang-raped spread on social media, the public prosecutor in the capital N'Djamena said Tuesday. 0 [0.6199662] \n",
      "\n",
      "\n",
      "\n",
      "Jennifer Lawrence tops list of best-paid actressesOscar-winning Jennifer Lawrence is named the world's highest-paid actress for the second year running, with estimated pre-tax earnings of US$46 million (S$62 million).  0 [0.65718246] \n",
      "\n",
      "\n",
      "\n",
      "Man dies after climbing on top of Eurostar train in ParisA man believed to be a migrant was electrocuted and died at a Paris railway station after climbing on top of a high-speed Eurostar train due to leave for London, disrupting rail services from the busy terminal.  1 [0.49146894] \n",
      "\n",
      "\n",
      "\n",
      "No charges in Cleveland police shooting of 12-year-old boy: prosecutorA grand jury in the US state of Ohio has declined to bring criminal charges against police officers involved in the fatal shooting last year of a 12-year-old boy in Cleveland, a prosecutor said Monday. 0 [0.8331014] \n",
      "\n",
      "\n",
      "\n",
      "Man in China slaughtered 19 after family argument: PoliceThe suspect, named Yang Qingpei, confessed to murdering his parents after returning to his hometown village of Yema in Chinas mountainous Yunnan Province and asking them for money. He then killed 17 neighbours, including children, to prevent them from discovering and reporting the murders.  0 [0.8559954] \n",
      "\n",
      "\n",
      "\n",
      "Troublemakers spark panic at Seville's Good Friday eventTroublemakers sparked panic at Seville's nighttime Good Friday processions, famed for their religious floats, hooded penitents and crowds of spectators, seriously injuring one person.  0 [0.67776054] \n",
      "\n",
      "\n",
      "\n",
      "British man arrested at Amsterdam airport for false bomb threatDutch police said they arrested a 29-year-old British man at gunpoint at Amsterdam's Schiphol airport after he shouted several times that he had a bomb.  0 [0.8339756] \n",
      "\n",
      "\n",
      "\n",
      "US Navy Seal killed in Iraq was part of 'quick reaction force'A US Navy Seal killed by Islamic State militants in northern Iraq was part of a \"quick reaction force\" called in after a firefight broke out involving American advisers.  0 [0.51852053] \n",
      "\n",
      "\n",
      "\n",
      "Backstreet Boys singer Nick Carter arrested over bar fightCarter was arrested on assault charges after a fight outside a bar in Florida, police said, after he and another person were escorted out for being drunk. 0 [0.93594694] \n",
      "\n",
      "\n",
      "\n",
      "EgyptAir black box confirms smoke on board: ProbeData from one of the black boxes of a crashed EgyptAir plane shows smoke alarms went off on board, while investigators find soot on the wreckage, Egyptian authorities say.  0 [0.6567082] \n",
      "\n",
      "\n",
      "\n",
      "Painting found in French attic is S$184 million Italian master Caravaggio, say expertsA painting found in the attic of a house in southwest France two years in the history of art.  0 [0.8788994] \n",
      "\n",
      "\n",
      "\n",
      "Art detective says female and male model used for Mona Lisa faceMona Lisa's enigmatic smile draws millions of viewers from across the world, all eager to see the art world's most famous female face. But is it? 0 [0.6171156] \n",
      "\n",
      "\n",
      "\n",
      "Thousands demonstrate in Paris over murder of Kurdish militantsSeveral thousand people demonstrated in Paris on Saturday (Jan 7) to three Kurdish activists.  0 [0.5625609] \n",
      "\n",
      "\n",
      "\n",
      "Militant Kurdish group claims Ankara attack: StatementA militant Kurdish group linked to the outlawed Kurdistan Workers Party (PKK) on Friday claimed the suicide bombing in Ankara this week on the Turkish military that killed 28 people. 0 [0.564002] \n",
      "\n",
      "\n",
      "\n",
      "Lyon lights up names of Paris victims in sombre tributeThe French city of Lyon paid tribute Tuesday to the 130 victims of last month's Paris attacks, projecting their names in huge letters on the facades of buildings lining the Saone River.  0 [0.746178] \n",
      "\n",
      "\n",
      "\n",
      "Protestors in Indonesia burn garbage near the presidential palace in Jakarta. 0 [0.5402519] \n",
      "\n",
      "\n",
      "\n",
      "Former US candidate Tim Kaine's son arrested at anti-Trump protestThe son of former vice-presidential candidate US Senator Tim Kaine was arrested last week during a protest against President Donald Trump in Minnesota after a scuffle with law enforcement, police said. 0 [0.81100625] \n",
      "\n",
      "\n",
      "\n",
      "Tears of joy emoji is 'Word of the Year'Sometimes words are not enough to express ourselves. Recognising this, Oxford Dictionaries has for the first time ever dubbed a pictograph, officially called the face with tears of joy emoji, as the Word of the Year.  0 [0.6371908] \n",
      "\n",
      "\n",
      "\n",
      "David Cameron: The man who lost the Brexit gambleAfter the failure of his high-stakes EU referendum gamble, David Cameron's political life came to a quick and unceremonious end on Monday when he announced he was resigning from parliament. 0 [0.6340212] \n",
      "\n",
      "\n",
      "\n",
      "Dozens injured at Snoop Dogg, Wiz Khalifa US concert as railing collapsesAt least 42 people were injured after a railing collapsed at a Snoop Dogg concert in New Jersey. 0 [0.56764007] \n",
      "\n",
      "\n",
      "\n",
      "Missing Japanese girl escapes two-year captivityHer abductor, a 23-year-old university graduate, apparently attended school for two years while holding the girl in his apartment. The girl, who is 15 now,escaped when he was not in the apartment. 0 [0.82701087] \n",
      "\n",
      "\n",
      "\n",
      "Teenage girl charged with planning attack in FranceThe teenager was charged with \"criminal conspiracy with terrorists\" and \"provocation to committing terrorist acts using online communication\". 0 [0.5484525] \n",
      "\n",
      "\n",
      "\n",
      "Disgraced Bill Cosby faces June 5 sex assault trialDisgraced US megastar Bill Cosby will stand trial June 5, 2017, for allegedly sexually assaulting a woman at his Philadelphia home more than a decade ago, a judge rules.  0 [0.54962516] \n",
      "\n",
      "\n",
      "\n",
      "Nude Donald Trump painting on show in LondonAn unflattering painting depicting a nude Donald Trump goes on show in London, having being censored in the United States, where its creator claims to have received a thousand death threats from his supporters. 1 [0.34575096] \n",
      "\n",
      "\n",
      "\n",
      "  Pope, at 80, looks to 'joyous' old agePope Francis voices hope for a \"fruitful and joyous\" old age, as he kicks off his 80th birthday by sharing breakfast with a group of homeless people. 0 [0.82465446] \n",
      "\n",
      "\n",
      "\n",
      "Paris attacks 'accomplices' charged in FranceFrench authorities file terror charges against two suspected members of the same Islamic State in Iraq and Syria (ISIS) cell that massacred 130 people in Paris last November.  0 [0.51001763] \n",
      "\n",
      "\n",
      "\n",
      "Matthew swamps North Carolina, still dangerous as it heads out to seaEmergency crews in boats rescued hundreds of people from floodwaters andweakening on Sunday (Oct 9) and turning out to sea.  0 [0.6077585] \n",
      "\n",
      "\n",
      "\n",
      "Utah declares pornography a public health hazardUtah on Tuesday (April 19) declared pornography a public health hazard the premature baby showed no signs of serious complications.  0 [0.5401515] \n",
      "\n",
      "\n",
      "\n",
      "Australian blogger Belle Gibson guilty over cancer claims, says courtA health blogger who lied about having brain cancer and curing herself through natural therapies was found guilty by an Australian court of misleading the public. 0 [0.5972415] \n",
      "\n",
      "\n",
      "\n",
      "105-year-old Frenchman cycles into history with hour-long rideRobert Marchand, a 105-year-old Frenchman, makes cycling history by covering 22.528km in one hour on a track near Paris.  0 [0.5418256] \n",
      "\n",
      "\n",
      "\n",
      "Standing ovation for 11-year-old girl's Cinderella opera in ViennaAn 11-year-old British girl has spoken of her immense pride after her opera was given a standing ovation in Vienna where it is playing as part of year end celebrations. Alma Deutscher's own take on Cinderella involves a poet prince being charmed by the melody of a female composer, rather than the singing of her pretentious two half-sisters.  0 [0.92439294] \n",
      "\n",
      "\n",
      "\n",
      "Singaporean nabbed for drug trafficking in BaliMuhammad Faliq Nordin, 32, was nabbed during a sting operation on Sept 10, after he picked up two packages at a local post office in the capital city of Denpasar. 0 [0.54115605] \n",
      "\n",
      "\n",
      "\n",
      "Johnny Depp, Amber Heard divorce, ending 'volatile' relationshipActors Johnny Depp and Amber Heard privately settle their divorce case, a day ahead of a court hearing on the status of a restraining order that Heard had filed against Depp.  0 [0.7945394] \n",
      "\n",
      "\n",
      "\n",
      "Fatal police shootings reflect 'serious problem' in US: Obama\"What's clear is that these fatal shootings are not isolated incidents,\" Obama said in a statement on Facebook.\"They are symptomatic of the broader challenges within our criminal justice system, the racial disparities that appear across the system year after year, and the resulting lack of trust that exists between law enforcement and too many of the communities they serve.\" 0 [0.5714167] \n",
      "\n",
      "\n",
      "\n",
      "JUST IN: ST correspondent Jermyn Chow is at Jurong Fishery Port now where the two Taiwanese fishing vessels that were allegedly chased and fired at by an Indonesian patrol vessel are. They arrived in Singapore early Thursday morning. Carrying 25 crew members on board, including the two Taiwanese captains, both vessels docked at Jurong Fishery Port at about 7.15am. More details here:  0 [0.6197081] \n",
      "\n",
      "\n",
      "\n",
      "Three US Mormon missionaries injured in Brussels airport attackThree Mormon missionaries from Utah were seriously injured in a deadly Christ of Latter-day Saints said.  0 [0.80570555] \n",
      "\n",
      "\n",
      "\n",
      "Witnesses describe horror of Syria bus bombing that killed nearly 70 childrenNearly 70 children were among those killed when a suicide car bombing tore through buses carrying evacuees from besieged government-held towns in Syria, a monitor said on Sunday (April 16). 0 [0.6181358] \n",
      "\n",
      "\n",
      "\n",
      "Angola rebel chief's children sue Call of Duty game maker for portraying him as 'barbarian'The children of slain Angolan rebel chief Jonas Savimbi urged a French court on Wednesday to punish the makers of the wildly popular video game Call of Duty for representing their father as a \"barbarian\".  0 [0.5051756] \n",
      "\n",
      "\n",
      "\n",
      "JUST IN: Lewis Hamilton wins Austrian Grand PrixThe triple Formula One world champion secured victory after a last-lap collision with Mercedes teammate Nico Rosberg as they fought for the lead. Rosberg, who had been in front of Hamilton, ended up finishing fourth. 0 [0.5695331] \n",
      "\n",
      "\n",
      "\n",
      "Former TEPCO bosses indicted over Fukushima disasterThree former executives of the crippled Fukushima nuclear plant operator were indicted Monday over the 2011 atomic accident, in what will be the first criminal trial linked to the disaster. 0 [0.5229149] \n",
      "\n",
      "\n",
      "\n",
      "'I saw the body': New Jersey train crash witnesses describe bloody scene\"There were people right in front of me that had fallen on top, that had toppled over one another, and they had some injuries. The people in front of me were badly injured. And then we just heard people screaming in the first car.\" 0 [0.82132655] \n",
      "\n",
      "\n",
      "\n",
      "Cycling: Belgian rider, 22, suffers heart attack on CriteriumDaan Myngheer is hospitalised after suffering a heart attack on the Criterium International race in Corsica. 0 [0.5479824] \n",
      "\n",
      "\n",
      "\n",
      "French producer Luc Besson plagiarised action classic Escape From New York, court rulesFrench filmmaker Luc Besson has been ordered to pay Hollywood's self-styled \"Master of Horror\" John Carpenter nearly half a million dollars for plagiarising his classic 1981 movie Escape From New York.  0 [0.6017696] \n",
      "\n",
      "\n",
      "\n",
      "Maoist cult leader Aravindan Balakrishnan jailed 23 years for raping followersBalakrishnan was convicted in December of offences spanning almost 34 years including child cruelty, false imprisonment, rape and indecent assault. 0 [0.8930312] \n",
      "\n",
      "\n",
      "\n",
      "Man arrested in Disneyland Paris hotel with 2 guns, Quran: PoliceThe man was detected upon his arrival at the Disneyland hotel where he had a reservation. Hotel security found two handguns, a Quran and ammunition on him, said a source.  0 [0.7393245] \n",
      "\n",
      "\n",
      "\n",
      "Dozens held in Spain over child, baby abuse imagesSpanish police arrest 56 men suspected of sharing photos online of severe abuse on young children, some of them babies, in a nationwide crackdown on child pornography.  0 [0.63365597] \n",
      "\n",
      "\n",
      "\n",
      "Istanbul's Besiktas stadium hit by explosionAt least one explosion has been heard outside Istanbul's Besiktas sports stadium, Turkish media and witnesses say. There are reports of several people wounded, in what appears to have been an attack on riot police. 0 [0.5362989] \n",
      "\n",
      "\n",
      "\n",
      "Italy rescues 910 boat migrants, finds one bodyMore than 900 migrants were rescued in four separate operations in the Strait of Sicily and emergency services recovered one corpse, Italy's coast guard said. 0 [0.5589363] \n",
      "\n",
      "\n",
      "\n",
      "Queen Elizabeth love letter sold for almost S$29,000 at auctionA rare handwritten letter from a young Queen Elizabeth II telling the story of her romance with Prince Philip before their 1947 wedding has been sold at auction. 0 [0.8157113] \n",
      "\n",
      "\n",
      "\n",
      "Police seek man in Texas shooting that killed oneIt was unclear whether the shooter knew any of the victims, said police. 0 [0.8640486] \n",
      "\n",
      "\n",
      "\n",
      "Hundreds join Black Lives Matter protest in LondonSeveral hundred people protested in London Saturday after the killing of black men by police in the United States. 0 [0.5752555] \n",
      "\n",
      "\n",
      "\n",
      "Pope wants Mexico free of 'merchants of death'Pope Francis urged Mexicans on Sunday (Feb 14) to turn their country victims \"of the merchants of death.\"  1 [0.21638882] \n",
      "\n",
      "\n",
      "\n",
      "Update: Dozens dead in Ethiopia stampede after police tear gas protestersMore than 50 people were killed in a stampede in Ethiopia's Oromiya region that was triggered when police used teargas and shot in the air on Sunday to disperse anti-government protesters at a religious festival. 1 [0.40599647] \n",
      "\n",
      "\n",
      "\n",
      "Washington rocked by rumours of missing black girls, fanning racial tensionsWhen the police department in Washington decided to use social media to spread the word about teens gone missing in the city, they never imagined the move would spark a wild rumor, fanned by racial tensions. 0 [0.69327825] \n",
      "\n",
      "\n",
      "\n",
      "Firefighters killed tackling huge Cyprus forest blazeTwo firefighters were killed tackling one of the largest forest fires toblaze, which raged for a third day on Tuesday (June 21).  0 [0.5553209] \n",
      "\n",
      "\n",
      "\n",
      "Lord's Prayer Christmas ad banned in Britain's cinemas for fear of causing offenceA pre-Christmas advert featuring solely the Lord's Prayer has been banned from Britain's biggest cinema chains for fear of causing offence, to the bewilderment Sunday of the Church of England. 0 [0.7736109] \n",
      "\n",
      "\n",
      "\n",
      "Ten ISIS leaders killed, including some linked to Paris attacksA US-led coalition has killed 10 Islamic State in Iraq and Syria (ISIS) leaders in the past month with targeted air strikes, including individuals linked to last months attacks in Paris, a spokesman for the coalition said. 0 [0.5556607] \n",
      "\n",
      "\n",
      "\n",
      "Scores trapped as Japan quakes toll hits 41Scores of people were feared buried alive on Saturday (April 16) after people, as a forecast storm threatened more devastating landslides.  0 [0.872233] \n",
      "\n",
      "\n",
      "\n",
      "Suicide bomber kills 25 south of Baghdad: PoliceA suicide bomber blew himself up in a crowd on Friday (March 25) after a local  police and medics said. 0 [0.8933587] \n",
      "\n",
      "\n",
      "\n",
      "Boko Haram kills at least 14 in Christmas Day attack: VigilantesAt least 14 people were killed and several others injured by Boko Haram gunmen in a Christmas Day attack on a village in northeastern Nigeria, vigilantes said. 0 [0.7757208] \n",
      "\n",
      "\n",
      "\n",
      "Wild storms tear across US, killing 43Floods and tornadoes killed at least 43 people in the southern and midwestern United States during the Christmas holiday, with forecasters warning that blizzards and freezing rain would add to the misery on Monday. 0 [0.56745845] \n",
      "\n",
      "\n",
      "\n",
      "22-year-old man arrested in connection with Jay Chou concert ticket scamThe victims were unable to gain entry to the concert on Sept 3, as the tickets were not authentic, police said on Friday (Sept 9).  0 [0.53040797] \n",
      "\n",
      "\n",
      "\n",
      "Sailing: British crew member dies in Round the World raceA British crew member in the Clipper Round the World Yacht Race has died after being swept overboard in strong winds. Sarah Young was on board in wind speeds of up to 40 knots but was not tethered in. 1 [0.29769838] \n",
      "\n",
      "\n",
      "\n",
      "US woman charged after social media backlash over dog's taped muzzleA woman who sparked an international furor online after posting a photo on Facebook last week of her dog with its mouth duct-taped shut has been charged with animal cruelty in North Carolina, police said. 0 [0.6412397] \n",
      "\n",
      "\n",
      "\n",
      "60 inmates killed, many beheaded, in Brazil riot: officialsRioting inmates in Brazil decapitated and brutally assaulted their rivals, killing at least 60, when fighting erupted between two gangs at a prison in the Amazon region, officials said Monday. 0 [0.8846557] \n",
      "\n",
      "\n",
      "\n"
     ]
    }
   ],
   "source": [
    "for i,j,k in zip( wrong,wrong_y,wrong_pred)[0:]:\n",
    "    id_wrong = np.argmax(np.sum(np.array([data['wordVec2']]) == list(i),(0,2)))\n",
    "    # print text, label, prediction\n",
    "    print data.iloc[id_wrong]['data_clean'],j,k,'\\n\\n\\n'"
   ]
  },
  {
   "cell_type": "markdown",
   "metadata": {
    "colab_type": "text",
    "deletable": true,
    "editable": true,
    "id": "w3GZrdupbDmA"
   },
   "source": [
    "# CORECT predictions "
   ]
  },
  {
   "cell_type": "code",
   "execution_count": 51,
   "metadata": {
    "colab": {
     "base_uri": "https://localhost:8080/",
     "height": 34
    },
    "colab_type": "code",
    "collapsed": false,
    "deletable": true,
    "editable": true,
    "id": "sJ3d9ZA2bDmB",
    "outputId": "e0ed0a1a-9a94-4133-88bc-3c731a239fa2"
   },
   "outputs": [
    {
     "data": {
      "text/plain": [
       "(1073, 80)"
      ]
     },
     "execution_count": 51,
     "metadata": {
      "tags": []
     },
     "output_type": "execute_result"
    }
   ],
   "source": [
    "# find the correct answers\n",
    "wrong = X_test[(y_test == (y_pred_test[:,0]>0.5)*1)]\n",
    "wrong_y = y_test[(y_test == (y_pred_test[:,0]>0.5)*1)]\n",
    "wrong_pred = y_pred_test[(y_test == (y_pred_test[:,0]>0.5)*1)]\n",
    "wrong.shape"
   ]
  },
  {
   "cell_type": "code",
   "execution_count": 0,
   "metadata": {
    "colab": {},
    "colab_type": "code",
    "collapsed": false,
    "deletable": true,
    "editable": true,
    "id": "omh8lqVxbDmG",
    "outputId": "a1b0d12a-84ce-4884-eb7b-48fb79c9f799"
   },
   "outputs": [
    {
     "name": "stdout",
     "output_type": "stream",
     "text": [
      "Twilight's Kristen Stewart tells Elle UK she's 'really in love with my girlfriend'American actress Kristen Stewart, who played the girlfriend of Robert Pattinson in the Twilight movie series and subsequently in real life, is for the first time speaking publicly of her current love interest - another woman. 0 [ 0.04554121] \n",
      "\n",
      "Unsung heroes of Paris attacks honoured at concertSome 12,000 emergency and health workers, security officials and others honoured at a concert on Monday (Dec 21) in Paris.  0 [ 0.05070087] \n",
      "\n",
      "Olympics: IOC under fire for 'confusing mess' after letting Russia escape blanket doping banThe International Olympic Committee on Sunday decided against hitting Russia with a blanket ban from the Rio Games over state-run doping, sparking an immediate backlash from groups that had demanded bold action against cheating. 0 [ 0.00377355] \n",
      "\n",
      "Football: Spain's Maria Villar withdraws bid for Uefa top jobAngel Maria Villar, the head of Spain's football association, announces he has withdrawn his bid to replace the banned Michel Platini as president of Uefa. His surprise defection leaves just two candidates for European football's top job - Aleksander Ceferin of Slovenia and Dutchman Michael van Praag. 0 [  1.02858169e-05] \n",
      "\n",
      "Tennis: Garbine Muguruza, Shelby Rogers into quarters, rain holds up others at French OpenGarbine Muguruza of Spain blazed into the French Open quarter-finals for the third straight year on Sunday, defeating former champion Svetlana Kuznetsova 6-3, 6-4. 0 [ 0.00389613] \n",
      "\n",
      "France calls on Turkey to stop bombing Kurdish zones in SyriaThe French Foreign Ministry called on Turkey to halt bombardments of 14).  0 [ 0.02002108] \n",
      "\n",
      "Football: Man City and Spurs stumble as Arsenal advanceManchester City twice miss penalties in a 1-1 draw with Everton,as 10-man Arsenal go level with them on points at the top of the Premier League table after seeing off Swansea 3-2.  0 [ 0.00117612] \n",
      "\n",
      "Golf: Chun In Gee edges ahead in final majorRookie Chun In Gee posts a super 66 to edge ahead of the field at the halfway stage of the Evian Championship, the final major of the season. 0 [  1.06963940e-05] \n",
      "\n",
      "Facebook disrupts suspected spam operationFacebook said it disrupted an international fake account operation that was firing off inauthentic \"likes\" and bogus comments to win friends it would then pound with spam. 0 [ 0.00625584] \n",
      "\n",
      "Killing Fields reporter Sydney Schanberg dead at 82Sydney Schanberg, the Pulitzer Prize-winning correspondent who chronicled the Khmer Rouge's brutal rise to power in Cambodia in the 1970s, died Saturday at age 82. 1 [ 0.99696994] \n",
      "\n",
      "9/11 victims honoured at Ground Zero on 15th anniversaryThe moments of silence was observed at 8.46am (8.46pm Singapore time) - Airport Cargo Terminal early on Sunday morning (Sept 11).  0 [ 0.00102731] \n",
      "\n",
      "Global leaders agree to set price on carbon pollutionSix world leaders and the heads of powerful multilateral organisations agreed Thursday to push for broader implementation of carbon pricing schemes to accelerate the fight against global warming. 0 [ 0.00055229] \n",
      "\n",
      "At least 10 reported dead after explosion in Philippine city DavaoAt least 10 people are reported to have died and dozens have been injured in an explosion in the Philippine President's home city of Davao. Presidential spokesman Ernie Abella told CNN Philippines that there were at least 10 deaths and 60 injuries, according to an online report.  1 [ 0.93453562] \n",
      "\n",
      "Gunmen storm beach restaurant in Somali capital Mogadishu: AFPSeveral gunman attacked a beachfront restaurant in the Somali capital Mogadishu on Thursday (Aug 25), prompting an exchange of fire with the security forces, an AFP correspondent said.  0 [ 0.04647185] \n",
      "\n",
      "Clashes, artillery fire in Aleppo after truce expires: MonitorHeavy clashes between regime and rebel forces erupt in several areas of Syrias divided Aleppo city after a unilateral ceasefire announced by government ally Russia expires. 0 [ 0.0190951] \n",
      "\n",
      "Football: Mahrez magic keeps Leicester flying highLeicester took a five-point lead at the top of the Premier League as a wonderful strike by Riyad Mahrez sealed a 1-0 at Watford on Saturday that boosted their hopes of a fairytale title triumph.  0 [ 0.00794112] \n",
      "\n",
      "Israeli police question Prime Minister Benjamin Netanyahu over alleged gifts - mediaPolice investigators began questioning Prime Minister Benjamin Netanyahu at his official residence in Jerusalem on Monday (Jan 2, 2017) on suspicion of receiving gifts from businessmen in breach of his role as a public servant, Israeli media said. 0 [ 0.05149659] \n",
      "\n",
      "Keyless systems of many Volkswagen Group cars can be hacked, say researchersTens of millions of vehicles sold by Volkswagen AG over the past 20 years, and some current models, are vulnerable to theft because keyless entry systems can be hacked using cheap technical devices, say European researchers. 0 [ 0.00797208] \n",
      "\n",
      "Hasna Aitboulahcen did not blow herself up in Paris raid: PoliceThe woman found dead after a ferocious police assault on an apartment building targeting the suspected ringleader of the Paris attacks, did not die in a suicide bombing, a police source said Friday. 1 [ 0.51075318] \n",
      "\n",
      "Turkey vows to cleanse ISIS from its border after wedding attack kills 54Turkey vowed on Monday to \"completely cleanse\" ISIS militants from its border region, after a suspected suicide bomber with links to the group killed 54 people, including 22 children, at a Kurdish wedding.  0 [ 0.01888976] \n",
      "\n",
      "Arrests as protesters clash near Republican conventionPolice arrest several people outside the Republican National Convention in Cleveland as clashes erupt when protesters try to burn American flags. 0 [ 0.01578185] \n",
      "\n",
      "US travel 'extreme vetting' to include social media, phone contactsTravellers from seven predominantly Muslim countries singled out for \"extreme vetting\" will face scrutiny of their social media footprint and phone records, new Homeland Security secretary John Kelly said. 0 [  6.79795838e-05] \n",
      "\n",
      "Donald Trump takes perilous first steps on world stageFrom Riyadh to Jerusalem, Bethlehem, Rome, Brussels and Sicily, Donald Trump left a swirl of domestic woes behind Friday (May 19) as he embarked on a first foreign trip that will be closely watched in capitals the world over. 0 [  3.19934946e-05] \n",
      "\n",
      "Carnival roars ahead in Brazil despite Zika health scareThe worst health scare in recent history is not keeping Brazilians from viruses.  0 [ 0.01069791] \n",
      "\n",
      "Turkey's President Erdogan urges Muslims to overcome splits, fight terror at Islamic summitTurkish President Recep Tayyip Erdogan on Thursday urged dozens of Muslim leaders gathered for a summit in Istanbul to end sectarian divisions in the Islamic world and join forces to fight terror. 0 [ 0.0193612] \n",
      "\n",
      "Donald Trump says NRA gun lobby has 'friend' in White HouseThe United States' powerful gun lobby has \"a true friend and champion in the White House,\" President Donald Trump said in an address to the National Rifle Association. \"The eight-year assault on your Second Amendment freedoms has come to a crashing end,\" Trump told the cheering crowd in Atlanta, Georgia.  0 [ 0.00637626] \n",
      "\n",
      "Golf: Woods undergoes back surgery, could be out six monthsFormer world number one Tiger Woods says he has undergone further surgery to help alleviate pain in his back and leg and could be away from competitive golf for another six months.  0 [ 0.00016012] \n",
      "\n",
      "Cameron announces $19 billion in UK-India deals during Modi visitPrime Minister David Cameron said British and Indian companies will announce deals worth a total of 9 billion (S$19 billion) during his Indian counterpart Narendra Modi's visit to Britain. 0 [ 0.00780093] \n",
      "\n",
      "Earth's climate past points to overheated future: studyTheplanet may grow intolerably hot even if greenhouse gases in the atmosphere remain at current levels, according to the first two-million-year reconstruction of surface temperatures, published on Monday. 0 [ 0.00042496] \n",
      "\n",
      "Tennis: Djokovic mentally recharged ahead of Paris MastersWorld number one Novak Djokovic, who will defend his Paris Masters titledrained since his French Open success in June.  0 [  3.44744355e-06] \n",
      "\n",
      "Clinton camp says FBI should say what it knows about Trump's Russia tiesA top aide to Hillary Clinton urged the FBI on Tuesday (Nov 1) to disclose what it knows about any ties between Donald Trump and Russia.  0 [ 0.00144531] \n",
      "\n",
      "US President Donald Trump tells manufacturers he will cut regulations, taxesUS President Donald Trump met with a dozen prominent American manufacturers at the White House on Monday, promising them he would slash regulations and cut corporate taxes, but warning them of penalties if they moved production outside the country. 0 [ 0.00631916] \n",
      "\n",
      "US markets tumble on sinking crude pricesAnother sharp fall in oil prices pulls down energy stocks on Wall Street, pushing the main US indices to a loss after last week's record highs. Meanwhile, Yahoo shares tumble after Verizon announces it will buy the company's web properties for US$4.8 billion (S$6.53 billion).  0 [ 0.00010118] \n",
      "\n",
      "Belgium charges suspect with terrorism over Paris attacksBelgium on Friday charged one suspect with involvement in terrorism over the Paris attacks and released one other as part of a separate investigation into suicide bomber Hadfi Bilal, prosecutors said. 0 [ 0.21528248] \n",
      "\n",
      "Football: Neymar gets Barca go-ahead for Olympics, not CopaBrazil coach Dunga had been hoping to have the influential striker at both tournaments, but Barca wants him to be well rested over the summer before the domestic season.  0 [  2.47683107e-05] \n",
      "\n",
      "11 killed, 12 injured in Costa Rica bus plunge - emergency officialsA bus plunges off a steep road in a mountainous area north of Costa Rica's capital, killing 11 people on board and injuring 12, according to rescue officials.The passengers were retired staff members of Costa Rica's National University on their way to an indigenous reserve to carry out social work.  0 [ 0.37321336] \n",
      "\n",
      "Brexit aftermath: Crude oil prices slammed after Britain votes to leave EUBritain's surprise vote to leave the European Union drives a sharp oil selloff, with crude prices sinking around 5 per cent on worries that global growth could slow further.  0 [ 0.00184378] \n",
      "\n",
      "A Whopper in a sauna: Burger King spa opens in FinlandBurger King is taking the experience of dining on burgers and fries to a new level - by opening its first spa in Finland. It featuresa 15-person sauna, shower and locker rooms, and a media lounge with a 55-inch TV and a Playstation 4 console. 0 [ 0.30494579] \n",
      "\n",
      "Football: Michel Platini wants to 'formally resign' at Sept 14 Uefa congressPlatini, currently serving a four-year ban from all football, wants to \"formally resign\" as Uefa president at the organisation's elective congress when his successor will be named.  0 [ 0.00028227] \n",
      "\n",
      "World stocks slide on China's weakening economic outlook and oil worriesWorld stocks fell on Monday as a weakening economic outlook for powerhouse China and renewed falls in the oil price prompted a sell-off. 0 [ 0.00012753] \n",
      "\n",
      "'Do for Hillary what you did for me,' Obama urges AmericansPresident Barack Obama on Monday (Nov 7) urged Americans to make history and reject the \"mean-spirited\" politics of Donald Trump.  0 [ 0.00032066] \n",
      "\n",
      "Landmark Brexit court ruling due in new yearBritain's Supreme Court will reveal early next year the result of the government's appeal against a ruling that it cannot unilaterally trigger Brexit. The 11 Supreme Court judges wrapped up four days of hearings with court president David Neuberger resolving to reach a prompt decision.  0 [ 0.0132347] \n",
      "\n",
      "Militant Kurdish group claims Ankara attack: StatementA militant Kurdish group linked to the outlawed Kurdistan Workers Party (PKK) on Friday claimed the suicide bombing in Ankara this week on the Turkish military that killed 28 people. 0 [ 0.4849297] \n",
      "\n",
      "Football: Chinese buyers 'committed' to AC Milan purchaseA Chinese consortium that has made a mammoth down payment to buy seven-time European champions AC Milan has reiterated its \"commitment\" to completing the deal after missing yet another deadline on Friday. 0 [  5.15373650e-05] \n",
      "\n",
      "Golf: Day warms up on cold day at Arnold Palmer InvitationalDefending champion Jason Day coped with \"brutally chilly\" temperatures to finish three strokes behind early first-round leader Emiliano Grillo at the Arnold Palmer Invitational in Florida. 0 [ 0.0007114] \n",
      "\n",
      "Galaxy S8 details revealed, including 'infinity' display and iris scanner - reportDetails about Samsung's Galaxy S8 smartphone have been revealed in a Guardian report citing \"well placed sources\" of the South Korean manufacturer. The company's newflagship phone - due to go on sale around April 21 - willcome in two sizes, have an almost bezel-less, edge-to-edge infinity display and an iris scanner. 0 [ 0.00082923] \n",
      "\n",
      "Tennis: Milos Raonic overpowers David Goffin to reach Indian Wells finalBig-serving Canadian Milos Raonic overcame a second-set wobble to reach the final of the BNP Paribas Open with a 6-3 3-6 6-3 victory over Belgian David Goffin in California.  0 [  1.30449172e-05] \n",
      "\n",
      "Obama to force through gun control measuresPresident Barack Obama is poised to unveil a raft of executive actions with a show of political power.  0 [ 0.00153691] \n",
      "\n",
      "Dutch unveil study into Indonesia colonial conflictThe Dutch government announces a new study into a colony four years after the end of World War II.  0 [ 0.06256054] \n",
      "\n",
      "Swiss extradite Fifa official Napout to US in corruption probeFifa vice-president Juan Angel Napout, president of the South American soccer confederation Conmebol, was extradited to the United States on Tuesday to face corruption charges. 0 [  7.27938475e-05] \n",
      "\n",
      "Rain fails to dampen spirits as Singapore welcomes 2016Excited party-goers filled the Marina Bay area in anticipation of the nation's largest countdown celebration and they were not disappointed. Despiteintermittent rain since afternoon, the grey overcast sky cleared just in time for the magic hour. 0 [ 0.00187764] \n",
      "\n",
      "EU to end internal Schengen controls triggered by migrant crisis by NovemberEU countries that imposed border controls in the passport-free Schengen area because of the migrant crisis should end them by November, Brussels said on Tuesday. Austria, Denmark, Germany, Sweden and non-EU Norway introduced the ID checks in 2015 and have been allowed to repeatedly prolong them at set intervals. 0 [ 0.00116876] \n",
      "\n",
      "Tennis: Serena survives scare to reach Wimbledon third roundDefending champion Serena Williams survives a major scare from US compatriot Christina McHale in a thrilling Wimbledon second-round encounter.  0 [  2.07698313e-05] \n",
      "\n",
      "Istanbul riot police break up LGBT rallyTurkish riot police fired rubber bullets and tear gas to break up a defiance of a ban.  0 [ 0.15904545] \n",
      "\n",
      "Rouhani in, Ahmadinejad out as Iran Guardians pick vote candidatesPresident Hassan Rouhani was among six candidates approvedby Iran's conservative-dominated Guardian Council to run in next month's election while former leader Mahmoud Ahmadinejad above) was barred. 0 [ 0.00130269] \n",
      "\n",
      "Queen Elizabeth love letter sold for almost S$29,000 at auctionA rare handwritten letter from a young Queen Elizabeth II telling the story of her romance with Prince Philip before their 1947 wedding has been sold at auction. 0 [ 0.09668434] \n",
      "\n",
      "Tennis: Kerber advances as Venus is ousted in CharlestonSeven-time Grand Slam champion Venus Williams will have to wait for a 50th career WTA title after bowing out in the third round of the claycourt tournament in Charleston, South Carolina. 0 [  5.09224042e-05] \n",
      "\n",
      "Heat kills: Global warming surge may rout Great Barrier Reefs natural defencesA heat surge from global warming would overwhelm the natural ability of coral in Australia's Great Barrier Reef to survive seasonal temperature changes, in much the way sun bathers would burn if they did not build their tan slowly. 0 [ 0.02229287] \n",
      "\n",
      "60 inmates killed, many beheaded, in Brazil riot: officialsRioting inmates in Brazil decapitated and brutally assaulted their rivals, killing at least 60, when fighting erupted between two gangs at a prison in the Amazon region, officials said Monday. 0 [ 0.1680296] \n",
      "\n"
     ]
    }
   ],
   "source": [
    "for i,j,k in zip( wrong,wrong_y,wrong_pred)[0::20]:\n",
    "    id_wrong = np.argmax(np.sum(np.array([data['wordVec2']]) == list(i),(0,2)))\n",
    "    # print text, label, prediction\n",
    "    print data.iloc[id_wrong]['data_clean'],j,k,'\\n'"
   ]
  }
 ],
 "metadata": {
  "accelerator": "GPU",
  "colab": {
   "collapsed_sections": [
    "w3GZrdupbDmA"
   ],
   "name": "Copy of HWK3_RNN.ipynb",
   "provenance": [],
   "version": "0.3.2"
  },
  "kernelspec": {
   "display_name": "Python 2",
   "language": "python",
   "name": "python2"
  },
  "language_info": {
   "codemirror_mode": {
    "name": "ipython",
    "version": 2
   },
   "file_extension": ".py",
   "mimetype": "text/x-python",
   "name": "python",
   "nbconvert_exporter": "python",
   "pygments_lexer": "ipython2",
   "version": "2.7.6"
  }
 },
 "nbformat": 4,
 "nbformat_minor": 0
}
