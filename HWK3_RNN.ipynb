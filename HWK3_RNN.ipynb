{
 "cells": [
  {
   "cell_type": "code",
   "execution_count": 1,
   "metadata": {
    "collapsed": false,
    "deletable": true,
    "editable": true
   },
   "outputs": [
    {
     "name": "stderr",
     "output_type": "stream",
     "text": [
      "Couldn't import dot_parser, loading of dot files will not be possible.\n"
     ]
    },
    {
     "name": "stdout",
     "output_type": "stream",
     "text": [
      "1.3.0\n"
     ]
    }
   ],
   "source": [
    "import numpy as np\n",
    "import os\n",
    "import nltk\n",
    "import pandas as pd\n",
    "import tensorflow as tf\n",
    "import tensorflow.contrib.keras as keras\n",
    "import numpy as np\n",
    "import pickle\n",
    "\n",
    "\n",
    "print tf.__version__"
   ]
  },
  {
   "cell_type": "code",
   "execution_count": 2,
   "metadata": {
    "collapsed": true,
    "deletable": true,
    "editable": true
   },
   "outputs": [],
   "source": [
    "#from tensorflow.contrib.keras.api.keras.preprocessing import sequence\n",
    "from tensorflow.contrib.keras.api.keras.layers import Input, Embedding, GRU, Dense #, Activation\n",
    "from tensorflow.contrib.keras.api.keras.models import Model\n",
    "from tensorflow.contrib.keras.python.keras.layers import Bidirectional, TimeDistributed\n"
   ]
  },
  {
   "cell_type": "code",
   "execution_count": 3,
   "metadata": {
    "collapsed": true,
    "deletable": true,
    "editable": true
   },
   "outputs": [],
   "source": [
    "SENTENCE_LENGTH_MAX = 80\n",
    "EMBEDDING_DIM=50"
   ]
  },
  {
   "cell_type": "code",
   "execution_count": 4,
   "metadata": {
    "collapsed": false,
    "deletable": true,
    "editable": true
   },
   "outputs": [
    {
     "name": "stdout",
     "output_type": "stream",
     "text": [
      "   year       date   time                                               data  \\\n",
      "0  2016  oct_9.txt  06:23  Table Tennis: Feng Tianwei upset by Japanese t...   \n",
      "1  2016  oct_9.txt  06:00  Football: Immobile brings Italy back from the ...   \n",
      "2  2016  oct_9.txt  04:39  Football: Napoli striker Milik out for â€˜mont...   \n",
      "3  2016  oct_9.txt  04:23  Thousands of armed Yemeni protesters call for ...   \n",
      "4  2016  oct_9.txt  04:05  Football: Wales drop World Cup points in Georg...   \n",
      "\n",
      "                 site                               site2     date2  \\\n",
      "0  http://str.sg/4xhn  [http://str.sg/4xhn, PHOTO:, ITTF]  [10, 09]   \n",
      "1  http://str.sg/4xhW   [http://str.sg/4xhW, PHOTO:, EPA]  [10, 09]   \n",
      "2  http://str.sg/4xeY   [http://str.sg/4xeY, PHOTO:, EPA]  [10, 09]   \n",
      "3  http://str.sg/4xef   [http://str.sg/4xef, PHOTO:, AFP]  [10, 09]   \n",
      "4  http://str.sg/4xeN   [http://str.sg/4xeN, PHOTO:, AFP]  [10, 09]   \n",
      "\n",
      "         Date      Open      High       Low     Close Adj Close  Volume Change  \n",
      "0  2016-10-09  2.930000  2.930000  2.920000  2.930000    2.8396  141900      0  \n",
      "1  2016-10-09  2.930000  2.930000  2.920000  2.930000    2.8396  141900      0  \n",
      "2  2016-10-09  2.930000  2.930000  2.920000  2.930000    2.8396  141900      0  \n",
      "3  2016-10-09  2.930000  2.930000  2.920000  2.930000    2.8396  141900      0  \n",
      "4  2016-10-09  2.930000  2.930000  2.920000  2.930000    2.8396  141900      0  \n"
     ]
    }
   ],
   "source": [
    "# scraped data file\n",
    "data = np.load('file.npy')\n",
    "data = pd.DataFrame(data,columns=['year', 'date', 'time', 'data', 'site', 'site2', 'date2', 'Date', 'Open', 'High', 'Low', 'Close', 'Adj Close', 'Volume','Change']) \n",
    "print data.head()"
   ]
  },
  {
   "cell_type": "code",
   "execution_count": 5,
   "metadata": {
    "collapsed": false,
    "deletable": true,
    "editable": true
   },
   "outputs": [
    {
     "name": "stdout",
     "output_type": "stream",
     "text": [
      "   year       date   time                                               data  \\\n",
      "0  2016  oct_9.txt  06:23  Table Tennis: Feng Tianwei upset by Japanese t...   \n",
      "1  2016  oct_9.txt  06:00  Football: Immobile brings Italy back from the ...   \n",
      "2  2016  oct_9.txt  04:39  Football: Napoli striker Milik out for â€˜mont...   \n",
      "3  2016  oct_9.txt  04:23  Thousands of armed Yemeni protesters call for ...   \n",
      "4  2016  oct_9.txt  04:05  Football: Wales drop World Cup points in Georg...   \n",
      "\n",
      "                 site                               site2     date2  \\\n",
      "0  http://str.sg/4xhn  [http://str.sg/4xhn, PHOTO:, ITTF]  [10, 09]   \n",
      "1  http://str.sg/4xhW   [http://str.sg/4xhW, PHOTO:, EPA]  [10, 09]   \n",
      "2  http://str.sg/4xeY   [http://str.sg/4xeY, PHOTO:, EPA]  [10, 09]   \n",
      "3  http://str.sg/4xef   [http://str.sg/4xef, PHOTO:, AFP]  [10, 09]   \n",
      "4  http://str.sg/4xeN   [http://str.sg/4xeN, PHOTO:, AFP]  [10, 09]   \n",
      "\n",
      "         Date      Open      High       Low     Close Adj Close  Volume  \\\n",
      "0  2016-10-09  2.930000  2.930000  2.920000  2.930000    2.8396  141900   \n",
      "1  2016-10-09  2.930000  2.930000  2.920000  2.930000    2.8396  141900   \n",
      "2  2016-10-09  2.930000  2.930000  2.920000  2.930000    2.8396  141900   \n",
      "3  2016-10-09  2.930000  2.930000  2.920000  2.930000    2.8396  141900   \n",
      "4  2016-10-09  2.930000  2.930000  2.920000  2.930000    2.8396  141900   \n",
      "\n",
      "  Change                                         data_clean  \\\n",
      "0      0  Table Tennis: Feng Tianwei upset by Japanese t...   \n",
      "1      0  Football: Immobile brings Italy back from the ...   \n",
      "2      0  Football: Napoli striker Milik out for months ...   \n",
      "3      0  Thousands of armed Yemeni protesters call for ...   \n",
      "4      0  Football: Wales drop World Cup points in Georg...   \n",
      "\n",
      "                                      data_clean_tok  \n",
      "0  [Table, Tennis, :, Feng, Tianwei, upset, by, J...  \n",
      "1  [Football, :, Immobile, brings, Italy, back, f...  \n",
      "2  [Football, :, Napoli, striker, Milik, out, for...  \n",
      "3  [Thousands, of, armed, Yemeni, protesters, cal...  \n",
      "4  [Football, :, Wales, drop, World, Cup, points,...  \n"
     ]
    }
   ],
   "source": [
    "sentence_splitter = nltk.data.load('tokenizers/punkt/english.pickle')\n",
    "import string\n",
    "printable = set(string.printable)\n",
    "def remove_nonprintable(s):\n",
    "    if s is None:\n",
    "        return None\n",
    "    return filter(lambda x: x in printable, s)\n",
    "from nltk.tokenize import TreebankWordTokenizer\n",
    "data['data_clean'] = data['data'].apply(remove_nonprintable) \n",
    "def tokenizer(s):\n",
    "    if s is None:\n",
    "        return None\n",
    "    return TreebankWordTokenizer().tokenize(s)\n",
    "data['data_clean_tok'] = data['data_clean'].apply(tokenizer)\n",
    "data = data[~data['data_clean'].isin([None,])] # remove empty data\n",
    "print data.head()"
   ]
  },
  {
   "cell_type": "code",
   "execution_count": 6,
   "metadata": {
    "collapsed": false,
    "deletable": true,
    "editable": true
   },
   "outputs": [
    {
     "name": "stdout",
     "output_type": "stream",
     "text": [
      "GloVE available locally\n"
     ]
    },
    {
     "data": {
      "text/plain": [
       "(100000, 50)"
      ]
     },
     "execution_count": 6,
     "metadata": {},
     "output_type": "execute_result"
    }
   ],
   "source": [
    "import sys\n",
    "sys.path.append('/media/leexa/97ba6a6b-3f4d-4528-84ca-50200ba4594f/Dropbox/dl_dev_course/deep-learning-workshop/notebooks/5-RNN/glove-python')\n",
    "import glove\n",
    "glove_dir = '../week5/data/RNN/'\n",
    "glove_100k_50d = 'glove.first-100k.6B.50d.txt'\n",
    "glove_100k_50d_path = os.path.join(glove_dir, glove_100k_50d)\n",
    "if not os.path.isfile( glove_100k_50d_path ):\n",
    "    raise RuntimeError(\"You need to download GloVE Embeddings \"+\n",
    "                       \": Use the downloader in 5-Text-Corpus-and-Embeddings.ipynb\")\n",
    "else:\n",
    "    print(\"GloVE available locally\")\n",
    "word_embedding = glove.Glove.load_stanford( glove_100k_50d_path )\n",
    "word_embedding.word_vectors.shape"
   ]
  },
  {
   "cell_type": "code",
   "execution_count": 7,
   "metadata": {
    "collapsed": true,
    "deletable": true,
    "editable": true
   },
   "outputs": [],
   "source": [
    "def word_idx_rnn(list):\n",
    "    if list is None:\n",
    "        return None\n",
    "    return map(lambda word : 2+word_embedding.dictionary.get(word.lower(),-1),list) #0 for mask 1 for unknown\n",
    "\n",
    "word_embedding_rnn = np.vstack([ \n",
    "        np.zeros( (1, EMBEDDING_DIM,), dtype='float32'),   # This is the 'zero' value (used as a mask in Keras)\n",
    "        np.zeros( (1, EMBEDDING_DIM,), dtype='float32'),   # This is for 'UNK'  (word == 1)\n",
    "        word_embedding.word_vectors,\n",
    "    ])\n",
    "word_embedding_rnn.shape\n",
    "\n",
    "data['wordVec'] =  map(word_idx_rnn, data['data_clean_tok'].iloc[:])\n",
    "data = data[data['wordVec'].apply(len) <= SENTENCE_LENGTH_MAX].reset_index(drop=1) #remove too long sentences\n",
    "\n",
    "  \n",
    "from tensorflow.contrib.keras.python.keras.utils.np_utils import to_categorical\n",
    "tokens_input = Input(shape=(SENTENCE_LENGTH_MAX,), dtype='int32', name=\"input\")"
   ]
  },
  {
   "cell_type": "markdown",
   "metadata": {
    "deletable": true,
    "editable": true
   },
   "source": [
    "# I want to predict if the word died (or simillar words) appeared in the article. I will remove words simillar to died and see how well it predicts article containing the family of death words"
   ]
  },
  {
   "cell_type": "code",
   "execution_count": 8,
   "metadata": {
    "collapsed": false,
    "deletable": true,
    "editable": true
   },
   "outputs": [
    {
     "name": "stdout",
     "output_type": "stream",
     "text": [
      "die [(u'dying', 0.7532194581558449), (u'sick', 0.7226143991997882), (u'hell', 0.68722961740698885), (u'afraid', 0.66896493375593569)]\n",
      "dies [(u'survivor', 0.72395499399488616), (u'death', 0.70635122168423004), (u'woman', 0.69851214642219261), (u'man', 0.69419063348250476)]\n",
      "death [(u'died', 0.83436411860470117), (u'survived', 0.81930822459038455), (u'victim', 0.81331859168020448), (u'murder', 0.78237136226895088)]\n",
      "dying [(u'sick', 0.87161598985772837), (u'lives', 0.80157808860610347), (u'alive', 0.79256668671224972), (u'survived', 0.78591367005364876)]\n",
      "died [(u'survived', 0.85628412253407293), (u'death', 0.83436411860470117), (u'killed', 0.78069928681101475), (u'lived', 0.76491050849669973)]\n",
      "dead [(u'killed', 0.90340339672624048), (u'killing', 0.83342776424268306), (u'missing', 0.82908148537859538), (u'wounded', 0.82695542086841967)]\n"
     ]
    }
   ],
   "source": [
    "for i in [2359,5378,338,5251,433,769]:\n",
    "    i = word_embedding.inverse_dictionary.get(i-2)\n",
    "    print i,word_embedding.most_similar(i) \n",
    "# it looks very different"
   ]
  },
  {
   "cell_type": "code",
   "execution_count": 9,
   "metadata": {
    "collapsed": false,
    "deletable": true,
    "editable": true
   },
   "outputs": [
    {
     "name": "stdout",
     "output_type": "stream",
     "text": [
      "2357\n",
      "5376\n",
      "336\n",
      "5249\n",
      "431\n",
      "767\n"
     ]
    }
   ],
   "source": [
    "print word_embedding.dictionary.get('die')\n",
    "print word_embedding.dictionary.get('dies')\n",
    "print word_embedding.dictionary.get('death')\n",
    "print word_embedding.dictionary.get('dying')\n",
    "print word_embedding.dictionary.get('died')\n",
    "print word_embedding.dictionary.get('dead')"
   ]
  },
  {
   "cell_type": "code",
   "execution_count": 10,
   "metadata": {
    "collapsed": false,
    "deletable": true,
    "editable": true
   },
   "outputs": [
    {
     "name": "stdout",
     "output_type": "stream",
     "text": [
      "confirming 769 is the word dead\n",
      "data_clean_tok    [UPDATE:82, dead, ,, 534, injured, in, Saudi-l...\n",
      "wordVec           [1, 769, 3, 44573, 1004, 8, 1, 15641, 15, 5404...\n",
      "Name: 26, dtype: object\n"
     ]
    }
   ],
   "source": [
    "### I want to predict if someone died in the \n",
    "ids = []\n",
    "for i in range(len(data)):\n",
    "    for j in [2359,5378,338,5251,433,769]:\n",
    "        if j in data.iloc[i]['wordVec']:\n",
    "            ids += [i,]\n",
    "print 'confirming 769 is the word dead'  # actually its 767 but 767+2=769 because of keras mask and UNK\n",
    "print data.iloc[26][['data_clean_tok','wordVec']]"
   ]
  },
  {
   "cell_type": "code",
   "execution_count": 11,
   "metadata": {
    "collapsed": false,
    "deletable": true,
    "editable": true
   },
   "outputs": [
    {
     "name": "stdout",
     "output_type": "stream",
     "text": [
      "number of death articles\n",
      "0.0591584941474\n"
     ]
    }
   ],
   "source": [
    "# function to remove 769 and other death words\n",
    "def remove769(x):\n",
    "    result = []\n",
    "    for i in x:\n",
    "        if i not in [2359,5378,338,5251,433,769]:\n",
    "            result += [i,] \n",
    "    return result\n",
    "data['wordVec2'] = data['wordVec'].apply(remove769)\n",
    "# pad sequences to length 32\n",
    "data['wordVec2'] = map(lambda x :x + (SENTENCE_LENGTH_MAX - len(x)) * [0,],data['wordVec2'])\n",
    "data['died'] = 0\n",
    "data= data.set_value(ids,'died',1)\n",
    "print 'number of death articles'\n",
    "print np.mean(data.died)"
   ]
  },
  {
   "cell_type": "code",
   "execution_count": 12,
   "metadata": {
    "collapsed": false,
    "deletable": true,
    "editable": true
   },
   "outputs": [
    {
     "data": {
      "text/plain": [
       "data_clean        UPDATE:82 dead, 534 injured in Saudi-led airst...\n",
       "data_clean_tok    [UPDATE:82, dead, ,, 534, injured, in, Saudi-l...\n",
       "wordVec           [1, 769, 3, 44573, 1004, 8, 1, 15641, 15, 5404...\n",
       "wordVec2          [1, 3, 44573, 1004, 8, 1, 15641, 15, 5404, 124...\n",
       "died                                                              1\n",
       "Name: 26, dtype: object"
      ]
     },
     "execution_count": 12,
     "metadata": {},
     "output_type": "execute_result"
    }
   ],
   "source": [
    "#view data\n",
    "data.iloc[26][[u'data_clean', u'data_clean_tok', u'wordVec', u'wordVec2',u'died']]"
   ]
  },
  {
   "cell_type": "code",
   "execution_count": 13,
   "metadata": {
    "collapsed": false,
    "deletable": true,
    "editable": true
   },
   "outputs": [
    {
     "data": {
      "text/plain": [
       "data_clean        Erdogan takes spin in first-ever road tunnel l...\n",
       "data_clean_tok    [Erdogan, takes, spin, in, first-ever, road, t...\n",
       "wordVec           [9347, 1146, 6027, 8, 30087, 588, 4518, 6409, ...\n",
       "wordVec2          [9347, 1146, 6027, 8, 30087, 588, 4518, 6409, ...\n",
       "died                                                              0\n",
       "Name: 27, dtype: object"
      ]
     },
     "execution_count": 13,
     "metadata": {},
     "output_type": "execute_result"
    }
   ],
   "source": [
    "# view data\n",
    "data.iloc[27][[u'data_clean', u'data_clean_tok', u'wordVec', u'wordVec2',u'died']]"
   ]
  },
  {
   "cell_type": "code",
   "execution_count": 14,
   "metadata": {
    "collapsed": false,
    "deletable": true,
    "editable": true
   },
   "outputs": [
    {
     "name": "stdout",
     "output_type": "stream",
     "text": [
      "_________________________________________________________________\n",
      "Layer (type)                 Output Shape              Param #   \n",
      "=================================================================\n",
      "input (InputLayer)           (None, 80)                0         \n",
      "_________________________________________________________________\n",
      "SentencesEmbedded (Embedding (None, 80, 50)            5000100   \n",
      "_________________________________________________________________\n",
      "masked (Masking)             (None, 80, 50)            0         \n",
      "_________________________________________________________________\n",
      "bidirectional_1 (Bidirection (None, 130)               45240     \n",
      "_________________________________________________________________\n",
      "drop (Dropout)               (None, 130)               0         \n",
      "_________________________________________________________________\n",
      "out (Dense)                  (None, 1)                 131       \n",
      "=================================================================\n",
      "Total params: 5,045,471\n",
      "Trainable params: 45,371\n",
      "Non-trainable params: 5,000,100\n",
      "_________________________________________________________________\n"
     ]
    }
   ],
   "source": [
    "tokens_input = Input(shape=(SENTENCE_LENGTH_MAX,), dtype='int32', name=\"input\")\n",
    "embedded_sequences = Embedding(word_embedding_rnn.shape[0],\n",
    "                                EMBEDDING_DIM,\n",
    "                                weights=[ word_embedding_rnn ],\n",
    "                                input_length=SENTENCE_LENGTH_MAX,\n",
    "                                trainable=False, \n",
    "                                mask_zero=True,\n",
    "                                name=\"SentencesEmbedded\") (tokens_input)\n",
    "aggregate_vectors = embedded_sequences # concat...\n",
    "TAG_SET_SIZE = 1\n",
    "BATCH_SIZE = 32\n",
    "RNN_HIDDEN_SIZE = 65\n",
    "masked = keras.layers.Masking(mask_value=0.0,name='masked') (aggregate_vectors)\n",
    "rnn_outputs = Bidirectional( GRU(RNN_HIDDEN_SIZE, return_sequences=False),  merge_mode='concat' )(masked)\n",
    "rnn_outputs2 = keras.layers.Dropout(0.5,name='drop')(rnn_outputs)\n",
    "is_ner_outputs = Dense(1, activation='sigmoid',name='out')(rnn_outputs2)\n",
    "model = Model(inputs=[tokens_input], outputs=[is_ner_outputs])\n",
    "model.summary()"
   ]
  },
  {
   "cell_type": "code",
   "execution_count": 15,
   "metadata": {
    "collapsed": false,
    "deletable": true,
    "editable": true
   },
   "outputs": [
    {
     "name": "stderr",
     "output_type": "stream",
     "text": [
      "Using TensorFlow backend.\n"
     ]
    }
   ],
   "source": [
    "import keras.backend as K\n",
    "#https://stackoverflow.com/questions/39895742/matthews-correlation-coefficient-with-keras\n",
    "def MCC(y_true, y_pred): #balanced metric\n",
    "    y_pred_pos = K.greater_equal(y_pred, 0.5)\n",
    "    y_pred_pos = K.cast(y_pred_pos,K.tf.float32)\n",
    "    y_pred_neg = 1 - y_pred_pos\n",
    "    \n",
    "    y_pos = K.greater_equal(y_true, 0.5)\n",
    "    y_pos = K.cast(y_pos,K.tf.float32)\n",
    "    y_neg = 1 - y_pos\n",
    "\n",
    "    tp = K.sum(y_pos * y_pred_pos)\n",
    "    tn = K.sum(y_neg * y_pred_neg)\n",
    "\n",
    "    fp = K.sum(y_neg * y_pred_pos)\n",
    "    fn = K.sum(y_pos * y_pred_neg)\n",
    "\n",
    "    numerator = (tp * tn - fp * fn)\n",
    "    denominator = K.sqrt((tp + fp) * (tp + fn) * (tn + fp) * (tn + fn))\n",
    "\n",
    "    return numerator / (denominator + K.epsilon())\n",
    "model.compile(loss='binary_crossentropy', optimizer=\"adam\" , metrics=['accuracy',MCC])"
   ]
  },
  {
   "cell_type": "code",
   "execution_count": 16,
   "metadata": {
    "collapsed": true,
    "deletable": true,
    "editable": true
   },
   "outputs": [],
   "source": [
    "X = np.stack(map(np.array,data.wordVec2))\n",
    "y = np.array(data.died.astype(np.int32))\n",
    "from sklearn.model_selection import train_test_split\n",
    "X_train,X_test,y_train,y_test = train_test_split(X,y,test_size = 0.4, random_state = 5)\n",
    "X_val,X_test,y_val,y_test = train_test_split(X_test,y_test,test_size = 0.5, random_state = 5)"
   ]
  },
  {
   "cell_type": "code",
   "execution_count": 17,
   "metadata": {
    "collapsed": false,
    "deletable": true,
    "editable": true
   },
   "outputs": [
    {
     "name": "stdout",
     "output_type": "stream",
     "text": [
      "Train on 3793 samples, validate on 1264 samples\n",
      "Epoch 1/10\n",
      "13s - loss: 1.1664 - acc: 0.6678 - MCC: 0.1304 - val_loss: 0.5684 - val_acc: 0.7136 - val_MCC: 0.2248\n",
      "Epoch 2/10\n",
      "14s - loss: 0.9572 - acc: 0.7437 - MCC: 0.2435 - val_loss: 0.4461 - val_acc: 0.7824 - val_MCC: 0.2222\n",
      "Epoch 3/10\n",
      "12s - loss: 0.8267 - acc: 0.7835 - MCC: 0.2752 - val_loss: 0.3895 - val_acc: 0.8093 - val_MCC: 0.2385\n",
      "Epoch 4/10\n",
      "12s - loss: 0.7822 - acc: 0.7975 - MCC: 0.3155 - val_loss: 0.4782 - val_acc: 0.7722 - val_MCC: 0.2812\n",
      "Epoch 5/10\n",
      "11s - loss: 0.7117 - acc: 0.8197 - MCC: 0.3287 - val_loss: 0.3683 - val_acc: 0.8196 - val_MCC: 0.2536\n",
      "Epoch 6/10\n",
      "11s - loss: 0.6430 - acc: 0.8292 - MCC: 0.3717 - val_loss: 0.4339 - val_acc: 0.7911 - val_MCC: 0.2804\n",
      "Epoch 7/10\n",
      "11s - loss: 0.5620 - acc: 0.8516 - MCC: 0.4075 - val_loss: 0.3210 - val_acc: 0.8560 - val_MCC: 0.3244\n",
      "Epoch 8/10\n",
      "11s - loss: 0.5316 - acc: 0.8576 - MCC: 0.4078 - val_loss: 0.3640 - val_acc: 0.8275 - val_MCC: 0.2889\n",
      "Epoch 9/10\n",
      "11s - loss: 0.4270 - acc: 0.8800 - MCC: 0.4635 - val_loss: 0.3396 - val_acc: 0.8465 - val_MCC: 0.3018\n",
      "Epoch 10/10\n",
      "11s - loss: 0.3694 - acc: 0.9072 - MCC: 0.5304 - val_loss: 0.4582 - val_acc: 0.8133 - val_MCC: 0.2996\n"
     ]
    }
   ],
   "source": [
    "class_weight = {0 : 1.,\n",
    "                1: 15.7,} # class ratios are 15.7 : 1, helps objective function to be balanced\n",
    "epochs = 10 #optimal is 10-15\n",
    "history  = model.fit(x=X_train,y=y_train,\n",
    "                     epochs = epochs,verbose = 2,\n",
    "                     batch_size = 32,\n",
    "                     validation_data = (X_val,y_val),\n",
    "                     class_weight = class_weight)"
   ]
  },
  {
   "cell_type": "code",
   "execution_count": 18,
   "metadata": {
    "collapsed": false,
    "deletable": true,
    "editable": true
   },
   "outputs": [
    {
     "data": {
      "text/plain": [
       "<matplotlib.figure.Figure at 0x7fd67c974150>"
      ]
     },
     "metadata": {},
     "output_type": "display_data"
    }
   ],
   "source": [
    "import matplotlib.pyplot as plt\n",
    "plt.plot(range(epochs),history.history['MCC'])\n",
    "plt.plot(range(epochs),history.history['val_MCC'])\n",
    "plt.show()"
   ]
  },
  {
   "cell_type": "code",
   "execution_count": 19,
   "metadata": {
    "collapsed": false,
    "deletable": true,
    "editable": true
   },
   "outputs": [
    {
     "data": {
      "image/png": "[encoded data removed]",
      "text/plain": [
       "<matplotlib.figure.Figure at 0x7fd656d8a950>"
      ]
     },
     "metadata": {},
     "output_type": "display_data"
    }
   ],
   "source": [
    "plt.plot(range(epochs),map(np.log10,history.history['loss']))\n",
    "plt.plot(range(epochs),map(np.log10,history.history['val_loss']))\n",
    "plt.show()"
   ]
  },
  {
   "cell_type": "code",
   "execution_count": 20,
   "metadata": {
    "collapsed": false,
    "deletable": true,
    "editable": true
   },
   "outputs": [
    {
     "name": "stdout",
     "output_type": "stream",
     "text": [
      "Train on 3793 samples, validate on 1264 samples\n",
      "Epoch 1/1\n",
      "11s - loss: 0.2863 - acc: 0.9259 - MCC: 0.5813 - val_loss: 0.2824 - val_acc: 0.9051 - val_MCC: 0.3072\n",
      "Train on 3793 samples, validate on 1264 samples\n",
      "Epoch 1/1\n",
      "11s - loss: 0.2182 - acc: 0.9436 - MCC: 0.6283 - val_loss: 0.2590 - val_acc: 0.9122 - val_MCC: 0.2503\n",
      "Train on 3793 samples, validate on 1264 samples\n",
      "Epoch 1/1\n",
      "11s - loss: 0.1987 - acc: 0.9499 - MCC: 0.6482 - val_loss: 0.3341 - val_acc: 0.8766 - val_MCC: 0.2922\n",
      "Train on 3793 samples, validate on 1264 samples\n",
      "Epoch 1/1\n",
      "11s - loss: 0.1745 - acc: 0.9578 - MCC: 0.6366 - val_loss: 0.2759 - val_acc: 0.9074 - val_MCC: 0.2597\n",
      "Train on 3793 samples, validate on 1264 samples\n",
      "Epoch 1/1\n",
      "11s - loss: 0.1060 - acc: 0.9760 - MCC: 0.7735 - val_loss: 0.3099 - val_acc: 0.9153 - val_MCC: 0.3487\n"
     ]
    }
   ],
   "source": [
    "# get ensemble predictions\n",
    "y_pred_test = np.zeros(shape=(len(y_test),1))\n",
    "y_pred_val = np.zeros(shape=(len(y_val),1))\n",
    "for i in range(0,5):\n",
    "    model.fit(x=X_train,y=y_train,\n",
    "                         epochs = 1,verbose = 2,\n",
    "                         batch_size = 32,\n",
    "                         validation_data = (X_val,y_val),\n",
    "                         class_weight = class_weight)\n",
    "    temp = model.predict(X_test)\n",
    "    y_pred_test = y_pred_test + temp/5\n",
    "    temp = model.predict(X_val)\n",
    "    y_pred_val = y_pred_val + temp/5"
   ]
  },
  {
   "cell_type": "code",
   "execution_count": 21,
   "metadata": {
    "collapsed": true,
    "deletable": true,
    "editable": true
   },
   "outputs": [],
   "source": [
    "def MCC_numpy(y_true, y_pred): #balanced metric\n",
    "    assert y_true.shape == y_pred.shape\n",
    "    y_pred_pos = 1*(y_pred > 0.5)\n",
    "    y_pred_neg = 1 - y_pred_pos\n",
    "\n",
    "    y_pos = 1*(y_true > 0.5)\n",
    "    y_neg = 1 - y_pos\n",
    "\n",
    "    tp = np.sum(y_pos * y_pred_pos)\n",
    "    tn = np.sum(y_neg * y_pred_neg)\n",
    "\n",
    "    fp = np.sum(y_neg * y_pred_pos)\n",
    "    fn = np.sum(y_pos * y_pred_neg)\n",
    "    #print tp , tn , fp ,fn\n",
    "    numerator = (tp * tn - fp * fn)\n",
    "    denominator = np.sqrt((tp + fp) * (tp + fn) * (tn + fp) * (tn + fn))\n",
    "    return numerator/denominator"
   ]
  },
  {
   "cell_type": "code",
   "execution_count": 22,
   "metadata": {
    "collapsed": false,
    "deletable": true,
    "editable": true
   },
   "outputs": [
    {
     "name": "stdout",
     "output_type": "stream",
     "text": [
      "0.364097172124\n",
      "0.384929828616\n",
      "0.396558891214\n"
     ]
    }
   ],
   "source": [
    "from sklearn.metrics import matthews_corrcoef\n",
    "matthews_corrcoef = MCC_numpy\n",
    "print matthews_corrcoef(y_val,y_pred_val[:,0])\n",
    "print matthews_corrcoef(y_val,temp[:,0])\n",
    "print matthews_corrcoef(y_test,y_pred_test[:,0])\n",
    "# values are higher because MCC is not supposed to be used in batches but rather the whole dataset"
   ]
  },
  {
   "cell_type": "code",
   "execution_count": 28,
   "metadata": {
    "collapsed": false
   },
   "outputs": [
    {
     "data": {
      "text/plain": [
       "(92, 80)"
      ]
     },
     "execution_count": 28,
     "metadata": {},
     "output_type": "execute_result"
    }
   ],
   "source": [
    "# find the wrong answers\n",
    "wrong = X_test[(y_test != (y_pred_test[:,0]>0.5)*1)]\n",
    "wrong_y = y_test[(y_test != (y_pred_test[:,0]>0.5)*1)]\n",
    "wrong_pred = y_pred_test[(y_test != (y_pred_test[:,0]>0.5)*1)]\n",
    "wrong.shape"
   ]
  },
  {
   "cell_type": "code",
   "execution_count": 29,
   "metadata": {
    "collapsed": false
   },
   "outputs": [
    {
     "name": "stdout",
     "output_type": "stream",
     "text": [
      "Nurse charged with murdering 8 in Canadian old-age homesA Canadian nurse was charged on Tuesday (Oct 25) with using drugs to  killing spree that ran for seven years.  0 [ 0.73458332] \n",
      "\n",
      "Man shoots Philadelphia police officer, cites Islam as motive - officialA gunman claiming to have pledged allegiance to Islamic State in Iraq and Syria (ISIS) militants shoots and seriously wounds a Philadelphia police officer as he sits in his patrol car in an ambush-style attack. 0 [ 0.76135127] \n",
      "\n",
      "Driver who died in AYE accident had starred in TV commercialsThe 37-year-old man who died in a six-vehicle collision on the Ayer Rajah Expressway on Monday (Dec 19) morning was an actor and event emcee who appeared in several commercials.  1 [ 0.13945401] \n",
      "\n",
      "Sony Music's Twitter hacked, fake Britney Spears death tweets sentSony Music Entertainment's Twitter account was hacked on Monday, publishing fake statements that pop music icon Britney Spears had died. 1 [ 0.00107569] \n",
      "\n",
      "Four killed in Greek tourist boat collisionFour people are killed when a speedboat slices into a wooden tourist vessel near a popular Greek holiday island. Among the dead are the tourist vessel's captain and a nine-year-old girl. 1 [ 0.48894512] \n",
      "\n",
      "Sheep invade Spanish city after shepherd falls asleepHundreds of sheep run loose through the northeastern Spanish city of Huesca after their shepherd falls asleep and have to be rounded up by police.  0 [ 0.55946565] \n",
      "\n",
      "Writers divided on whether musician Bob Dylan deserves Nobel literature prizeWith the Syrian poet Adonis and the Kenyian novelist and critic Ngugi Wa Thiong'o widely seen as favourites if not shoo-ins, Dylan's triumph sparks a mixture of horror, head scratching and elation. 0 [ 0.85699347] \n",
      "\n",
      "Risen star Joseph Fiennes meets the PopeActor Joseph Fiennes joined members of the public on Wednesday for the Pope's general audience at St Peter's Square in the Vatican City. The British starwas joined by his wife and two daughters. 0 [ 0.61382031] \n",
      "\n",
      "Chile reburies Nobel-winning poet Pablo NerudaChile reburied Nobel prize-winning poet Pablo Neruda's remains Tuesday lingers.  0 [ 0.91860716] \n",
      "\n",
      "German arrested on suspicion of selling gun to Munich shooterPolice arrest an armed 31-year-old German man who boasted during a sting operation that he had supplied the Glock 17 pistol used by a gunman who killed nine people in Munich on July 22.  0 [ 0.74022587] \n",
      "\n",
      "Decision still pending on fate of convicted murderer Jabing KhoAfive-judge Court of Appeal is mulling over his lawyer's arguments to quash his death sentence. 1 [ 0.10383128] \n",
      "\n",
      "More people die on Jan 1 than any other time of the year: ResearchThe first two weeks around Christmas and the New Year seem to be the  spike during this period.  1 [ 0.05265156] \n",
      "\n",
      "Life-size replica of 18th century ship Gotheborg is up for saleThe world's largest seaworthy wooden ship of its class - a replica of a merchant vessel that sank in 1745 off the coast of Sweden for reasons still unknown - is up for sale after years on the seas. 0 [ 0.55428747] \n",
      "\n",
      "What killed Prince? Fans look to autopsy for answersThe groundswell of grief over Prince's death kept flowing as fans prayedthe music world's most beloved and respected figures.  1 [ 0.28407584] \n",
      "\n",
      "Singapore express deepest condolences to those who lost loved ones in south-western Japan quake: MFA 0 [ 0.70352079] \n",
      "\n",
      "Austrian dominatrix convicted after sadomaschistic client diesAn Austrian prostitute was convicted Monday over the death of a sadomasochist client left to die with a noose and a shoelace around his neck in a Vienna hotel room. 1 [ 0.2126874] \n",
      "\n",
      "Mayhem in Times Square: Car leaves path of destructionSeconds before impact, two women pushed their baby strollers right where the car would begin its path of destruction through Times Square.Then came the horrifying moment: The burgundy Honda accord drove onto the sidewalk, scooping up five pedestrians over the hood and tossing them aside like bowling pins. 0 [ 0.73119423] \n",
      "\n",
      "Singer Chris Brown, police in standoff after woman claims gun incident - TMZ.comPolice helicopters flew over the southern California home of Chris Brown on Tuesday after authorities received a pre-dawn 911 call that celebrity website TMZ.com said came from a woman who claimed Brown had earlier pulled a gun on her at the house. The singer denied any wrongdoing.  0 [ 0.68302995] \n",
      "\n",
      "Man nabbed in US shooting rampage was Uber driver who killed in between picking up faresA man arrested Sunday after a shooting rampage that left six people dead in the northern US state of Michigan was an Uber driver, the company said. 1 [ 0.03420126] \n",
      "\n",
      "North Korea will reject Malaysian autopsy report on North Korean - envoyNorth Korea said it would \"categorically reject\" the post-mortem conducted by Malaysia on one of its citizens who died in Kuala Lumpur this week, and demanded the body be released immediately.  1 [ 0.00016074] \n",
      "\n",
      "White actor Joseph Fiennes picked to play black pop legend Michael Jackson in new movieIf you thought King of Pop Michael Jackson had a strange life, things are about to get even weirder now that he's long gone. Britain's new Sky Arts production company has cast a white British actor, Shakespeare In Love's Joseph Fiennes, to play the black superstar in a new movie. 0 [ 0.84084973] \n",
      "\n",
      "Three-decade study confirms saturated fats are bad for healthSaturated fats in butter, lard and red meat raise the risk of early death, but replacing these with fats like olive oil can offer substantial health benefits, a three-decade study confirms.  1 [ 0.25393112] \n",
      "\n",
      "Two thirds of cancers caused by random genetic mistakes - US studyAbout two thirds of cancers are caused by random typos in DNA that occur as normal cells make copies of themselves, a finding that helps explain why healthy individuals who do everything they can to avoid cancer are still stricken with the disease, US researchers said. 0 [ 0.83495274] \n",
      "\n",
      "Famine fears rise after hurricane wrecks Haiti's bread-basketHurricane Matthew tore up large tracts of food crops as well as mature  poorest nation in the Americas.  0 [ 0.77038012] \n",
      "\n",
      "Trump not laughing as paper targets 'brain dead' supportersTrump fired back on Twitter on Wednesday against the New York Daily News, after the tabloid published a photo of Trump edited to make him appear similar to \"The Joker,\" a clown-like villain from the Batman comic series. 1 [ 0.00013342] \n",
      "\n",
      "Chinese nanny admits killing, chopping up employersA Chinese nanny admits in a Paris court to killing and dismembering the parents of a baby who had died in her care, in a gruesome case worthy of a horror movie.  1 [ 0.19442728] \n",
      "\n",
      "Five dead, about 30 injured in attack on UN peacekeepers in MaliAt least five United Nations peacekeepers were killed and some 30 othersKi-moon said on Friday (Feb 12).  1 [ 0.22774345] \n",
      "\n",
      "Football: Klopp loses his glasses celebrating nine-goal Norwich spectacleLiverpool manager Jurgen Klopp lost his glasses as he and his players jubilantly celebrated Adam Lallana's 95th-minute winner in Saturday's remarkable 5-4 victory at Norwich City.  0 [ 0.65620561] \n",
      "\n",
      "At least 13 killed, 31 injured in California tour bus crashA tour bus crashed into the back of a tractor-trailer on a Southern people and injuring 31, authorities said.  0 [ 0.9924566] \n",
      "\n",
      "Cycling: Riders demand probe into death of Antoine Demoitie, hit by motorbike after fallThe Association of Professional Cyclists (CPA) wants an urgent investigation into the death of Belgian Antoine Demoitie at the Gent-Wevelgem classic race over the weekend. 1 [ 0.0004064] \n",
      "\n",
      "Meryl Streep sparks uproar over 'We're all Africans' remarksMeryl Streep, the most admired actress of her generation, fuelled Hollywood's diversity controversy on Thursday when she said that all of humanity originated in Africa.  0 [ 0.50217019] \n",
      "\n",
      "Man gets stuck in public toilet over lost phoneFiremen in Norway came to the rescue of a man who climbed into an outdoor public toilet to retrieve a friend's cellphone, after he got stuck in the tank. 0 [ 0.75545778] \n",
      "\n",
      "Rally in Venice to fight exodus of residents from citySeveral hundred citizens of Venice rally to draw attention to an exodus of residents that they fear is sucking the life out of the fabled Italy city, which is said to be losing about 1,000 residents a year. 0 [ 0.72216834] \n",
      "\n",
      "Endangered northern white rhino dies at California zoo, three remain worldwideA 41-year-old northern white rhino died on Sunday at the San Diego Zoo Safari Park, leaving just three members of the critically endangered species alive worldwide, zoo officials said. 1 [ 0.00762588] \n",
      "\n",
      "Maldives foreign minister rejects Amal Clooney's criticism as 'stories'Maldives Foreign Minister Dunya Maumoon on Monday rejected international human rights lawyer Amal Clooney's criticism that democracy was \"dead\" in the Indian Ocean island. 1 [ 0.00628652] \n",
      "\n",
      "Eighteen migrants die as EU seeks Turkish help to slow influxAt least 18 people drowned trying to cross the Aegean Sea on Sunday operations said.  1 [ 0.03735963] \n",
      "\n",
      "Two rescued Colombian circus lions die at South African refugeTwo lions rescued from circuses in Colombia and brought to a South African refuge in April have died, the organisation that arranged the rescue and airlift operation said on its website. 1 [ 0.01075707] \n",
      "\n",
      "Three people killed in Los Angeles shootoutThree people are killed and at least a dozen more injured when a shooting breaks out after an argument at a pop-up restaurant in Los Angeles, police say.One person has been arrested and police have launched a manhunt for another in connection with the deadly incident.  0 [ 0.90969169] \n",
      "\n",
      "London attacks: Three French schoolchildren hurtThe three students from the Concarneau Lycee in Brittany, western in a statement.  0 [ 0.60125883] \n",
      "\n",
      "Jamie Dornan and Dakota Johnson go darker in Fifty Shades sequelTwo years after the bonkbuster film Fifty Shades of Grey had housewives riding stable.  0 [ 0.78986029] \n",
      "\n",
      "Bangladesh professor hacked to death in suspected Islamist attackUnidentified attackers hacked to death a university professor in killing.  1 [ 0.22407088] \n",
      "\n",
      "Four killed in India-Pakistan cross border firing: officialsTwo children and another civilian were killed along with a soldier in firing across the border between India and Pakistan, officials from both sides said on Monday, as tensions soar between the nuclear-armed rivals. 0 [ 0.53639354] \n",
      "\n",
      "BREAKING: Car bomb in Turkey's south-east kills three-year-old, wounds 15 - news agencyA three-year-old was killed and 15 people were wounded by a car bomb in a southeastern Turkish town, provincial governor Gungor Azim Tuna was quoted as saying by state-run Anadolu news agency.The car exploded outside a housing complex for judges and prosecutors in the town of Viransehir, in Sanliurfa province near the border with Syria. 0 [ 0.53989674] \n",
      "\n",
      "Shenzhen landslide an industrial accident, not geological disaster: GovernmentThe landslide, which struck the southern city of Shenzhen on Sunday (Dec 20), is the latest in a series of fatal man-made accidents in the worlds most populous country, coming just months after a massive chemical blast in the industrial city of Tianjin killed almost 200 people. 0 [ 0.80040146] \n",
      "\n",
      "Wife of Orlando nightclub gunman arrested - US attorney-generalUS authorities have arrested the wife of the gunman who killed 49 people at an Orlando gay nightclub last year, a massacre that intensified fears about \"lone wolf\" attacks against Americans, the US attorney-general said.  0 [ 0.93444943] \n",
      "\n",
      "Coroner's Inquiry into chemist's death: Blast at Jurong gas firm was so strong that it blew workers off their chairsThe October 2015 blast caused the death of Madam Lim Siaw Chian (pictured below), 30, a chemist at Leeden National Oxygen, who had then just returned recently from maternity leave. 1 [ 0.35047663] \n",
      "\n",
      "Star Wars actress Carrie Fisher fights for life after heart attackHollywood star Carrie Fisher was fighting for her life, one day after suffering a massive heart attack near the end of a transatlantic flight.Her brother, Todd Fisher, told The Hollywood Reporter that Fisher was \"out of emergency\" but he later denied media reports that she was in stable condition. 0 [ 0.9509564] \n",
      "\n",
      "Arsenio Hall sues Sinead O'Connor over Prince drug accusationsThe comedian has filed a defamation lawsuit against singer O'Connor after she accused him on her Facebook page of supplying drugs to late music legend Prince.  0 [ 0.59056973] \n",
      "\n",
      "Young Afghan friend of Munich gunman arrested over possible role in shooting - policeGerman police arrested a 16-year-old Afghan youth on Sunday on suspicion of a connection to the killing of nine people by an 18-year-old gunman in Munich, authorities said. 0 [ 0.95224503] \n",
      "\n",
      "Ikea recalls 36 million chests, dressers after six deathsSwedish furniture retailer Ikea Group is recalling almost 36 million chests and dressers in the United States and Canada that have been linked to the deaths of six children.  0 [ 0.67602381] \n",
      "\n",
      "Casulties from explosion at British power station: BBCEmergency services said on Tuesday (Feb 23) they were dealing with an been an explosion at the site and there had been casualties. 0 [ 0.5703642] \n",
      "\n",
      "Portugal's democracy founder Mario Soares dies aged 92Portugal's former president Mario Soares, widely seen as the father of Lisbon, a fortnight after being admitted to hospital.  1 [ 0.47934502] \n",
      "\n",
      "Pakistan female fighter pilot dies in jet crashOne of Pakistan's few female fighter jet pilots was killed in a training crash on Tuesday, the air force said in a statement. 1 [ 0.22507187] \n",
      "\n",
      "Copenhagen gunman targeted controversial artist in deadly attackThe gunman behind a double shooting in Copenhagen last year had intended to kill controversial Swedish artist Lars Vilks when he attacked a cultural centre, a man accused of helping him told a court. 0 [ 0.72467163] \n",
      "\n",
      "Canadian friends find out they were switched at birthAfter living 41 years as friends, two indigenous Canadians confirm that they were switched at birth. Recent DNA tests show that one man was raised by the biological mother of the other.  0 [ 0.63283736] \n",
      "\n",
      "US man claims Apple owes him a fortune for iPhone ideaA Florida man who claims Apple made a killing with his iPhone idea is suing the technology giant seeking billions of dollars. 0 [ 0.798067] \n",
      "\n",
      "Football: My dream has died, says RanieriClaudio Ranieri said his \"dream died\" when he was sacked by Leicester City nine months after leading them to the Premier League title against all the odds.  1 [ 0.02888896] \n",
      "\n",
      "Howls of grief, cries for justice at funeral of girl hit by stray bullets during police opRelatives and friends of a 13-year-old Rio schoolgirl killed by stray bullets during a police operation howled with grief at her burial - and demanded justice.Maria Eduarda Alves da Conceicao was shot on Thursday while in a gym class at her school. 0 [ 0.75587106] \n",
      "\n",
      "Family of Paris attacker at Brussels solidarity vigilHundreds of Belgians joined a candlelight vigil in solidarity with the victims of the Paris attacks on Wednesday.Mohamed Abdeslam - whose brother Brahim blew himself up in Paris while another sibling Salah is still at large - lit a candle on the balcony of the family home. 0 [ 0.85387704] \n",
      "\n",
      "British police chief suspended over Hillsborough disasterChief Constable David Crompton of South Yorkshire Police is accused of covering up failings that led to the death of 96 fans at the Hillsborough soccer stadium in 1989 as lawmakers called for prosecutions. 1 [ 0.03176428] \n",
      "\n",
      "Dozens of University of Michigan students complain of norovirus symptomsAn outbreak of norovirus has caused dozens of students living on the symptoms of the highly contagious disease, the school said.  0 [ 0.82779664] \n",
      "\n",
      "Explosions in Afghan capital Kabul kill at least 24A loud explosion hit the centre of Kabul late on Monday, hours after a Taliban suicide attack near the Defence Ministry killed at least 24 people, including a number of senior security officials, and wounded 91 others, officials said. 0 [ 0.90009353] \n",
      "\n",
      "Canada's fire-ravaged Fort McMurray works to restore utilitiesCrews work to start restoring water and electricity in the Canadian oil hub turned into a ghost town by a towering ring of wildfire that reduced its suburbs to ashes.  0 [ 0.87563246] \n",
      "\n",
      "Three probes launched into tragic France drug trial that left one person brain-deadFrench authorities launch three investigations at a research laboratory in Rennes after a drug trial conducted there left one person brain-dead and three others facing potentially irreversible brain damage. 0 [ 0.59195301] \n",
      "\n",
      "Woman's head in concrete found in Austrian lakeA German pensioner strangled his wife, dismembered her body and encased  (Jan 5). 0 [ 0.98310991] \n",
      "\n",
      "Man dies after climbing on top of Eurostar train in ParisA man believed to be a migrant was electrocuted and died at a Paris railway station after climbing on top of a high-speed Eurostar train due to leave for London, disrupting rail services from the busy terminal.  1 [ 0.0587677] \n",
      "\n",
      "No charges in Cleveland police shooting of 12-year-old boy: prosecutorA grand jury in the US state of Ohio has declined to bring criminal charges against police officers involved in the fatal shooting last year of a 12-year-old boy in Cleveland, a prosecutor said Monday. 0 [ 0.73520692] \n",
      "\n",
      "Man in China slaughtered 19 after family argument: PoliceThe suspect, named Yang Qingpei, confessed to murdering his parents after returning to his hometown village of Yema in Chinas mountainous Yunnan Province and asking them for money. He then killed 17 neighbours, including children, to prevent them from discovering and reporting the murders.  0 [ 0.65912741] \n",
      "\n",
      "Troublemakers spark panic at Seville's Good Friday eventTroublemakers sparked panic at Seville's nighttime Good Friday processions, famed for their religious floats, hooded penitents and crowds of spectators, seriously injuring one person.  0 [ 0.97258225] \n",
      "\n",
      "Painting found in French attic is S$184 million Italian master Caravaggio, say expertsA painting found in the attic of a house in southwest France two years in the history of art.  0 [ 0.92347401] \n",
      "\n",
      "Lyon lights up names of Paris victims in sombre tributeThe French city of Lyon paid tribute Tuesday to the 130 victims of last month's Paris attacks, projecting their names in huge letters on the facades of buildings lining the Saone River.  0 [ 0.88726263] \n",
      "\n",
      "Riots, looting in Venezuela; opposition leaders arrestedVenezuelan authorities said they had arrested two opposition youth leaders, the latest move in a crackdown against ongoing anti-government protests that have left five people dead.  1 [ 0.36639965] \n",
      "\n",
      "Nude Donald Trump painting on show in LondonAn unflattering painting depicting a nude Donald Trump goes on show in London, having being censored in the United States, where its creator claims to have received a thousand death threats from his supporters. 1 [ 0.00694454] \n",
      "\n",
      "  Pope, at 80, looks to 'joyous' old agePope Francis voices hope for a \"fruitful and joyous\" old age, as he kicks off his 80th birthday by sharing breakfast with a group of homeless people. 0 [ 0.8635134] \n",
      "\n",
      "Japanese manga legend Jiro Taniguchi dies at 69Jiro Taniguchi, a legend in Japan's comic art of manga, died on Saturday at the age of 69, his publisher in France, Casterman, announced.No further details of his death were given.Taniguchi achieved an international following with works such as The Walking Man, The Summit Of The Gods and The Magic Mountain, hailed for exquisite line drawing and intricately-constructed landscapes. 1 [ 0.43601228] \n",
      "\n",
      "Australian blogger Belle Gibson guilty over cancer claims, says courtA health blogger who lied about having brain cancer and curing herself through natural therapies was found guilty by an Australian court of misleading the public. 0 [ 0.67472174] \n",
      "\n",
      "Standing ovation for 11-year-old girl's Cinderella opera in ViennaAn 11-year-old British girl has spoken of her immense pride after her opera was given a standing ovation in Vienna where it is playing as part of year end celebrations. Alma Deutscher's own take on Cinderella involves a poet prince being charmed by the melody of a female composer, rather than the singing of her pretentious two half-sisters.  0 [ 0.72356185] \n",
      "\n",
      "Gunmen ambush ambulance in Egypt's Sinai, killing threeGunmen on Sunday shot dead two wounded members of Egypt's security forces in an ambulance after they had been injured by a bombing in the Sinai Peninsula, security officials said. 1 [ 0.34708772] \n",
      "\n",
      "Three US Mormon missionaries injured in Brussels airport attackThree Mormon missionaries from Utah were seriously injured in a deadly Christ of Latter-day Saints said.  0 [ 0.62146274] \n",
      "\n",
      "'I saw the body': New Jersey train crash witnesses describe bloody scene\"There were people right in front of me that had fallen on top, that had toppled over one another, and they had some injuries. The people in front of me were badly injured. And then we just heard people screaming in the first car.\" 0 [ 0.50641156] \n",
      "\n",
      "Maoist cult leader Aravindan Balakrishnan jailed 23 years for raping followersBalakrishnan was convicted in December of offences spanning almost 34 years including child cruelty, false imprisonment, rape and indecent assault. 0 [ 0.92316924] \n",
      "\n",
      "Four more years of cheap oil: OpecThe Opec oil cartel sees only a gradual improvement in the global crude market, with prices recovering to above US$70 a barrel after four years, according to a report.  0 [ 0.80475028] \n",
      "\n",
      "Seven dead in raid on Iraqi gas plant claimed by ISISSuicide attackers stormed a gas plant north of Baghdad on Sunday (May (ISIS).  1 [ 0.02157772] \n",
      "\n",
      "JUST IN: Chinese nanny gets 20 years for Paris double murderA Paris court on Friday handed a 20-year jail term to a Chinese nanny who killed and cut up her employers after their two-month-old baby died in her care. 1 [ 0.42809763] \n",
      "\n",
      "'I thought I was going to die': Billionaire Richard Branson in harrowing bike crashBranson, 66, was cycling downhill in the British Virgin Islands with his two children when he hit a hump in the dark. \"The next thing I knew, I was being hurled over the handlebars and my life was literally flashing before my eyes,\" he said in a blog post.  1 [ 0.22869599] \n",
      "\n",
      "Police seek man in Texas shooting that killed oneIt was unclear whether the shooter knew any of the victims, said police. 0 [ 0.62700983] \n",
      "\n",
      "Pope wants Mexico free of 'merchants of death'Pope Francis urged Mexicans on Sunday (Feb 14) to turn their country victims \"of the merchants of death.\"  1 [ 0.00026655] \n",
      "\n",
      "Update: Dozens dead in Ethiopia stampede after police tear gas protestersMore than 50 people were killed in a stampede in Ethiopia's Oromiya region that was triggered when police used teargas and shot in the air on Sunday to disperse anti-government protesters at a religious festival. 1 [ 0.01874964] \n",
      "\n",
      "Latest: Prison riot in Brazil leaves at least 30 inmates dead, some beheadedAt least 30 inmates have been killed in a prison riot in northeastern Brazil, the latest in a wave of uprisings in the country's overcrowded prisons that have killed nearly 140 this year. 1 [ 0.40658394] \n",
      "\n",
      "Suicide bomber kills 25 south of Baghdad: PoliceA suicide bomber blew himself up in a crowd on Friday (March 25) after a local  police and medics said. 0 [ 0.56296319] \n",
      "\n",
      "Damien Hirst works leaked formaldehyde gas: studyIconic works of art by the British artist involving dead animals preserved in giant tanks leaked potentially dangerous gas during a show at London's Tate Modern gallery 1 [ 0.05027681] \n",
      "\n",
      "Sailing: British crew member dies in Round the World raceA British crew member in the Clipper Round the World Yacht Race has died after being swept overboard in strong winds. Sarah Young was on board in wind speeds of up to 40 knots but was not tethered in. 1 [ 0.01784458] \n",
      "\n"
     ]
    }
   ],
   "source": [
    "for i,j,k in zip( wrong,wrong_y,wrong_pred)[0:]:\n",
    "    id_wrong = np.argmax(np.sum(np.array([data['wordVec2']]) == list(i),(0,2)))\n",
    "    # print text, label, prediction\n",
    "    print data.iloc[id_wrong]['data_clean'],j,k,'\\n'"
   ]
  },
  {
   "cell_type": "markdown",
   "metadata": {},
   "source": [
    "# CORECT predictions "
   ]
  },
  {
   "cell_type": "code",
   "execution_count": 25,
   "metadata": {
    "collapsed": false
   },
   "outputs": [
    {
     "data": {
      "text/plain": [
       "(1173, 80)"
      ]
     },
     "execution_count": 25,
     "metadata": {},
     "output_type": "execute_result"
    }
   ],
   "source": [
    "# find the correct answers\n",
    "wrong = X_test[(y_test == (y_pred_test[:,0]>0.5)*1)]\n",
    "wrong_y = y_test[(y_test == (y_pred_test[:,0]>0.5)*1)]\n",
    "wrong_pred = y_pred_test[(y_test == (y_pred_test[:,0]>0.5)*1)]\n",
    "wrong.shape"
   ]
  },
  {
   "cell_type": "code",
   "execution_count": 26,
   "metadata": {
    "collapsed": false
   },
   "outputs": [
    {
     "name": "stdout",
     "output_type": "stream",
     "text": [
      "Twilight's Kristen Stewart tells Elle UK she's 'really in love with my girlfriend'American actress Kristen Stewart, who played the girlfriend of Robert Pattinson in the Twilight movie series and subsequently in real life, is for the first time speaking publicly of her current love interest - another woman. 0 [ 0.04554121] \n",
      "\n",
      "Unsung heroes of Paris attacks honoured at concertSome 12,000 emergency and health workers, security officials and others honoured at a concert on Monday (Dec 21) in Paris.  0 [ 0.05070087] \n",
      "\n",
      "Olympics: IOC under fire for 'confusing mess' after letting Russia escape blanket doping banThe International Olympic Committee on Sunday decided against hitting Russia with a blanket ban from the Rio Games over state-run doping, sparking an immediate backlash from groups that had demanded bold action against cheating. 0 [ 0.00377355] \n",
      "\n",
      "Football: Spain's Maria Villar withdraws bid for Uefa top jobAngel Maria Villar, the head of Spain's football association, announces he has withdrawn his bid to replace the banned Michel Platini as president of Uefa. His surprise defection leaves just two candidates for European football's top job - Aleksander Ceferin of Slovenia and Dutchman Michael van Praag. 0 [  1.02858169e-05] \n",
      "\n",
      "Tennis: Garbine Muguruza, Shelby Rogers into quarters, rain holds up others at French OpenGarbine Muguruza of Spain blazed into the French Open quarter-finals for the third straight year on Sunday, defeating former champion Svetlana Kuznetsova 6-3, 6-4. 0 [ 0.00389613] \n",
      "\n",
      "France calls on Turkey to stop bombing Kurdish zones in SyriaThe French Foreign Ministry called on Turkey to halt bombardments of 14).  0 [ 0.02002108] \n",
      "\n",
      "Football: Man City and Spurs stumble as Arsenal advanceManchester City twice miss penalties in a 1-1 draw with Everton,as 10-man Arsenal go level with them on points at the top of the Premier League table after seeing off Swansea 3-2.  0 [ 0.00117612] \n",
      "\n",
      "Golf: Chun In Gee edges ahead in final majorRookie Chun In Gee posts a super 66 to edge ahead of the field at the halfway stage of the Evian Championship, the final major of the season. 0 [  1.06963940e-05] \n",
      "\n",
      "Facebook disrupts suspected spam operationFacebook said it disrupted an international fake account operation that was firing off inauthentic \"likes\" and bogus comments to win friends it would then pound with spam. 0 [ 0.00625584] \n",
      "\n",
      "Killing Fields reporter Sydney Schanberg dead at 82Sydney Schanberg, the Pulitzer Prize-winning correspondent who chronicled the Khmer Rouge's brutal rise to power in Cambodia in the 1970s, died Saturday at age 82. 1 [ 0.99696994] \n",
      "\n",
      "9/11 victims honoured at Ground Zero on 15th anniversaryThe moments of silence was observed at 8.46am (8.46pm Singapore time) - Airport Cargo Terminal early on Sunday morning (Sept 11).  0 [ 0.00102731] \n",
      "\n",
      "Global leaders agree to set price on carbon pollutionSix world leaders and the heads of powerful multilateral organisations agreed Thursday to push for broader implementation of carbon pricing schemes to accelerate the fight against global warming. 0 [ 0.00055229] \n",
      "\n",
      "At least 10 reported dead after explosion in Philippine city DavaoAt least 10 people are reported to have died and dozens have been injured in an explosion in the Philippine President's home city of Davao. Presidential spokesman Ernie Abella told CNN Philippines that there were at least 10 deaths and 60 injuries, according to an online report.  1 [ 0.93453562] \n",
      "\n",
      "Gunmen storm beach restaurant in Somali capital Mogadishu: AFPSeveral gunman attacked a beachfront restaurant in the Somali capital Mogadishu on Thursday (Aug 25), prompting an exchange of fire with the security forces, an AFP correspondent said.  0 [ 0.04647185] \n",
      "\n",
      "Clashes, artillery fire in Aleppo after truce expires: MonitorHeavy clashes between regime and rebel forces erupt in several areas of Syrias divided Aleppo city after a unilateral ceasefire announced by government ally Russia expires. 0 [ 0.0190951] \n",
      "\n",
      "Football: Mahrez magic keeps Leicester flying highLeicester took a five-point lead at the top of the Premier League as a wonderful strike by Riyad Mahrez sealed a 1-0 at Watford on Saturday that boosted their hopes of a fairytale title triumph.  0 [ 0.00794112] \n",
      "\n",
      "Israeli police question Prime Minister Benjamin Netanyahu over alleged gifts - mediaPolice investigators began questioning Prime Minister Benjamin Netanyahu at his official residence in Jerusalem on Monday (Jan 2, 2017) on suspicion of receiving gifts from businessmen in breach of his role as a public servant, Israeli media said. 0 [ 0.05149659] \n",
      "\n",
      "Keyless systems of many Volkswagen Group cars can be hacked, say researchersTens of millions of vehicles sold by Volkswagen AG over the past 20 years, and some current models, are vulnerable to theft because keyless entry systems can be hacked using cheap technical devices, say European researchers. 0 [ 0.00797208] \n",
      "\n",
      "Hasna Aitboulahcen did not blow herself up in Paris raid: PoliceThe woman found dead after a ferocious police assault on an apartment building targeting the suspected ringleader of the Paris attacks, did not die in a suicide bombing, a police source said Friday. 1 [ 0.51075318] \n",
      "\n",
      "Turkey vows to cleanse ISIS from its border after wedding attack kills 54Turkey vowed on Monday to \"completely cleanse\" ISIS militants from its border region, after a suspected suicide bomber with links to the group killed 54 people, including 22 children, at a Kurdish wedding.  0 [ 0.01888976] \n",
      "\n",
      "Arrests as protesters clash near Republican conventionPolice arrest several people outside the Republican National Convention in Cleveland as clashes erupt when protesters try to burn American flags. 0 [ 0.01578185] \n",
      "\n",
      "US travel 'extreme vetting' to include social media, phone contactsTravellers from seven predominantly Muslim countries singled out for \"extreme vetting\" will face scrutiny of their social media footprint and phone records, new Homeland Security secretary John Kelly said. 0 [  6.79795838e-05] \n",
      "\n",
      "Donald Trump takes perilous first steps on world stageFrom Riyadh to Jerusalem, Bethlehem, Rome, Brussels and Sicily, Donald Trump left a swirl of domestic woes behind Friday (May 19) as he embarked on a first foreign trip that will be closely watched in capitals the world over. 0 [  3.19934946e-05] \n",
      "\n",
      "Carnival roars ahead in Brazil despite Zika health scareThe worst health scare in recent history is not keeping Brazilians from viruses.  0 [ 0.01069791] \n",
      "\n",
      "Turkey's President Erdogan urges Muslims to overcome splits, fight terror at Islamic summitTurkish President Recep Tayyip Erdogan on Thursday urged dozens of Muslim leaders gathered for a summit in Istanbul to end sectarian divisions in the Islamic world and join forces to fight terror. 0 [ 0.0193612] \n",
      "\n",
      "Donald Trump says NRA gun lobby has 'friend' in White HouseThe United States' powerful gun lobby has \"a true friend and champion in the White House,\" President Donald Trump said in an address to the National Rifle Association. \"The eight-year assault on your Second Amendment freedoms has come to a crashing end,\" Trump told the cheering crowd in Atlanta, Georgia.  0 [ 0.00637626] \n",
      "\n",
      "Golf: Woods undergoes back surgery, could be out six monthsFormer world number one Tiger Woods says he has undergone further surgery to help alleviate pain in his back and leg and could be away from competitive golf for another six months.  0 [ 0.00016012] \n",
      "\n",
      "Cameron announces $19 billion in UK-India deals during Modi visitPrime Minister David Cameron said British and Indian companies will announce deals worth a total of 9 billion (S$19 billion) during his Indian counterpart Narendra Modi's visit to Britain. 0 [ 0.00780093] \n",
      "\n",
      "Earth's climate past points to overheated future: studyTheplanet may grow intolerably hot even if greenhouse gases in the atmosphere remain at current levels, according to the first two-million-year reconstruction of surface temperatures, published on Monday. 0 [ 0.00042496] \n",
      "\n",
      "Tennis: Djokovic mentally recharged ahead of Paris MastersWorld number one Novak Djokovic, who will defend his Paris Masters titledrained since his French Open success in June.  0 [  3.44744355e-06] \n",
      "\n",
      "Clinton camp says FBI should say what it knows about Trump's Russia tiesA top aide to Hillary Clinton urged the FBI on Tuesday (Nov 1) to disclose what it knows about any ties between Donald Trump and Russia.  0 [ 0.00144531] \n",
      "\n",
      "US President Donald Trump tells manufacturers he will cut regulations, taxesUS President Donald Trump met with a dozen prominent American manufacturers at the White House on Monday, promising them he would slash regulations and cut corporate taxes, but warning them of penalties if they moved production outside the country. 0 [ 0.00631916] \n",
      "\n",
      "US markets tumble on sinking crude pricesAnother sharp fall in oil prices pulls down energy stocks on Wall Street, pushing the main US indices to a loss after last week's record highs. Meanwhile, Yahoo shares tumble after Verizon announces it will buy the company's web properties for US$4.8 billion (S$6.53 billion).  0 [ 0.00010118] \n",
      "\n",
      "Belgium charges suspect with terrorism over Paris attacksBelgium on Friday charged one suspect with involvement in terrorism over the Paris attacks and released one other as part of a separate investigation into suicide bomber Hadfi Bilal, prosecutors said. 0 [ 0.21528248] \n",
      "\n",
      "Football: Neymar gets Barca go-ahead for Olympics, not CopaBrazil coach Dunga had been hoping to have the influential striker at both tournaments, but Barca wants him to be well rested over the summer before the domestic season.  0 [  2.47683107e-05] \n",
      "\n",
      "11 killed, 12 injured in Costa Rica bus plunge - emergency officialsA bus plunges off a steep road in a mountainous area north of Costa Rica's capital, killing 11 people on board and injuring 12, according to rescue officials.The passengers were retired staff members of Costa Rica's National University on their way to an indigenous reserve to carry out social work.  0 [ 0.37321336] \n",
      "\n",
      "Brexit aftermath: Crude oil prices slammed after Britain votes to leave EUBritain's surprise vote to leave the European Union drives a sharp oil selloff, with crude prices sinking around 5 per cent on worries that global growth could slow further.  0 [ 0.00184378] \n",
      "\n",
      "A Whopper in a sauna: Burger King spa opens in FinlandBurger King is taking the experience of dining on burgers and fries to a new level - by opening its first spa in Finland. It featuresa 15-person sauna, shower and locker rooms, and a media lounge with a 55-inch TV and a Playstation 4 console. 0 [ 0.30494579] \n",
      "\n",
      "Football: Michel Platini wants to 'formally resign' at Sept 14 Uefa congressPlatini, currently serving a four-year ban from all football, wants to \"formally resign\" as Uefa president at the organisation's elective congress when his successor will be named.  0 [ 0.00028227] \n",
      "\n",
      "World stocks slide on China's weakening economic outlook and oil worriesWorld stocks fell on Monday as a weakening economic outlook for powerhouse China and renewed falls in the oil price prompted a sell-off. 0 [ 0.00012753] \n",
      "\n",
      "'Do for Hillary what you did for me,' Obama urges AmericansPresident Barack Obama on Monday (Nov 7) urged Americans to make history and reject the \"mean-spirited\" politics of Donald Trump.  0 [ 0.00032066] \n",
      "\n",
      "Landmark Brexit court ruling due in new yearBritain's Supreme Court will reveal early next year the result of the government's appeal against a ruling that it cannot unilaterally trigger Brexit. The 11 Supreme Court judges wrapped up four days of hearings with court president David Neuberger resolving to reach a prompt decision.  0 [ 0.0132347] \n",
      "\n",
      "Militant Kurdish group claims Ankara attack: StatementA militant Kurdish group linked to the outlawed Kurdistan Workers Party (PKK) on Friday claimed the suicide bombing in Ankara this week on the Turkish military that killed 28 people. 0 [ 0.4849297] \n",
      "\n",
      "Football: Chinese buyers 'committed' to AC Milan purchaseA Chinese consortium that has made a mammoth down payment to buy seven-time European champions AC Milan has reiterated its \"commitment\" to completing the deal after missing yet another deadline on Friday. 0 [  5.15373650e-05] \n",
      "\n",
      "Golf: Day warms up on cold day at Arnold Palmer InvitationalDefending champion Jason Day coped with \"brutally chilly\" temperatures to finish three strokes behind early first-round leader Emiliano Grillo at the Arnold Palmer Invitational in Florida. 0 [ 0.0007114] \n",
      "\n",
      "Galaxy S8 details revealed, including 'infinity' display and iris scanner - reportDetails about Samsung's Galaxy S8 smartphone have been revealed in a Guardian report citing \"well placed sources\" of the South Korean manufacturer. The company's newflagship phone - due to go on sale around April 21 - willcome in two sizes, have an almost bezel-less, edge-to-edge infinity display and an iris scanner. 0 [ 0.00082923] \n",
      "\n",
      "Tennis: Milos Raonic overpowers David Goffin to reach Indian Wells finalBig-serving Canadian Milos Raonic overcame a second-set wobble to reach the final of the BNP Paribas Open with a 6-3 3-6 6-3 victory over Belgian David Goffin in California.  0 [  1.30449172e-05] \n",
      "\n",
      "Obama to force through gun control measuresPresident Barack Obama is poised to unveil a raft of executive actions with a show of political power.  0 [ 0.00153691] \n",
      "\n",
      "Dutch unveil study into Indonesia colonial conflictThe Dutch government announces a new study into a colony four years after the end of World War II.  0 [ 0.06256054] \n",
      "\n",
      "Swiss extradite Fifa official Napout to US in corruption probeFifa vice-president Juan Angel Napout, president of the South American soccer confederation Conmebol, was extradited to the United States on Tuesday to face corruption charges. 0 [  7.27938475e-05] \n",
      "\n",
      "Rain fails to dampen spirits as Singapore welcomes 2016Excited party-goers filled the Marina Bay area in anticipation of the nation's largest countdown celebration and they were not disappointed. Despiteintermittent rain since afternoon, the grey overcast sky cleared just in time for the magic hour. 0 [ 0.00187764] \n",
      "\n",
      "EU to end internal Schengen controls triggered by migrant crisis by NovemberEU countries that imposed border controls in the passport-free Schengen area because of the migrant crisis should end them by November, Brussels said on Tuesday. Austria, Denmark, Germany, Sweden and non-EU Norway introduced the ID checks in 2015 and have been allowed to repeatedly prolong them at set intervals. 0 [ 0.00116876] \n",
      "\n",
      "Tennis: Serena survives scare to reach Wimbledon third roundDefending champion Serena Williams survives a major scare from US compatriot Christina McHale in a thrilling Wimbledon second-round encounter.  0 [  2.07698313e-05] \n",
      "\n",
      "Istanbul riot police break up LGBT rallyTurkish riot police fired rubber bullets and tear gas to break up a defiance of a ban.  0 [ 0.15904545] \n",
      "\n",
      "Rouhani in, Ahmadinejad out as Iran Guardians pick vote candidatesPresident Hassan Rouhani was among six candidates approvedby Iran's conservative-dominated Guardian Council to run in next month's election while former leader Mahmoud Ahmadinejad above) was barred. 0 [ 0.00130269] \n",
      "\n",
      "Queen Elizabeth love letter sold for almost S$29,000 at auctionA rare handwritten letter from a young Queen Elizabeth II telling the story of her romance with Prince Philip before their 1947 wedding has been sold at auction. 0 [ 0.09668434] \n",
      "\n",
      "Tennis: Kerber advances as Venus is ousted in CharlestonSeven-time Grand Slam champion Venus Williams will have to wait for a 50th career WTA title after bowing out in the third round of the claycourt tournament in Charleston, South Carolina. 0 [  5.09224042e-05] \n",
      "\n",
      "Heat kills: Global warming surge may rout Great Barrier Reefs natural defencesA heat surge from global warming would overwhelm the natural ability of coral in Australia's Great Barrier Reef to survive seasonal temperature changes, in much the way sun bathers would burn if they did not build their tan slowly. 0 [ 0.02229287] \n",
      "\n",
      "60 inmates killed, many beheaded, in Brazil riot: officialsRioting inmates in Brazil decapitated and brutally assaulted their rivals, killing at least 60, when fighting erupted between two gangs at a prison in the Amazon region, officials said Monday. 0 [ 0.1680296] \n",
      "\n"
     ]
    }
   ],
   "source": [
    "for i,j,k in zip( wrong,wrong_y,wrong_pred)[0::20]:\n",
    "    id_wrong = np.argmax(np.sum(np.array([data['wordVec2']]) == list(i),(0,2)))\n",
    "    # print text, label, prediction\n",
    "    print data.iloc[id_wrong]['data_clean'],j,k,'\\n'"
   ]
  }
 ],
 "metadata": {
  "kernelspec": {
   "display_name": "Python 2",
   "language": "python",
   "name": "python2"
  },
  "language_info": {
   "codemirror_mode": {
    "name": "ipython",
    "version": 2
   },
   "file_extension": ".py",
   "mimetype": "text/x-python",
   "name": "python",
   "nbconvert_exporter": "python",
   "pygments_lexer": "ipython2",
   "version": "2.7.13"
  }
 },
 "nbformat": 4,
 "nbformat_minor": 2
}
